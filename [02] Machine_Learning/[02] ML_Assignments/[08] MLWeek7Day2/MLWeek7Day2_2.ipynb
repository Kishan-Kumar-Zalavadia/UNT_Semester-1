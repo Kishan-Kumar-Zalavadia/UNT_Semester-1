{
  "cells": [
    {
      "cell_type": "markdown",
      "metadata": {
        "id": "8yBy-jmvsd63"
      },
      "source": [
        "## Course: CSCE 5215 Machine Learning\n",
        "\n",
        "## Professor: Zeenat Tariq\n",
        "\n",
        "## Activity 6\n"
      ]
    },
    {
      "cell_type": "markdown",
      "metadata": {
        "id": "zyNtDPQDSQFV"
      },
      "source": [
        "### Implementation of Linear Regression from Scratch\n",
        "\n",
        "Linear regression is a supervised learning algorithm used for regression tasks, where the goal is to predict a continuous output variable based on one or more input features.\n"
      ]
    },
    {
      "cell_type": "code",
      "execution_count": 76,
      "metadata": {
        "id": "HGVOQ8nfKCgb"
      },
      "outputs": [],
      "source": [
        "import matplotlib.pyplot as plt\n",
        "import numpy as np\n",
        "from sklearn.datasets import load_breast_cancer, load_diabetes, load_iris\n",
        "from sklearn.model_selection import train_test_split\n",
        "from sklearn.metrics import f1_score, accuracy_score, precision_score, recall_score\n",
        "from IPython.display import Image\n",
        "from sklearn.metrics import accuracy_score\n",
        "from sklearn.model_selection import GridSearchCV\n",
        "from sklearn.linear_model import LogisticRegression\n",
        "from sklearn.metrics import f1_score, accuracy_score, precision_score, recall_score\n"
      ]
    },
    {
      "cell_type": "markdown",
      "source": [
        "One way to think about gradient descent is. that you start at some arbitrary point on the surface, look to see in which direction is the “hill”"
      ],
      "metadata": {
        "id": "nhUlO7kShMpn"
      }
    },
    {
      "cell_type": "code",
      "source": [
        "Image(url=\"https://i.stack.imgur.com/mZ9UU.png\")"
      ],
      "metadata": {
        "colab": {
          "base_uri": "https://localhost:8080/",
          "height": 302
        },
        "id": "2QxKR3KRLgxH",
        "outputId": "b17c17d7-3584-45f3-a1db-5b11b205ceff"
      },
      "execution_count": 77,
      "outputs": [
        {
          "output_type": "execute_result",
          "data": {
            "text/html": [
              "<img src=\"https://i.stack.imgur.com/mZ9UU.png\"/>"
            ],
            "text/plain": [
              "<IPython.core.display.Image object>"
            ]
          },
          "metadata": {},
          "execution_count": 77
        }
      ]
    },
    {
      "cell_type": "code",
      "source": [
        "Image(url=\"https://i.stack.imgur.com/WYEux.png\")"
      ],
      "metadata": {
        "colab": {
          "base_uri": "https://localhost:8080/",
          "height": 299
        },
        "id": "ARrCEwxjLk0U",
        "outputId": "02794f99-da33-4f7b-be56-e45a5c41fa14"
      },
      "execution_count": 78,
      "outputs": [
        {
          "output_type": "execute_result",
          "data": {
            "text/html": [
              "<img src=\"https://i.stack.imgur.com/WYEux.png\"/>"
            ],
            "text/plain": [
              "<IPython.core.display.Image object>"
            ]
          },
          "metadata": {},
          "execution_count": 78
        }
      ]
    },
    {
      "cell_type": "markdown",
      "source": [
        "**Implimenting Linear regression from scratch**"
      ],
      "metadata": {
        "id": "JBzU6qhjEfAb"
      }
    },
    {
      "cell_type": "code",
      "source": [
        "Image(url=\"https://miro.medium.com/v2/resize:fit:1400/1*GSAcN9G7stUJQbuOhu0HEg.png\")"
      ],
      "metadata": {
        "colab": {
          "base_uri": "https://localhost:8080/",
          "height": 561
        },
        "id": "jpy3qZxgGAIl",
        "outputId": "f2e75890-dfed-440b-e7d8-ea318d2ac501"
      },
      "execution_count": 79,
      "outputs": [
        {
          "output_type": "execute_result",
          "data": {
            "text/html": [
              "<img src=\"https://miro.medium.com/v2/resize:fit:1400/1*GSAcN9G7stUJQbuOhu0HEg.png\"/>"
            ],
            "text/plain": [
              "<IPython.core.display.Image object>"
            ]
          },
          "metadata": {},
          "execution_count": 79
        }
      ]
    },
    {
      "cell_type": "markdown",
      "source": [
        "LinearRegression fits a linear model with coefficients w = (w1, …, wp) to minimize the residual sum of squares between the observed targets in the dataset"
      ],
      "metadata": {
        "id": "uKkYBwObhy2i"
      }
    },
    {
      "cell_type": "code",
      "execution_count": 80,
      "metadata": {
        "id": "6Lk8zHmBOzET"
      },
      "outputs": [],
      "source": [
        "class LinearRegression:\n",
        "    def __init__(self, lr=0.001, n_iters=10):\n",
        "        self.lr = lr\n",
        "        self.n_iters = n_iters\n",
        "        self.weights = None\n",
        "        self.bias = None\n",
        "\n",
        "    def fit(self, X, y):\n",
        "        n_samples, n_features = X.shape\n",
        "        self.weights = np.random.random(n_features)\n",
        "        self.bias = np.random.random(1)\n",
        "\n",
        "        for _ in range(self.n_iters):\n",
        "            y_pred = np.dot(X, self.weights) + self.bias\n",
        "\n",
        "            dw = (1 / n_samples) * np.dot(X.T, (y_pred - y))\n",
        "            db = (1 / n_samples) * np.sum(y_pred - y)\n",
        "\n",
        "            self.weights = self.weights - self.lr * dw\n",
        "            self.bias = self.bias - self.lr * db\n",
        "\n",
        "    def predict(self, X):\n",
        "        return np.dot(X, self.weights) + self.bias"
      ]
    },
    {
      "cell_type": "markdown",
      "source": [
        "Loading the data"
      ],
      "metadata": {
        "id": "XS12yl30GEka"
      }
    },
    {
      "cell_type": "code",
      "source": [
        "data = load_diabetes()\n",
        "X =data.data\n",
        "y=data.target"
      ],
      "metadata": {
        "id": "t_E4zF3cMQVf"
      },
      "execution_count": 81,
      "outputs": []
    },
    {
      "cell_type": "markdown",
      "metadata": {
        "id": "QyMcjezUq2RI"
      },
      "source": [
        "Use train_test_split function to split the dataset into training and testing sets. The training set consists of 80% of the data, and the testing set contains the remaining 20%. The random seed of 1234 ensures reproducibility of the split.\n"
      ]
    },
    {
      "cell_type": "code",
      "execution_count": 82,
      "metadata": {
        "id": "cj9YtiLxq65S"
      },
      "outputs": [],
      "source": [
        "# Splitting the dataset into training and testing sets\n",
        "x_train, x_test, y_train, y_test  = train_test_split(X, y, test_size=0.2, random_state=1234)"
      ]
    },
    {
      "cell_type": "markdown",
      "metadata": {
        "id": "T3bVKOswrUbV"
      },
      "source": [
        "An instance of the LinearRegression class is created with a learning rate of 0.01. The model is trained on the training data (X_train and y_train) using the fit method.\n"
      ]
    },
    {
      "cell_type": "code",
      "execution_count": 83,
      "metadata": {
        "id": "tbwHSZRerU-H"
      },
      "outputs": [],
      "source": [
        "# Initializing and training a linear regression model\n",
        "reg = LinearRegression(lr=0.01)\n",
        "reg.fit(x_train, y_train)"
      ]
    },
    {
      "cell_type": "markdown",
      "metadata": {
        "id": "8s-xaVbPjD_u"
      },
      "source": [
        "The trained model is used to make predictions on the test set (X_test), and store the predicted values in predictions.\n"
      ]
    },
    {
      "cell_type": "code",
      "execution_count": 84,
      "metadata": {
        "id": "0vWSubsIjE2O",
        "colab": {
          "base_uri": "https://localhost:8080/"
        },
        "outputId": "65acd94c-7efc-46b9-a4c9-751cac9f4909"
      },
      "outputs": [
        {
          "output_type": "execute_result",
          "data": {
            "text/plain": [
              "array([15.35824968, 15.24932774, 15.03356907, 14.99895647, 14.99213402,\n",
              "       15.2310342 , 15.31979069, 15.16715319, 15.10186332, 15.26168991,\n",
              "       14.97493837, 15.34209939, 15.17421797, 15.24741232, 15.14001902,\n",
              "       15.21134736, 15.0908676 , 15.131002  , 15.50544235, 15.28105629,\n",
              "       15.25054458, 15.10714634, 15.06967532, 15.37689065, 15.34037206,\n",
              "       15.40583029, 15.03570169, 15.47271306, 15.31683936, 14.94171465,\n",
              "       15.08390584, 15.13486152, 15.08642702, 15.00646486, 15.23787692,\n",
              "       15.39108233, 15.40586858, 14.94371057, 15.35166162, 15.04858218,\n",
              "       15.24330151, 15.14004651, 15.38823207, 15.10361423, 15.23820081,\n",
              "       15.10045882, 15.11511418, 15.30184251, 15.10255239, 15.27679468,\n",
              "       15.13567322, 15.19911419, 15.32329269, 15.0939519 , 15.05757925,\n",
              "       15.23413674, 15.30438661, 15.19007501, 15.3829834 , 15.18543132,\n",
              "       14.98107649, 15.35239867, 15.26855864, 15.17915789, 15.27473192,\n",
              "       15.45773548, 15.30248322, 15.29789821, 15.21344117, 15.34336036,\n",
              "       14.93137693, 15.21339762, 15.2949479 , 15.05019388, 15.24029888,\n",
              "       15.3087602 , 15.12698734, 15.28831589, 15.28671247, 15.44516265,\n",
              "       15.22351843, 14.96342519, 15.11932541, 15.24835497, 15.04860691,\n",
              "       15.04446235, 15.34007878, 15.11430787, 15.38934183])"
            ]
          },
          "metadata": {},
          "execution_count": 84
        }
      ],
      "source": [
        "# Making predictions on the test set\n",
        "predictions = reg.predict(x_test)\n",
        "predictions"
      ]
    },
    {
      "cell_type": "markdown",
      "metadata": {
        "id": "TuBQgsi2jPif"
      },
      "source": [
        "Define a function called mse that calculate the mean squared error (MSE) between the true target values (y_test) and the predicted values (predictions).\n"
      ]
    },
    {
      "cell_type": "code",
      "execution_count": 85,
      "metadata": {
        "id": "56SFEADJjP7o"
      },
      "outputs": [],
      "source": [
        "# Defining a function to calculate mean squared error (MSE)\n",
        "def mse(y_test, predictions):\n",
        "    return np.mean((y_test - predictions) ** 2)"
      ]
    },
    {
      "cell_type": "code",
      "source": [
        "print(mse(y_test, predictions))"
      ],
      "metadata": {
        "colab": {
          "base_uri": "https://localhost:8080/"
        },
        "id": "uhhwfqBSKX2t",
        "outputId": "430cc6e8-cfd5-494f-f178-d924f1de043f"
      },
      "execution_count": 86,
      "outputs": [
        {
          "output_type": "stream",
          "name": "stdout",
          "text": [
            "24053.462129123734\n"
          ]
        }
      ]
    },
    {
      "cell_type": "markdown",
      "source": [
        "**Implementation of Logistic Regression from Scratch**"
      ],
      "metadata": {
        "id": "Nibma5YXbIPy"
      }
    },
    {
      "cell_type": "markdown",
      "source": [
        "A sigmoid function is a bounded, differentiable, real function that is defined for all real input values and has a non-negative derivative at each point and exactly one inflection point."
      ],
      "metadata": {
        "id": "BFLhHluGiDpf"
      }
    },
    {
      "cell_type": "code",
      "source": [
        "Image(url=\"https://qph.cf2.quoracdn.net/main-qimg-0c921e324b298fdc72027d25ee584db3.webp\")"
      ],
      "metadata": {
        "colab": {
          "base_uri": "https://localhost:8080/",
          "height": 211
        },
        "id": "OGVtjv2zGZvL",
        "outputId": "60d332de-13a6-46a0-ed02-5f415247b13b"
      },
      "execution_count": 87,
      "outputs": [
        {
          "output_type": "execute_result",
          "data": {
            "text/html": [
              "<img src=\"https://qph.cf2.quoracdn.net/main-qimg-0c921e324b298fdc72027d25ee584db3.webp\"/>"
            ],
            "text/plain": [
              "<IPython.core.display.Image object>"
            ]
          },
          "metadata": {},
          "execution_count": 87
        }
      ]
    },
    {
      "cell_type": "markdown",
      "source": [
        "Softmax is an activation function that scales numbers/logits into probabilities."
      ],
      "metadata": {
        "id": "Q1nOkIcPiFMN"
      }
    },
    {
      "cell_type": "code",
      "source": [
        "Image(url=\"https://miro.medium.com/v2/resize:fit:728/1*ui7n5s48-qNF7BBGfDPioQ.png\")"
      ],
      "metadata": {
        "colab": {
          "base_uri": "https://localhost:8080/",
          "height": 144
        },
        "id": "d68I_BCdGxQG",
        "outputId": "098c2f73-f713-465f-ec94-7b6e6ed19d55"
      },
      "execution_count": 88,
      "outputs": [
        {
          "output_type": "execute_result",
          "data": {
            "text/html": [
              "<img src=\"https://miro.medium.com/v2/resize:fit:728/1*ui7n5s48-qNF7BBGfDPioQ.png\"/>"
            ],
            "text/plain": [
              "<IPython.core.display.Image object>"
            ]
          },
          "metadata": {},
          "execution_count": 88
        }
      ]
    },
    {
      "cell_type": "code",
      "source": [
        "Image(url=\"https://miro.medium.com/v2/resize:fit:1400/1*ReYpdIZ3ZSAPb2W8cJpkBg.jpeg\")"
      ],
      "metadata": {
        "colab": {
          "base_uri": "https://localhost:8080/",
          "height": 511
        },
        "id": "McyUANggHBwV",
        "outputId": "e4392415-8a21-42dc-9b37-49eac3fec2cb"
      },
      "execution_count": 89,
      "outputs": [
        {
          "output_type": "execute_result",
          "data": {
            "text/html": [
              "<img src=\"https://miro.medium.com/v2/resize:fit:1400/1*ReYpdIZ3ZSAPb2W8cJpkBg.jpeg\"/>"
            ],
            "text/plain": [
              "<IPython.core.display.Image object>"
            ]
          },
          "metadata": {},
          "execution_count": 89
        }
      ]
    },
    {
      "cell_type": "markdown",
      "source": [
        "Logistic regression is a data analysis technique that uses mathematics to find the relationships between two data factors"
      ],
      "metadata": {
        "id": "5BGeJjeOiP1x"
      }
    },
    {
      "cell_type": "code",
      "execution_count": 90,
      "metadata": {
        "id": "pYjSAe5YKCgj"
      },
      "outputs": [],
      "source": [
        "class LogisticRegression:\n",
        "    def __init__(self, learning_rate=0.001, n_iters=10, model=None, thr=0.5):\n",
        "        self.lr = learning_rate\n",
        "        self.n_iters = n_iters\n",
        "        self.weights = None\n",
        "        self.bias = None\n",
        "        self.model = model\n",
        "        self.thr = thr\n",
        "\n",
        "    def fit(self, X, y):\n",
        "        n_samples, n_features = X.shape\n",
        "\n",
        "        if self.model == 'sigmoid':\n",
        "            self.weights = np.random.random(n_features)\n",
        "            self.bias = np.random.random(1)\n",
        "        elif self.model == 'softmax':\n",
        "            num_classes = len(np.unique(y))\n",
        "            self.weights = np.random.random((n_features, num_classes))\n",
        "            self.bias = np.random.random((1, num_classes))\n",
        "\n",
        "        for _ in range(self.n_iters):\n",
        "            linear_model = np.dot(X, self.weights) + self.bias\n",
        "            y_predicted = self.select_activation(linear_model)\n",
        "\n",
        "            if self.model == 'sigmoid':\n",
        "                y_predicted_cls = [1 if i > self.thr  else 0 for i in y_predicted]\n",
        "                y_diff = y_predicted - y\n",
        "            elif self.model == 'softmax':\n",
        "                y_one_hot = np.eye(num_classes)[y]\n",
        "                y_diff = y_predicted - y_one_hot\n",
        "\n",
        "            # compute gradients\n",
        "            dw = (1 / n_samples) * np.dot(X.T, y_diff)\n",
        "            db = (1 / n_samples) * np.sum(y_diff, axis=0)\n",
        "            # update parameters\n",
        "            self.weights -= self.lr * dw\n",
        "            self.bias -= self.lr * db\n",
        "\n",
        "    def predict(self, X):\n",
        "        linear_model = np.dot(X, self.weights) + self.bias\n",
        "        y_predicted = self.select_activation(linear_model)\n",
        "        if self.model == 'sigmoid':\n",
        "            y_predicted_cls = [1 if i > 0.5 else 0 for i in y_predicted]\n",
        "        elif self.model == 'softmax':\n",
        "            y_predicted_cls = np.argmax(y_predicted, axis=1)\n",
        "        return np.array(y_predicted_cls)\n",
        "\n",
        "    def select_activation(self, x):\n",
        "      if self.model ==\"sigmoid\":\n",
        "        return 1 / (1 + np.exp(-x))\n",
        "      else:\n",
        "          exp_z = np.exp(x - np.max(x, axis=1, keepdims=True))\n",
        "          return exp_z / exp_z.sum(axis=1, keepdims=True)"
      ]
    },
    {
      "cell_type": "markdown",
      "source": [
        "Load data and split the dataset"
      ],
      "metadata": {
        "id": "eigFgsulIpCe"
      }
    },
    {
      "cell_type": "code",
      "source": [
        "data = load_breast_cancer()\n",
        "X = data.data\n",
        "y = data.target\n",
        "x_train, x_test, y_train, y_test = train_test_split(X, y, test_size=0.1, random_state=42, stratify=y)\n"
      ],
      "metadata": {
        "id": "J3_dNxawIn95"
      },
      "execution_count": 91,
      "outputs": []
    },
    {
      "cell_type": "markdown",
      "source": [
        "# load the model"
      ],
      "metadata": {
        "id": "8zQlM-LqJKYA"
      }
    },
    {
      "cell_type": "code",
      "source": [
        "log_reg = LogisticRegression(model=\"sigmoid\")\n",
        "model = log_reg.fit(x_train, y_train)\n",
        "y_pred = log_reg.predict(x_test)"
      ],
      "metadata": {
        "colab": {
          "base_uri": "https://localhost:8080/"
        },
        "id": "XMzyCTVRIs9c",
        "outputId": "6636ea91-09a2-4325-aa53-97c8f1111533"
      },
      "execution_count": 92,
      "outputs": [
        {
          "output_type": "stream",
          "name": "stderr",
          "text": [
            "<ipython-input-90-8cfad41c3e4a>:50: RuntimeWarning: overflow encountered in exp\n",
            "  return 1 / (1 + np.exp(-x))\n"
          ]
        }
      ]
    },
    {
      "cell_type": "markdown",
      "source": [
        "# Compute F1 score, precision, and recall\n",
        "\n",
        "---"
      ],
      "metadata": {
        "id": "DBNWFDsVilix"
      }
    },
    {
      "cell_type": "code",
      "source": [
        "Image(url=\"https://assets-global.website-files.com/5d7b77b063a9066d83e1209c/639c3cc56bda8713d4a2f29c_precision-recall.webp\")"
      ],
      "metadata": {
        "colab": {
          "base_uri": "https://localhost:8080/",
          "height": 509
        },
        "id": "afmTKczEicD8",
        "outputId": "1b72e573-8306-492f-ddfc-2a8244ba2e4c"
      },
      "execution_count": 93,
      "outputs": [
        {
          "output_type": "execute_result",
          "data": {
            "text/html": [
              "<img src=\"https://assets-global.website-files.com/5d7b77b063a9066d83e1209c/639c3cc56bda8713d4a2f29c_precision-recall.webp\"/>"
            ],
            "text/plain": [
              "<IPython.core.display.Image object>"
            ]
          },
          "metadata": {},
          "execution_count": 93
        }
      ]
    },
    {
      "cell_type": "code",
      "source": [
        "Image(url=\"https://assets-global.website-files.com/5d7b77b063a9066d83e1209c/639c3d2a22f93657640ef19f_f1-score-eqn.webp\")"
      ],
      "metadata": {
        "colab": {
          "base_uri": "https://localhost:8080/",
          "height": 607
        },
        "id": "x3hq2j51ihct",
        "outputId": "32c41b76-ff4e-413f-dfe0-54b9aba693a5"
      },
      "execution_count": 94,
      "outputs": [
        {
          "output_type": "execute_result",
          "data": {
            "text/html": [
              "<img src=\"https://assets-global.website-files.com/5d7b77b063a9066d83e1209c/639c3d2a22f93657640ef19f_f1-score-eqn.webp\"/>"
            ],
            "text/plain": [
              "<IPython.core.display.Image object>"
            ]
          },
          "metadata": {},
          "execution_count": 94
        }
      ]
    },
    {
      "cell_type": "code",
      "source": [
        "y_pred_train = log_reg.predict(x_train)\n",
        "print(f\"accuracy_train: {accuracy_score(y_train, y_pred_train)}\")\n",
        "print(f\"f1_score_train: {f1_score(y_train, y_pred_train)}\")\n",
        "print(f\"precision_train: {precision_score(y_train, y_pred_train)}\")\n",
        "print(f\"recall_train: {recall_score(y_train, y_pred_train)}\\n\")\n",
        "\n",
        "print(f\"accuracy_test: {accuracy_score(y_test, y_pred)}\")\n",
        "print(f\"f1_score_test: {f1_score(y_test, y_pred)}\")\n",
        "print(f\"precision_test: {precision_score(y_test, y_pred)}\")\n",
        "print(f\"recall_test: {recall_score(y_test, y_pred)}\")"
      ],
      "metadata": {
        "colab": {
          "base_uri": "https://localhost:8080/"
        },
        "id": "jh5NUqrak8Wu",
        "outputId": "99f579d5-4560-4829-8480-1adc3ec45449"
      },
      "execution_count": 95,
      "outputs": [
        {
          "output_type": "stream",
          "name": "stdout",
          "text": [
            "accuracy_train: 0.640625\n",
            "f1_score_train: 0.6275303643724696\n",
            "precision_train: 0.8959537572254336\n",
            "recall_train: 0.48286604361370716\n",
            "\n",
            "accuracy_test: 0.6666666666666666\n",
            "f1_score_test: 0.6545454545454545\n",
            "precision_test: 0.9473684210526315\n",
            "recall_test: 0.5\n"
          ]
        }
      ]
    },
    {
      "cell_type": "markdown",
      "source": [
        "# Apply softmax"
      ],
      "metadata": {
        "id": "N_YrIqOJI9b-"
      }
    },
    {
      "cell_type": "markdown",
      "source": [
        "# Load the data and split"
      ],
      "metadata": {
        "id": "BV20bcUGJAqL"
      }
    },
    {
      "cell_type": "code",
      "source": [
        "data = load_iris()\n",
        "X = data.data\n",
        "y = data.target\n",
        "x_train, x_test, y_train, y_test = train_test_split(X, y, test_size=0.1, random_state=42, stratify=y)"
      ],
      "metadata": {
        "id": "0viYILgCJDpK"
      },
      "execution_count": 96,
      "outputs": []
    },
    {
      "cell_type": "markdown",
      "source": [
        "# load the model"
      ],
      "metadata": {
        "id": "wu3GPExMJFfi"
      }
    },
    {
      "cell_type": "code",
      "source": [
        "log_reg = LogisticRegression(model=\"softmax\")\n",
        "model = log_reg.fit(x_train, y_train)\n",
        "y_pred = log_reg.predict(x_test)"
      ],
      "metadata": {
        "id": "mQ-drL_GJFEq"
      },
      "execution_count": 97,
      "outputs": []
    },
    {
      "cell_type": "markdown",
      "source": [
        "# Performance result"
      ],
      "metadata": {
        "id": "8G_76IziJXPS"
      }
    },
    {
      "cell_type": "code",
      "source": [
        "y_pred_train = log_reg.predict(x_train)\n",
        "print(f\"accuracy_train: {accuracy_score(y_train, y_pred_train)}\")\n",
        "\n",
        "print(f\"accuracy_test: {accuracy_score(y_test, y_pred)}\")\n"
      ],
      "metadata": {
        "colab": {
          "base_uri": "https://localhost:8080/"
        },
        "id": "wOKmxweFg3QF",
        "outputId": "9ddb8f9e-d19c-4865-bc08-da1fc5f3ef8e"
      },
      "execution_count": 98,
      "outputs": [
        {
          "output_type": "stream",
          "name": "stdout",
          "text": [
            "accuracy_train: 0.3333333333333333\n",
            "accuracy_test: 0.3333333333333333\n"
          ]
        }
      ]
    },
    {
      "cell_type": "markdown",
      "source": [
        "# Let's use sklearn to hypertune Logistic Regression"
      ],
      "metadata": {
        "id": "-fPwqAg7JaZP"
      }
    },
    {
      "cell_type": "markdown",
      "source": [
        "https://scikit-learn.org/stable/modules/classes.html#module-sklearn.linear_model\n",
        "\n"
      ],
      "metadata": {
        "id": "AcdO4dhyL_sn"
      }
    },
    {
      "cell_type": "markdown",
      "source": [
        "https://scikit-learn.org/stable/modules/linear_model.html\n"
      ],
      "metadata": {
        "id": "JFEo4yVjL_j4"
      }
    },
    {
      "cell_type": "code",
      "source": [
        "Image(url=\"https://miro.medium.com/v2/resize:fit:2000/1*zMLv7EHYtjfr94JOBzjqTA.png\")"
      ],
      "metadata": {
        "colab": {
          "base_uri": "https://localhost:8080/",
          "height": 649
        },
        "id": "C5p5BBo6KU8I",
        "outputId": "72e7067e-266b-445d-d9f9-d8fdb7865ea7"
      },
      "execution_count": 99,
      "outputs": [
        {
          "output_type": "execute_result",
          "data": {
            "text/html": [
              "<img src=\"https://miro.medium.com/v2/resize:fit:2000/1*zMLv7EHYtjfr94JOBzjqTA.png\"/>"
            ],
            "text/plain": [
              "<IPython.core.display.Image object>"
            ]
          },
          "metadata": {},
          "execution_count": 99
        }
      ]
    },
    {
      "cell_type": "code",
      "source": [
        "from sklearn.linear_model import LogisticRegression\n",
        "from sklearn.model_selection import GridSearchCV\n",
        "log_reg = LogisticRegression()\n",
        "\n",
        "param_grid = {\n",
        "    \"solver\": [\"liblinear\", \"sag\", \"saga\"],\n",
        "    \"penalty\": [\"l1\", \"l2\"],\n",
        "    \"class_weight\": [\"balanced\"],\n",
        "    \"C\": [1e-5, 1e-4, 1e-3, 1e-2, 1e-1, 1, 10, 100],\n",
        "}\n",
        "grid_regression = GridSearchCV(log_reg, param_grid, scoring=\"accuracy\",cv=5)\n",
        "# grid_regression.fit(x_train, y_train)"
      ],
      "metadata": {
        "id": "azmVrzHhTjP2"
      },
      "execution_count": 117,
      "outputs": []
    },
    {
      "cell_type": "code",
      "source": [
        "y_pred = grid_regression.best_estimator_.predict(x_test)\n",
        "accuracy_score(y_pred, y_test)"
      ],
      "metadata": {
        "colab": {
          "base_uri": "https://localhost:8080/"
        },
        "id": "Z-rc8bWnVUUQ",
        "outputId": "6a89082c-a466-41da-c9bf-03b2b6315fa5"
      },
      "execution_count": 101,
      "outputs": [
        {
          "output_type": "execute_result",
          "data": {
            "text/plain": [
              "1.0"
            ]
          },
          "metadata": {},
          "execution_count": 101
        }
      ]
    },
    {
      "cell_type": "code",
      "source": [
        "import sklearn\n",
        "sklearn.metrics.get_scorer_names()"
      ],
      "metadata": {
        "colab": {
          "base_uri": "https://localhost:8080/"
        },
        "id": "lO0vmK-gU2fq",
        "outputId": "b420adef-c8ac-403a-9c80-2e38b2929707"
      },
      "execution_count": 102,
      "outputs": [
        {
          "output_type": "execute_result",
          "data": {
            "text/plain": [
              "['accuracy',\n",
              " 'adjusted_mutual_info_score',\n",
              " 'adjusted_rand_score',\n",
              " 'average_precision',\n",
              " 'balanced_accuracy',\n",
              " 'completeness_score',\n",
              " 'explained_variance',\n",
              " 'f1',\n",
              " 'f1_macro',\n",
              " 'f1_micro',\n",
              " 'f1_samples',\n",
              " 'f1_weighted',\n",
              " 'fowlkes_mallows_score',\n",
              " 'homogeneity_score',\n",
              " 'jaccard',\n",
              " 'jaccard_macro',\n",
              " 'jaccard_micro',\n",
              " 'jaccard_samples',\n",
              " 'jaccard_weighted',\n",
              " 'matthews_corrcoef',\n",
              " 'max_error',\n",
              " 'mutual_info_score',\n",
              " 'neg_brier_score',\n",
              " 'neg_log_loss',\n",
              " 'neg_mean_absolute_error',\n",
              " 'neg_mean_absolute_percentage_error',\n",
              " 'neg_mean_gamma_deviance',\n",
              " 'neg_mean_poisson_deviance',\n",
              " 'neg_mean_squared_error',\n",
              " 'neg_mean_squared_log_error',\n",
              " 'neg_median_absolute_error',\n",
              " 'neg_negative_likelihood_ratio',\n",
              " 'neg_root_mean_squared_error',\n",
              " 'normalized_mutual_info_score',\n",
              " 'positive_likelihood_ratio',\n",
              " 'precision',\n",
              " 'precision_macro',\n",
              " 'precision_micro',\n",
              " 'precision_samples',\n",
              " 'precision_weighted',\n",
              " 'r2',\n",
              " 'rand_score',\n",
              " 'recall',\n",
              " 'recall_macro',\n",
              " 'recall_micro',\n",
              " 'recall_samples',\n",
              " 'recall_weighted',\n",
              " 'roc_auc',\n",
              " 'roc_auc_ovo',\n",
              " 'roc_auc_ovo_weighted',\n",
              " 'roc_auc_ovr',\n",
              " 'roc_auc_ovr_weighted',\n",
              " 'top_k_accuracy',\n",
              " 'v_measure_score']"
            ]
          },
          "metadata": {},
          "execution_count": 102
        }
      ]
    },
    {
      "cell_type": "markdown",
      "source": [
        "\n",
        "**Practice**"
      ],
      "metadata": {
        "id": "povDI0ttVMTU"
      }
    },
    {
      "cell_type": "code",
      "source": [
        "# Import libraries\n",
        "from sklearn.linear_model import LogisticRegression\n",
        "from sklearn.model_selection import GridSearchCV\n",
        "import pandas as pd"
      ],
      "metadata": {
        "id": "3UrjpP2MVLY4"
      },
      "execution_count": 103,
      "outputs": []
    },
    {
      "cell_type": "code",
      "source": [
        "from google.colab import drive\n",
        "drive.mount('/content/drive')"
      ],
      "metadata": {
        "colab": {
          "base_uri": "https://localhost:8080/"
        },
        "id": "FDP_N6ptl_CM",
        "outputId": "a3dd2326-c9ce-4b00-f601-b59e09f1e081"
      },
      "execution_count": 104,
      "outputs": [
        {
          "output_type": "stream",
          "name": "stdout",
          "text": [
            "Drive already mounted at /content/drive; to attempt to forcibly remount, call drive.mount(\"/content/drive\", force_remount=True).\n"
          ]
        }
      ]
    },
    {
      "cell_type": "code",
      "execution_count": 105,
      "metadata": {
        "id": "E7YMPSLJqX4Q",
        "colab": {
          "base_uri": "https://localhost:8080/",
          "height": 298
        },
        "outputId": "418813ae-134f-4212-c251-d62f681b29c8"
      },
      "outputs": [
        {
          "output_type": "stream",
          "name": "stdout",
          "text": [
            "Index(['Area', 'Perimeter', 'Major_Axis_Length', 'Minor_Axis_Length',\n",
            "       'Convex_Area', 'Equiv_Diameter', 'Eccentricity', 'Solidity', 'Extent',\n",
            "       'Roundness', 'Aspect_Ration', 'Compactness', 'Class'],\n",
            "      dtype='object')\n"
          ]
        },
        {
          "output_type": "execute_result",
          "data": {
            "text/plain": [
              "    Area  Perimeter  Major_Axis_Length  Minor_Axis_Length  Convex_Area  \\\n",
              "0  56276    888.242           326.1485           220.2388        56831   \n",
              "1  76631   1068.146           417.1932           234.2289        77280   \n",
              "2  71623   1082.987           435.8328           211.0457        72663   \n",
              "3  66458    992.051           381.5638           222.5322        67118   \n",
              "4  66107    998.146           383.8883           220.4545        67117   \n",
              "\n",
              "   Equiv_Diameter  Eccentricity  Solidity  Extent  Roundness  Aspect_Ration  \\\n",
              "0        267.6805        0.7376    0.9902  0.7453     0.8963         1.4809   \n",
              "1        312.3614        0.8275    0.9916  0.7151     0.8440         1.7811   \n",
              "2        301.9822        0.8749    0.9857  0.7400     0.7674         2.0651   \n",
              "3        290.8899        0.8123    0.9902  0.7396     0.8486         1.7146   \n",
              "4        290.1207        0.8187    0.9850  0.6752     0.8338         1.7413   \n",
              "\n",
              "   Compactness  Class  \n",
              "0       0.8207      1  \n",
              "1       0.7487      1  \n",
              "2       0.6929      1  \n",
              "3       0.7624      1  \n",
              "4       0.7557      1  "
            ],
            "text/html": [
              "\n",
              "  <div id=\"df-91fe38bf-ccab-4954-a113-2a1d2648e6eb\" class=\"colab-df-container\">\n",
              "    <div>\n",
              "<style scoped>\n",
              "    .dataframe tbody tr th:only-of-type {\n",
              "        vertical-align: middle;\n",
              "    }\n",
              "\n",
              "    .dataframe tbody tr th {\n",
              "        vertical-align: top;\n",
              "    }\n",
              "\n",
              "    .dataframe thead th {\n",
              "        text-align: right;\n",
              "    }\n",
              "</style>\n",
              "<table border=\"1\" class=\"dataframe\">\n",
              "  <thead>\n",
              "    <tr style=\"text-align: right;\">\n",
              "      <th></th>\n",
              "      <th>Area</th>\n",
              "      <th>Perimeter</th>\n",
              "      <th>Major_Axis_Length</th>\n",
              "      <th>Minor_Axis_Length</th>\n",
              "      <th>Convex_Area</th>\n",
              "      <th>Equiv_Diameter</th>\n",
              "      <th>Eccentricity</th>\n",
              "      <th>Solidity</th>\n",
              "      <th>Extent</th>\n",
              "      <th>Roundness</th>\n",
              "      <th>Aspect_Ration</th>\n",
              "      <th>Compactness</th>\n",
              "      <th>Class</th>\n",
              "    </tr>\n",
              "  </thead>\n",
              "  <tbody>\n",
              "    <tr>\n",
              "      <th>0</th>\n",
              "      <td>56276</td>\n",
              "      <td>888.242</td>\n",
              "      <td>326.1485</td>\n",
              "      <td>220.2388</td>\n",
              "      <td>56831</td>\n",
              "      <td>267.6805</td>\n",
              "      <td>0.7376</td>\n",
              "      <td>0.9902</td>\n",
              "      <td>0.7453</td>\n",
              "      <td>0.8963</td>\n",
              "      <td>1.4809</td>\n",
              "      <td>0.8207</td>\n",
              "      <td>1</td>\n",
              "    </tr>\n",
              "    <tr>\n",
              "      <th>1</th>\n",
              "      <td>76631</td>\n",
              "      <td>1068.146</td>\n",
              "      <td>417.1932</td>\n",
              "      <td>234.2289</td>\n",
              "      <td>77280</td>\n",
              "      <td>312.3614</td>\n",
              "      <td>0.8275</td>\n",
              "      <td>0.9916</td>\n",
              "      <td>0.7151</td>\n",
              "      <td>0.8440</td>\n",
              "      <td>1.7811</td>\n",
              "      <td>0.7487</td>\n",
              "      <td>1</td>\n",
              "    </tr>\n",
              "    <tr>\n",
              "      <th>2</th>\n",
              "      <td>71623</td>\n",
              "      <td>1082.987</td>\n",
              "      <td>435.8328</td>\n",
              "      <td>211.0457</td>\n",
              "      <td>72663</td>\n",
              "      <td>301.9822</td>\n",
              "      <td>0.8749</td>\n",
              "      <td>0.9857</td>\n",
              "      <td>0.7400</td>\n",
              "      <td>0.7674</td>\n",
              "      <td>2.0651</td>\n",
              "      <td>0.6929</td>\n",
              "      <td>1</td>\n",
              "    </tr>\n",
              "    <tr>\n",
              "      <th>3</th>\n",
              "      <td>66458</td>\n",
              "      <td>992.051</td>\n",
              "      <td>381.5638</td>\n",
              "      <td>222.5322</td>\n",
              "      <td>67118</td>\n",
              "      <td>290.8899</td>\n",
              "      <td>0.8123</td>\n",
              "      <td>0.9902</td>\n",
              "      <td>0.7396</td>\n",
              "      <td>0.8486</td>\n",
              "      <td>1.7146</td>\n",
              "      <td>0.7624</td>\n",
              "      <td>1</td>\n",
              "    </tr>\n",
              "    <tr>\n",
              "      <th>4</th>\n",
              "      <td>66107</td>\n",
              "      <td>998.146</td>\n",
              "      <td>383.8883</td>\n",
              "      <td>220.4545</td>\n",
              "      <td>67117</td>\n",
              "      <td>290.1207</td>\n",
              "      <td>0.8187</td>\n",
              "      <td>0.9850</td>\n",
              "      <td>0.6752</td>\n",
              "      <td>0.8338</td>\n",
              "      <td>1.7413</td>\n",
              "      <td>0.7557</td>\n",
              "      <td>1</td>\n",
              "    </tr>\n",
              "  </tbody>\n",
              "</table>\n",
              "</div>\n",
              "    <div class=\"colab-df-buttons\">\n",
              "\n",
              "  <div class=\"colab-df-container\">\n",
              "    <button class=\"colab-df-convert\" onclick=\"convertToInteractive('df-91fe38bf-ccab-4954-a113-2a1d2648e6eb')\"\n",
              "            title=\"Convert this dataframe to an interactive table.\"\n",
              "            style=\"display:none;\">\n",
              "\n",
              "  <svg xmlns=\"http://www.w3.org/2000/svg\" height=\"24px\" viewBox=\"0 -960 960 960\">\n",
              "    <path d=\"M120-120v-720h720v720H120Zm60-500h600v-160H180v160Zm220 220h160v-160H400v160Zm0 220h160v-160H400v160ZM180-400h160v-160H180v160Zm440 0h160v-160H620v160ZM180-180h160v-160H180v160Zm440 0h160v-160H620v160Z\"/>\n",
              "  </svg>\n",
              "    </button>\n",
              "\n",
              "  <style>\n",
              "    .colab-df-container {\n",
              "      display:flex;\n",
              "      gap: 12px;\n",
              "    }\n",
              "\n",
              "    .colab-df-convert {\n",
              "      background-color: #E8F0FE;\n",
              "      border: none;\n",
              "      border-radius: 50%;\n",
              "      cursor: pointer;\n",
              "      display: none;\n",
              "      fill: #1967D2;\n",
              "      height: 32px;\n",
              "      padding: 0 0 0 0;\n",
              "      width: 32px;\n",
              "    }\n",
              "\n",
              "    .colab-df-convert:hover {\n",
              "      background-color: #E2EBFA;\n",
              "      box-shadow: 0px 1px 2px rgba(60, 64, 67, 0.3), 0px 1px 3px 1px rgba(60, 64, 67, 0.15);\n",
              "      fill: #174EA6;\n",
              "    }\n",
              "\n",
              "    .colab-df-buttons div {\n",
              "      margin-bottom: 4px;\n",
              "    }\n",
              "\n",
              "    [theme=dark] .colab-df-convert {\n",
              "      background-color: #3B4455;\n",
              "      fill: #D2E3FC;\n",
              "    }\n",
              "\n",
              "    [theme=dark] .colab-df-convert:hover {\n",
              "      background-color: #434B5C;\n",
              "      box-shadow: 0px 1px 3px 1px rgba(0, 0, 0, 0.15);\n",
              "      filter: drop-shadow(0px 1px 2px rgba(0, 0, 0, 0.3));\n",
              "      fill: #FFFFFF;\n",
              "    }\n",
              "  </style>\n",
              "\n",
              "    <script>\n",
              "      const buttonEl =\n",
              "        document.querySelector('#df-91fe38bf-ccab-4954-a113-2a1d2648e6eb button.colab-df-convert');\n",
              "      buttonEl.style.display =\n",
              "        google.colab.kernel.accessAllowed ? 'block' : 'none';\n",
              "\n",
              "      async function convertToInteractive(key) {\n",
              "        const element = document.querySelector('#df-91fe38bf-ccab-4954-a113-2a1d2648e6eb');\n",
              "        const dataTable =\n",
              "          await google.colab.kernel.invokeFunction('convertToInteractive',\n",
              "                                                    [key], {});\n",
              "        if (!dataTable) return;\n",
              "\n",
              "        const docLinkHtml = 'Like what you see? Visit the ' +\n",
              "          '<a target=\"_blank\" href=https://colab.research.google.com/notebooks/data_table.ipynb>data table notebook</a>'\n",
              "          + ' to learn more about interactive tables.';\n",
              "        element.innerHTML = '';\n",
              "        dataTable['output_type'] = 'display_data';\n",
              "        await google.colab.output.renderOutput(dataTable, element);\n",
              "        const docLink = document.createElement('div');\n",
              "        docLink.innerHTML = docLinkHtml;\n",
              "        element.appendChild(docLink);\n",
              "      }\n",
              "    </script>\n",
              "  </div>\n",
              "\n",
              "\n",
              "<div id=\"df-08f7fea3-de83-46e0-b1dd-956febb6022e\">\n",
              "  <button class=\"colab-df-quickchart\" onclick=\"quickchart('df-08f7fea3-de83-46e0-b1dd-956febb6022e')\"\n",
              "            title=\"Suggest charts.\"\n",
              "            style=\"display:none;\">\n",
              "\n",
              "<svg xmlns=\"http://www.w3.org/2000/svg\" height=\"24px\"viewBox=\"0 0 24 24\"\n",
              "     width=\"24px\">\n",
              "    <g>\n",
              "        <path d=\"M19 3H5c-1.1 0-2 .9-2 2v14c0 1.1.9 2 2 2h14c1.1 0 2-.9 2-2V5c0-1.1-.9-2-2-2zM9 17H7v-7h2v7zm4 0h-2V7h2v10zm4 0h-2v-4h2v4z\"/>\n",
              "    </g>\n",
              "</svg>\n",
              "  </button>\n",
              "\n",
              "<style>\n",
              "  .colab-df-quickchart {\n",
              "      --bg-color: #E8F0FE;\n",
              "      --fill-color: #1967D2;\n",
              "      --hover-bg-color: #E2EBFA;\n",
              "      --hover-fill-color: #174EA6;\n",
              "      --disabled-fill-color: #AAA;\n",
              "      --disabled-bg-color: #DDD;\n",
              "  }\n",
              "\n",
              "  [theme=dark] .colab-df-quickchart {\n",
              "      --bg-color: #3B4455;\n",
              "      --fill-color: #D2E3FC;\n",
              "      --hover-bg-color: #434B5C;\n",
              "      --hover-fill-color: #FFFFFF;\n",
              "      --disabled-bg-color: #3B4455;\n",
              "      --disabled-fill-color: #666;\n",
              "  }\n",
              "\n",
              "  .colab-df-quickchart {\n",
              "    background-color: var(--bg-color);\n",
              "    border: none;\n",
              "    border-radius: 50%;\n",
              "    cursor: pointer;\n",
              "    display: none;\n",
              "    fill: var(--fill-color);\n",
              "    height: 32px;\n",
              "    padding: 0;\n",
              "    width: 32px;\n",
              "  }\n",
              "\n",
              "  .colab-df-quickchart:hover {\n",
              "    background-color: var(--hover-bg-color);\n",
              "    box-shadow: 0 1px 2px rgba(60, 64, 67, 0.3), 0 1px 3px 1px rgba(60, 64, 67, 0.15);\n",
              "    fill: var(--button-hover-fill-color);\n",
              "  }\n",
              "\n",
              "  .colab-df-quickchart-complete:disabled,\n",
              "  .colab-df-quickchart-complete:disabled:hover {\n",
              "    background-color: var(--disabled-bg-color);\n",
              "    fill: var(--disabled-fill-color);\n",
              "    box-shadow: none;\n",
              "  }\n",
              "\n",
              "  .colab-df-spinner {\n",
              "    border: 2px solid var(--fill-color);\n",
              "    border-color: transparent;\n",
              "    border-bottom-color: var(--fill-color);\n",
              "    animation:\n",
              "      spin 1s steps(1) infinite;\n",
              "  }\n",
              "\n",
              "  @keyframes spin {\n",
              "    0% {\n",
              "      border-color: transparent;\n",
              "      border-bottom-color: var(--fill-color);\n",
              "      border-left-color: var(--fill-color);\n",
              "    }\n",
              "    20% {\n",
              "      border-color: transparent;\n",
              "      border-left-color: var(--fill-color);\n",
              "      border-top-color: var(--fill-color);\n",
              "    }\n",
              "    30% {\n",
              "      border-color: transparent;\n",
              "      border-left-color: var(--fill-color);\n",
              "      border-top-color: var(--fill-color);\n",
              "      border-right-color: var(--fill-color);\n",
              "    }\n",
              "    40% {\n",
              "      border-color: transparent;\n",
              "      border-right-color: var(--fill-color);\n",
              "      border-top-color: var(--fill-color);\n",
              "    }\n",
              "    60% {\n",
              "      border-color: transparent;\n",
              "      border-right-color: var(--fill-color);\n",
              "    }\n",
              "    80% {\n",
              "      border-color: transparent;\n",
              "      border-right-color: var(--fill-color);\n",
              "      border-bottom-color: var(--fill-color);\n",
              "    }\n",
              "    90% {\n",
              "      border-color: transparent;\n",
              "      border-bottom-color: var(--fill-color);\n",
              "    }\n",
              "  }\n",
              "</style>\n",
              "\n",
              "  <script>\n",
              "    async function quickchart(key) {\n",
              "      const quickchartButtonEl =\n",
              "        document.querySelector('#' + key + ' button');\n",
              "      quickchartButtonEl.disabled = true;  // To prevent multiple clicks.\n",
              "      quickchartButtonEl.classList.add('colab-df-spinner');\n",
              "      try {\n",
              "        const charts = await google.colab.kernel.invokeFunction(\n",
              "            'suggestCharts', [key], {});\n",
              "      } catch (error) {\n",
              "        console.error('Error during call to suggestCharts:', error);\n",
              "      }\n",
              "      quickchartButtonEl.classList.remove('colab-df-spinner');\n",
              "      quickchartButtonEl.classList.add('colab-df-quickchart-complete');\n",
              "    }\n",
              "    (() => {\n",
              "      let quickchartButtonEl =\n",
              "        document.querySelector('#df-08f7fea3-de83-46e0-b1dd-956febb6022e button');\n",
              "      quickchartButtonEl.style.display =\n",
              "        google.colab.kernel.accessAllowed ? 'block' : 'none';\n",
              "    })();\n",
              "  </script>\n",
              "</div>\n",
              "    </div>\n",
              "  </div>\n"
            ]
          },
          "metadata": {},
          "execution_count": 105
        }
      ],
      "source": [
        "# Load the data\n",
        "file_path = '/content/drive/MyDrive/ColabNotebooks/Pumpkin_Seeds_Dataset.xlsx'\n",
        "\n",
        "data = pd.read_excel(file_path)\n",
        "# make sure you also provide the kaggle link here\n",
        "# https://www.kaggle.com/datasets/muratkokludataset/pumpkin-seeds-dataset\n",
        "\n",
        "data['Class']=data['Class'].replace({'Çerçevelik':1,'Ürgüp Sivrisi':0})\n",
        "X = data.iloc[:,:-1]\n",
        "y = data['Class']\n",
        "feature_names = data.columns\n",
        "print(feature_names)\n",
        "data.head()"
      ]
    },
    {
      "cell_type": "code",
      "execution_count": 106,
      "metadata": {
        "id": "JnL3fev_rzk5"
      },
      "outputs": [],
      "source": [
        "# Split the dataset into training and testing\n",
        "X_train, X_test, y_train, y_test = train_test_split(X, y, test_size=0.3, random_state=42, stratify=y)"
      ]
    },
    {
      "cell_type": "code",
      "execution_count": 107,
      "metadata": {
        "id": "ksD96jxmr4Wd",
        "colab": {
          "base_uri": "https://localhost:8080/",
          "height": 75
        },
        "outputId": "6671c495-198f-4cb4-b84c-4e1c6894f509"
      },
      "outputs": [
        {
          "output_type": "execute_result",
          "data": {
            "text/plain": [
              "LogisticRegression()"
            ],
            "text/html": [
              "<style>#sk-container-id-6 {color: black;background-color: white;}#sk-container-id-6 pre{padding: 0;}#sk-container-id-6 div.sk-toggleable {background-color: white;}#sk-container-id-6 label.sk-toggleable__label {cursor: pointer;display: block;width: 100%;margin-bottom: 0;padding: 0.3em;box-sizing: border-box;text-align: center;}#sk-container-id-6 label.sk-toggleable__label-arrow:before {content: \"▸\";float: left;margin-right: 0.25em;color: #696969;}#sk-container-id-6 label.sk-toggleable__label-arrow:hover:before {color: black;}#sk-container-id-6 div.sk-estimator:hover label.sk-toggleable__label-arrow:before {color: black;}#sk-container-id-6 div.sk-toggleable__content {max-height: 0;max-width: 0;overflow: hidden;text-align: left;background-color: #f0f8ff;}#sk-container-id-6 div.sk-toggleable__content pre {margin: 0.2em;color: black;border-radius: 0.25em;background-color: #f0f8ff;}#sk-container-id-6 input.sk-toggleable__control:checked~div.sk-toggleable__content {max-height: 200px;max-width: 100%;overflow: auto;}#sk-container-id-6 input.sk-toggleable__control:checked~label.sk-toggleable__label-arrow:before {content: \"▾\";}#sk-container-id-6 div.sk-estimator input.sk-toggleable__control:checked~label.sk-toggleable__label {background-color: #d4ebff;}#sk-container-id-6 div.sk-label input.sk-toggleable__control:checked~label.sk-toggleable__label {background-color: #d4ebff;}#sk-container-id-6 input.sk-hidden--visually {border: 0;clip: rect(1px 1px 1px 1px);clip: rect(1px, 1px, 1px, 1px);height: 1px;margin: -1px;overflow: hidden;padding: 0;position: absolute;width: 1px;}#sk-container-id-6 div.sk-estimator {font-family: monospace;background-color: #f0f8ff;border: 1px dotted black;border-radius: 0.25em;box-sizing: border-box;margin-bottom: 0.5em;}#sk-container-id-6 div.sk-estimator:hover {background-color: #d4ebff;}#sk-container-id-6 div.sk-parallel-item::after {content: \"\";width: 100%;border-bottom: 1px solid gray;flex-grow: 1;}#sk-container-id-6 div.sk-label:hover label.sk-toggleable__label {background-color: #d4ebff;}#sk-container-id-6 div.sk-serial::before {content: \"\";position: absolute;border-left: 1px solid gray;box-sizing: border-box;top: 0;bottom: 0;left: 50%;z-index: 0;}#sk-container-id-6 div.sk-serial {display: flex;flex-direction: column;align-items: center;background-color: white;padding-right: 0.2em;padding-left: 0.2em;position: relative;}#sk-container-id-6 div.sk-item {position: relative;z-index: 1;}#sk-container-id-6 div.sk-parallel {display: flex;align-items: stretch;justify-content: center;background-color: white;position: relative;}#sk-container-id-6 div.sk-item::before, #sk-container-id-6 div.sk-parallel-item::before {content: \"\";position: absolute;border-left: 1px solid gray;box-sizing: border-box;top: 0;bottom: 0;left: 50%;z-index: -1;}#sk-container-id-6 div.sk-parallel-item {display: flex;flex-direction: column;z-index: 1;position: relative;background-color: white;}#sk-container-id-6 div.sk-parallel-item:first-child::after {align-self: flex-end;width: 50%;}#sk-container-id-6 div.sk-parallel-item:last-child::after {align-self: flex-start;width: 50%;}#sk-container-id-6 div.sk-parallel-item:only-child::after {width: 0;}#sk-container-id-6 div.sk-dashed-wrapped {border: 1px dashed gray;margin: 0 0.4em 0.5em 0.4em;box-sizing: border-box;padding-bottom: 0.4em;background-color: white;}#sk-container-id-6 div.sk-label label {font-family: monospace;font-weight: bold;display: inline-block;line-height: 1.2em;}#sk-container-id-6 div.sk-label-container {text-align: center;}#sk-container-id-6 div.sk-container {/* jupyter's `normalize.less` sets `[hidden] { display: none; }` but bootstrap.min.css set `[hidden] { display: none !important; }` so we also need the `!important` here to be able to override the default hidden behavior on the sphinx rendered scikit-learn.org. See: https://github.com/scikit-learn/scikit-learn/issues/21755 */display: inline-block !important;position: relative;}#sk-container-id-6 div.sk-text-repr-fallback {display: none;}</style><div id=\"sk-container-id-6\" class=\"sk-top-container\"><div class=\"sk-text-repr-fallback\"><pre>LogisticRegression()</pre><b>In a Jupyter environment, please rerun this cell to show the HTML representation or trust the notebook. <br />On GitHub, the HTML representation is unable to render, please try loading this page with nbviewer.org.</b></div><div class=\"sk-container\" hidden><div class=\"sk-item\"><div class=\"sk-estimator sk-toggleable\"><input class=\"sk-toggleable__control sk-hidden--visually\" id=\"sk-estimator-id-12\" type=\"checkbox\" checked><label for=\"sk-estimator-id-12\" class=\"sk-toggleable__label sk-toggleable__label-arrow\">LogisticRegression</label><div class=\"sk-toggleable__content\"><pre>LogisticRegression()</pre></div></div></div></div></div>"
            ]
          },
          "metadata": {},
          "execution_count": 107
        }
      ],
      "source": [
        "# Initialize and training a logistic regression model\n",
        "logistic_regression = LogisticRegression()\n",
        "logistic_regression.fit(X_train, y_train)"
      ]
    },
    {
      "cell_type": "code",
      "execution_count": 108,
      "metadata": {
        "id": "S_AwvWEVsSDO"
      },
      "outputs": [],
      "source": [
        "# Make predictions on the test set\n",
        "pred = logistic_regression.predict(X_test)"
      ]
    },
    {
      "cell_type": "code",
      "execution_count": 109,
      "metadata": {
        "id": "gPRXYMbntK0m",
        "colab": {
          "base_uri": "https://localhost:8080/"
        },
        "outputId": "42d35842-17cb-46ab-a4e5-f586114554f8"
      },
      "outputs": [
        {
          "output_type": "stream",
          "name": "stdout",
          "text": [
            "F1 Score: 0.8733850129198966\n",
            "Accuracy: 0.8693333333333333\n",
            "Precision: 0.8802083333333334\n",
            "Recall: 0.8666666666666667\n"
          ]
        }
      ],
      "source": [
        "# Calculate f1_score, accuracy_score, precision_score, recall_score\n",
        "\n",
        "f1_score_value = f1_score(y_test, pred)\n",
        "accuracy_score_value = accuracy_score(y_test, pred)\n",
        "precision_score_value = precision_score(y_test, pred)\n",
        "recall_score_value = recall_score(y_test, pred)\n",
        "\n",
        "#print all the values\n",
        "print(f\"F1 Score: {f1_score_value}\")\n",
        "print(f\"Accuracy: {accuracy_score_value}\")\n",
        "print(f\"Precision: {precision_score_value}\")\n",
        "print(f\"Recall: {recall_score_value}\")\n"
      ]
    },
    {
      "cell_type": "code",
      "source": [
        "# Tune Logistic Regression using GridSearchCV, make sure you play with these hyperparameters: penalty, C, solver, max_iter, class_weight\n",
        "# https://scikit-learn.org/stable/modules/generated/sklearn.linear_model.LogisticRegression.html\n",
        "\n",
        "param_grid = {\n",
        "   'C' : [0.1, 0.5, 1],\n",
        "   'solver': [ 'sag', 'saga', 'liblinear'],\n",
        "   'max_iter': [100, 150],\n",
        "   'penalty' : ['l2'],\n",
        "   'class_weight': ['balanced'],\n",
        "   'random_state' : [42]\n",
        "}\n",
        "\n",
        "# Create a Logistic Regression model\n",
        "logistic_regression = LogisticRegression()\n"
      ],
      "metadata": {
        "id": "7BfXROtGXmkO"
      },
      "execution_count": 110,
      "outputs": []
    },
    {
      "cell_type": "code",
      "source": [
        "# Initialize GridSearchCV\n",
        "grid_search = GridSearchCV(estimator=logistic_regression,param_grid=param_grid,scoring='accuracy',cv=5,n_jobs=-1)"
      ],
      "metadata": {
        "id": "oR3Dco0Nmu7r"
      },
      "execution_count": 111,
      "outputs": []
    },
    {
      "cell_type": "code",
      "source": [
        "# Fit the grid search to your training data\n",
        "grid_search.fit(X_train, y_train)"
      ],
      "metadata": {
        "colab": {
          "base_uri": "https://localhost:8080/",
          "height": 118
        },
        "id": "dP5HpMKNmwhd",
        "outputId": "982c4028-0d88-442c-f0b2-1399481d5713"
      },
      "execution_count": 112,
      "outputs": [
        {
          "output_type": "execute_result",
          "data": {
            "text/plain": [
              "GridSearchCV(cv=5, estimator=LogisticRegression(), n_jobs=-1,\n",
              "             param_grid={'C': [0.1, 0.5, 1], 'class_weight': ['balanced'],\n",
              "                         'max_iter': [100, 150], 'penalty': ['l2'],\n",
              "                         'random_state': [42],\n",
              "                         'solver': ['sag', 'saga', 'liblinear']},\n",
              "             scoring='accuracy')"
            ],
            "text/html": [
              "<style>#sk-container-id-7 {color: black;background-color: white;}#sk-container-id-7 pre{padding: 0;}#sk-container-id-7 div.sk-toggleable {background-color: white;}#sk-container-id-7 label.sk-toggleable__label {cursor: pointer;display: block;width: 100%;margin-bottom: 0;padding: 0.3em;box-sizing: border-box;text-align: center;}#sk-container-id-7 label.sk-toggleable__label-arrow:before {content: \"▸\";float: left;margin-right: 0.25em;color: #696969;}#sk-container-id-7 label.sk-toggleable__label-arrow:hover:before {color: black;}#sk-container-id-7 div.sk-estimator:hover label.sk-toggleable__label-arrow:before {color: black;}#sk-container-id-7 div.sk-toggleable__content {max-height: 0;max-width: 0;overflow: hidden;text-align: left;background-color: #f0f8ff;}#sk-container-id-7 div.sk-toggleable__content pre {margin: 0.2em;color: black;border-radius: 0.25em;background-color: #f0f8ff;}#sk-container-id-7 input.sk-toggleable__control:checked~div.sk-toggleable__content {max-height: 200px;max-width: 100%;overflow: auto;}#sk-container-id-7 input.sk-toggleable__control:checked~label.sk-toggleable__label-arrow:before {content: \"▾\";}#sk-container-id-7 div.sk-estimator input.sk-toggleable__control:checked~label.sk-toggleable__label {background-color: #d4ebff;}#sk-container-id-7 div.sk-label input.sk-toggleable__control:checked~label.sk-toggleable__label {background-color: #d4ebff;}#sk-container-id-7 input.sk-hidden--visually {border: 0;clip: rect(1px 1px 1px 1px);clip: rect(1px, 1px, 1px, 1px);height: 1px;margin: -1px;overflow: hidden;padding: 0;position: absolute;width: 1px;}#sk-container-id-7 div.sk-estimator {font-family: monospace;background-color: #f0f8ff;border: 1px dotted black;border-radius: 0.25em;box-sizing: border-box;margin-bottom: 0.5em;}#sk-container-id-7 div.sk-estimator:hover {background-color: #d4ebff;}#sk-container-id-7 div.sk-parallel-item::after {content: \"\";width: 100%;border-bottom: 1px solid gray;flex-grow: 1;}#sk-container-id-7 div.sk-label:hover label.sk-toggleable__label {background-color: #d4ebff;}#sk-container-id-7 div.sk-serial::before {content: \"\";position: absolute;border-left: 1px solid gray;box-sizing: border-box;top: 0;bottom: 0;left: 50%;z-index: 0;}#sk-container-id-7 div.sk-serial {display: flex;flex-direction: column;align-items: center;background-color: white;padding-right: 0.2em;padding-left: 0.2em;position: relative;}#sk-container-id-7 div.sk-item {position: relative;z-index: 1;}#sk-container-id-7 div.sk-parallel {display: flex;align-items: stretch;justify-content: center;background-color: white;position: relative;}#sk-container-id-7 div.sk-item::before, #sk-container-id-7 div.sk-parallel-item::before {content: \"\";position: absolute;border-left: 1px solid gray;box-sizing: border-box;top: 0;bottom: 0;left: 50%;z-index: -1;}#sk-container-id-7 div.sk-parallel-item {display: flex;flex-direction: column;z-index: 1;position: relative;background-color: white;}#sk-container-id-7 div.sk-parallel-item:first-child::after {align-self: flex-end;width: 50%;}#sk-container-id-7 div.sk-parallel-item:last-child::after {align-self: flex-start;width: 50%;}#sk-container-id-7 div.sk-parallel-item:only-child::after {width: 0;}#sk-container-id-7 div.sk-dashed-wrapped {border: 1px dashed gray;margin: 0 0.4em 0.5em 0.4em;box-sizing: border-box;padding-bottom: 0.4em;background-color: white;}#sk-container-id-7 div.sk-label label {font-family: monospace;font-weight: bold;display: inline-block;line-height: 1.2em;}#sk-container-id-7 div.sk-label-container {text-align: center;}#sk-container-id-7 div.sk-container {/* jupyter's `normalize.less` sets `[hidden] { display: none; }` but bootstrap.min.css set `[hidden] { display: none !important; }` so we also need the `!important` here to be able to override the default hidden behavior on the sphinx rendered scikit-learn.org. See: https://github.com/scikit-learn/scikit-learn/issues/21755 */display: inline-block !important;position: relative;}#sk-container-id-7 div.sk-text-repr-fallback {display: none;}</style><div id=\"sk-container-id-7\" class=\"sk-top-container\"><div class=\"sk-text-repr-fallback\"><pre>GridSearchCV(cv=5, estimator=LogisticRegression(), n_jobs=-1,\n",
              "             param_grid={&#x27;C&#x27;: [0.1, 0.5, 1], &#x27;class_weight&#x27;: [&#x27;balanced&#x27;],\n",
              "                         &#x27;max_iter&#x27;: [100, 150], &#x27;penalty&#x27;: [&#x27;l2&#x27;],\n",
              "                         &#x27;random_state&#x27;: [42],\n",
              "                         &#x27;solver&#x27;: [&#x27;sag&#x27;, &#x27;saga&#x27;, &#x27;liblinear&#x27;]},\n",
              "             scoring=&#x27;accuracy&#x27;)</pre><b>In a Jupyter environment, please rerun this cell to show the HTML representation or trust the notebook. <br />On GitHub, the HTML representation is unable to render, please try loading this page with nbviewer.org.</b></div><div class=\"sk-container\" hidden><div class=\"sk-item sk-dashed-wrapped\"><div class=\"sk-label-container\"><div class=\"sk-label sk-toggleable\"><input class=\"sk-toggleable__control sk-hidden--visually\" id=\"sk-estimator-id-13\" type=\"checkbox\" ><label for=\"sk-estimator-id-13\" class=\"sk-toggleable__label sk-toggleable__label-arrow\">GridSearchCV</label><div class=\"sk-toggleable__content\"><pre>GridSearchCV(cv=5, estimator=LogisticRegression(), n_jobs=-1,\n",
              "             param_grid={&#x27;C&#x27;: [0.1, 0.5, 1], &#x27;class_weight&#x27;: [&#x27;balanced&#x27;],\n",
              "                         &#x27;max_iter&#x27;: [100, 150], &#x27;penalty&#x27;: [&#x27;l2&#x27;],\n",
              "                         &#x27;random_state&#x27;: [42],\n",
              "                         &#x27;solver&#x27;: [&#x27;sag&#x27;, &#x27;saga&#x27;, &#x27;liblinear&#x27;]},\n",
              "             scoring=&#x27;accuracy&#x27;)</pre></div></div></div><div class=\"sk-parallel\"><div class=\"sk-parallel-item\"><div class=\"sk-item\"><div class=\"sk-label-container\"><div class=\"sk-label sk-toggleable\"><input class=\"sk-toggleable__control sk-hidden--visually\" id=\"sk-estimator-id-14\" type=\"checkbox\" ><label for=\"sk-estimator-id-14\" class=\"sk-toggleable__label sk-toggleable__label-arrow\">estimator: LogisticRegression</label><div class=\"sk-toggleable__content\"><pre>LogisticRegression()</pre></div></div></div><div class=\"sk-serial\"><div class=\"sk-item\"><div class=\"sk-estimator sk-toggleable\"><input class=\"sk-toggleable__control sk-hidden--visually\" id=\"sk-estimator-id-15\" type=\"checkbox\" ><label for=\"sk-estimator-id-15\" class=\"sk-toggleable__label sk-toggleable__label-arrow\">LogisticRegression</label><div class=\"sk-toggleable__content\"><pre>LogisticRegression()</pre></div></div></div></div></div></div></div></div></div></div>"
            ]
          },
          "metadata": {},
          "execution_count": 112
        }
      ]
    },
    {
      "cell_type": "code",
      "source": [
        "# Get the best hyperparameters and model\n",
        "best_params = grid_search.best_params_\n",
        "best_model = grid_search.best_estimator_"
      ],
      "metadata": {
        "id": "lBT30zVMmx3K"
      },
      "execution_count": 113,
      "outputs": []
    },
    {
      "cell_type": "code",
      "source": [
        "# Use the best model for predictions\n",
        "y_pred_best = best_model.predict(X_test)"
      ],
      "metadata": {
        "id": "npxayfLYm0cS"
      },
      "execution_count": 114,
      "outputs": []
    },
    {
      "cell_type": "code",
      "source": [
        "# Evaluate the best model\n",
        "f1_score_best = f1_score(y_test, y_pred_best)\n",
        "accuracy_best = accuracy_score(y_test, y_pred_best)\n",
        "precision_best = precision_score(y_test, y_pred_best)\n",
        "recall_best = recall_score(y_test, y_pred_best)\n",
        "\n",
        "print(\"Best Hyperparameters:\")\n",
        "print(best_params)\n",
        "\n",
        "print(\"Evaluation Metrics for the Best Model:\")\n",
        "print(f\"F1 Score: {f1_score_best}\")\n",
        "print(f\"Accuracy: {accuracy_best}\")\n",
        "print(f\"Precision: {precision_best}\")\n",
        "print(f\"Recall: {recall_best}\")"
      ],
      "metadata": {
        "colab": {
          "base_uri": "https://localhost:8080/"
        },
        "id": "BBGorHZSm2ld",
        "outputId": "e6853ebc-d100-4697-e949-4abf84106dd5"
      },
      "execution_count": 115,
      "outputs": [
        {
          "output_type": "stream",
          "name": "stdout",
          "text": [
            "Best Hyperparameters:\n",
            "{'C': 0.1, 'class_weight': 'balanced', 'max_iter': 100, 'penalty': 'l2', 'random_state': 42, 'solver': 'liblinear'}\n",
            "Evaluation Metrics for the Best Model:\n",
            "F1 Score: 0.8709256844850065\n",
            "Accuracy: 0.868\n",
            "Precision: 0.8859416445623343\n",
            "Recall: 0.8564102564102564\n"
          ]
        }
      ]
    },
    {
      "cell_type": "code",
      "execution_count": 116,
      "metadata": {
        "id": "TlEXsucIKCgl",
        "colab": {
          "base_uri": "https://localhost:8080/"
        },
        "outputId": "e65f3c3d-efe4-41a3-e177-df9b95c62df3"
      },
      "outputs": [
        {
          "output_type": "stream",
          "name": "stdout",
          "text": [
            "Best Learning Rate: 0.001\n",
            "Best n_iters: 10\n",
            "Best Accuracy: 0.86\n"
          ]
        }
      ],
      "source": [
        "# get the LogisticRegression that we implemented from scratch and modify learning_rate, and n_iters, providing three different values for each. Report your result.\n",
        "\n",
        "import numpy as np\n",
        "from sklearn.model_selection import train_test_split\n",
        "\n",
        "# Split your data into training and testing sets\n",
        "X_train, X_test, y_train, y_test = train_test_split(X, y, test_size=0.3, random_state=42)\n",
        "\n",
        "learning_rates = [0.001, 0.01, 0.1]\n",
        "n_iters_values = [10, 20, 30]\n",
        "\n",
        "best_model = None\n",
        "best_learning_rate = None\n",
        "best_n_iters = None\n",
        "best_accuracy = 0\n",
        "\n",
        "for learning_rate in learning_rates:\n",
        "    for n_iters in n_iters_values:\n",
        "        log_reg = LogisticRegression()\n",
        "        log_reg.lr = learning_rate\n",
        "        log_reg.n_iters = n_iters\n",
        "\n",
        "        log_reg.fit(X_train, y_train)\n",
        "        y_pred = log_reg.predict(X_test)\n",
        "\n",
        "        # Calculate accuracy\n",
        "        accuracy = (y_pred == y_test).mean()\n",
        "\n",
        "        if accuracy > best_accuracy:\n",
        "            best_model = log_reg\n",
        "            best_learning_rate = learning_rate\n",
        "            best_n_iters = n_iters\n",
        "            best_accuracy = accuracy\n",
        "\n",
        "print(\"Best Learning Rate:\", best_learning_rate)\n",
        "print(\"Best n_iters:\", best_n_iters)\n",
        "print(\"Best Accuracy:\", best_accuracy)\n"
      ]
    },
    {
      "cell_type": "markdown",
      "source": [
        "**Write your understanding of the model in 200 to 400 words**"
      ],
      "metadata": {
        "id": "8tg4TejXZmfx"
      }
    },
    {
      "cell_type": "markdown",
      "source": [
        "I loaded the pumpkin seed dataset containing features like Area, Perimeter, Class, etc.\n",
        "The target feature is Class.\n",
        "There are 2 values in class - 'Çerçevelik', 'Ürgüp Sivrisi'.\n",
        "First I replace 'Çerçevelik' with 1 and 'Ürgüp Sivrisi' with 0.\n",
        "\n",
        "After splitting the data into test and train (test size is 30% and train size 70%), use scikit-learn logistic regression model for binary classification. I trained the model on the training data and evaluated its performance using common classification metrics like F1-score, accuracy, precision, and recall. The results indicated an F1-score of 0.9, an accuracy of 0.896, a precision of 0.9, and a recall of 0.9.\n",
        "\n",
        "\n",
        "An F1-score of 0.9 indicates the model's strong overall performance. An accuracy of 0.896 means it's correct 89.6% of the time. A precision of 0.9 suggests that when it predicts a positive, it's right 90% of the time. A recall of 0.9 means it correctly identifies 90% of actual positives.\n",
        "\n",
        "To improve the logistic regression model's performance, hyperparameter tuning is done. GridSearchCV is a powerful tool in sci-kit-learn that automates the search for the the best combination of hyperparameters. I defined a set of hyperparameters, including 'C,' 'solver,' 'max_iter,' 'penalty,' and 'class_weight.' GridSearchCV helped to identify the best hyperparameters.\n",
        "\n",
        "The \"Best Hyperparameters\" are the configuration settings that produced the highest-performing logistic regression model during hyperparameter tuning. These settings are as follows:\n",
        "\n",
        "C: 0.1\n",
        "Class Weight: 'balanced'\n",
        "Max Iterations: 100\n",
        "Penalty: 'l2'\n",
        "Random State: 42\n",
        "Solver: 'liblinear'\n",
        "\n",
        "\n",
        "Using the LogisticRegression that is defines I gave 3 values for learining_rate and n_iters_values. Then I looped it with all the possible combinations to get the best values (Best Learning Rate, Best n_iters, Best Accuracy)\n",
        "Among those the below are the best values.\n",
        "\n",
        "Best Learning Rate: 0.001\n",
        "Best n_iters: 10\n",
        "Best Accuracy: 0.86\n"
      ],
      "metadata": {
        "id": "DezmmFHT7EV3"
      }
    }
  ],
  "metadata": {
    "colab": {
      "provenance": []
    },
    "kernelspec": {
      "display_name": "Python 3",
      "name": "python3"
    },
    "language_info": {
      "codemirror_mode": {
        "name": "ipython",
        "version": 3
      },
      "file_extension": ".py",
      "mimetype": "text/x-python",
      "name": "python",
      "nbconvert_exporter": "python",
      "pygments_lexer": "ipython3",
      "version": "3.11.4"
    }
  },
  "nbformat": 4,
  "nbformat_minor": 0
}