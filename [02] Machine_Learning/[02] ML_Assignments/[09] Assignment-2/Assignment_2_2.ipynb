{
  "cells": [
    {
      "cell_type": "markdown",
      "metadata": {
        "id": "cLneK5xR8A_C"
      },
      "source": [
        "## Course: CSCE 5215 Machine Learning\n",
        "## Professor: Zeenat Tariq\n",
        "## Assignment: 2"
      ]
    },
    {
      "cell_type": "markdown",
      "metadata": {
        "id": "GsyMjhdY8HSR"
      },
      "source": [
        "**Instructions**:\n",
        "1. Wherever you are asked to code, insert a text block below your code block and explain what you have coded as per your own understanding.\n",
        "2. If the code is provided by us, execute it, and add below a text block and provide your explanation in your own words.\n",
        "3. Submit both the .ipynb and pdf files to canvas.\n",
        "4. **The similarity score should be less than 15%.**"
      ]
    },
    {
      "cell_type": "markdown",
      "metadata": {
        "id": "7D6AXP_rBRcD"
      },
      "source": [
        "#Task 1: SVM (25 %)\n",
        "### Explain SVM and its components (support vectors, hyperplanes, etc)"
      ]
    },
    {
      "cell_type": "markdown",
      "metadata": {
        "id": "jw1-mCckR3S2"
      },
      "source": [
        "ANS:\n",
        "**SVM** also known as **Support Vector Machine** is a supervised learning algorithm used to solve classification and regression problems. It is particularly used to solve binary classification where the elements are classified into two classes.\n",
        "With the help of SVM, we can find the maximum margin where the distance between the closest elements in each category in 2 classes. It can be done by finding the hyperplane\n",
        "Below are some of the components of SVM:\n",
        "- **Support Vectors**: The points that are closest to the decision boundary is classed as support vectors. Using support vectoes we can find the correct poition of the hyperplane.\n",
        "\n",
        "- **Hyperplane**: Hyperplane is a special line drawn that's placed exactly in the middle of two classes to keep the most distacnce between two classes. Hyperplane helps in predictions or decisions about noew points/data.\n",
        "\n",
        "- **Margin**: In SVM, margin is the distanct between the hyperplane and the nearest data points from each class. It is the smallest perpendicular distance from the hyperplane to the closest data points.\n",
        "\n",
        "- **Kernal Function**: The kernal function is used to convert the data into higher dimension space where the hyperplane can be found easily that separated the classes."
      ]
    },
    {
      "cell_type": "markdown",
      "metadata": {
        "id": "-eXYG1bw1Jdx"
      },
      "source": [
        "### Explain the concept of the kernel in SVM. How does it enable SVM to handle non-linearly separable data?"
      ]
    },
    {
      "cell_type": "markdown",
      "metadata": {
        "id": "vPjYn3b-1yZk"
      },
      "source": [
        "ANS: In SVM, a kernel allows an algorithm to handle data that can't be easily separated by a straight line. Kernal transforms the data into higher dimensions space where the data might be easily separable. There are different types of kernels, like RBF (radial basis function/ Gaussian) kernel, linear kernel, and polynomial kernel.\n",
        "\n",
        "So, in other words, the kernel is like a tool that helps us take at data from different perspectives/ angles, making it easier to separate data that cannot be separated using a straing linein lower dimension.\n"
      ]
    },
    {
      "cell_type": "markdown",
      "metadata": {
        "id": "y3X-IdWrR-LI"
      },
      "source": [
        "## Implement the below code and provide an explanation for the code(each section) as per your understanding\n",
        "\n",
        "\n",
        "\n"
      ]
    },
    {
      "cell_type": "markdown",
      "metadata": {
        "id": "fBgo1vlkSRO0"
      },
      "source": [
        "### Import the necessary libraries for SVM implementation"
      ]
    },
    {
      "cell_type": "code",
      "execution_count": 1,
      "metadata": {
        "id": "d6HQxhWKSQ3I"
      },
      "outputs": [],
      "source": [
        "# Use this cell to import the libraries\n",
        "import pandas as pd\n",
        "import matplotlib.pyplot as plt\n",
        "from sklearn.preprocessing import LabelEncoder\n",
        "from sklearn.preprocessing import StandardScaler\n",
        "from sklearn.model_selection import train_test_split\n",
        "from sklearn.svm import SVC\n",
        "from sklearn.metrics import accuracy_score, precision_score, recall_score, f1_score\n",
        "from sklearn.metrics import confusion_matrix, accuracy_score, precision_score, recall_score, f1_score\n",
        "from sklearn.metrics import mean_squared_error, r2_score\n",
        "from sklearn.model_selection import train_test_split, GridSearchCV\n"
      ]
    },
    {
      "cell_type": "markdown",
      "source": [
        "- Importing all the libraries required in this implementation from pandas (For numeric calculations), mathplotlib (For visualization), and sklearn ( Classification, regression, etc)"
      ],
      "metadata": {
        "id": "fJlKcFuhJh1v"
      }
    },
    {
      "cell_type": "markdown",
      "metadata": {
        "id": "oVGmKah6UEog"
      },
      "source": [
        "### Load the Dataset.\n",
        "### you can choose any dataset from publicly available datasets.\n",
        "Split the dataset into X and y."
      ]
    },
    {
      "cell_type": "code",
      "source": [
        "from google.colab import drive\n",
        "drive.mount('/content/drive')"
      ],
      "metadata": {
        "colab": {
          "base_uri": "https://localhost:8080/"
        },
        "id": "8PCf3KjLnDk7",
        "outputId": "f1df0811-cb7a-414b-c30f-386953b3ec9d"
      },
      "execution_count": 2,
      "outputs": [
        {
          "output_type": "stream",
          "name": "stdout",
          "text": [
            "Mounted at /content/drive\n"
          ]
        }
      ]
    },
    {
      "cell_type": "code",
      "execution_count": 3,
      "metadata": {
        "id": "7cA5A4Sj796d"
      },
      "outputs": [],
      "source": [
        "# Load the dataset\n",
        "# dataset = https://www.kaggle.com/datasets/joshmcadams/oranges-vs-grapefruit\n",
        "\n",
        "file_path = '/content/drive/MyDrive/ColabNotebooks/citrus.csv'\n",
        "data = pd.read_csv(file_path)\n",
        "X = data.drop(columns=['name'])\n",
        "y = data['name']\n"
      ]
    },
    {
      "cell_type": "markdown",
      "source": [
        "- In the above code we are separating features and targets.\n",
        "- Here the target is 'name'"
      ],
      "metadata": {
        "id": "F_3d_5lGj_tf"
      }
    },
    {
      "cell_type": "code",
      "execution_count": 4,
      "metadata": {
        "id": "7zJ2GLNw2M_7",
        "colab": {
          "base_uri": "https://localhost:8080/"
        },
        "outputId": "551ea030-c7ae-4e42-a00d-39e746e41a17"
      },
      "outputs": [
        {
          "output_type": "stream",
          "name": "stdout",
          "text": [
            "           diameter        weight           red         green          blue\n",
            "count  10000.000000  10000.000000  10000.000000  10000.000000  10000.000000\n",
            "mean       9.975685    175.050792    153.847800     76.010600     11.363200\n",
            "std        1.947844     29.212119     10.432954     11.708433      9.061275\n",
            "min        2.960000     86.760000    115.000000     31.000000      2.000000\n",
            "25%        8.460000    152.220000    147.000000     68.000000      2.000000\n",
            "50%        9.980000    174.985000    154.000000     76.000000     10.000000\n",
            "75%       11.480000    197.722500    161.000000     84.000000     17.000000\n",
            "max       16.450000    261.510000    192.000000    116.000000     56.000000\n"
          ]
        }
      ],
      "source": [
        "# Provide a description of the dataset, including the mean, standard deviation, and median of each column.\n",
        "print(data.describe())"
      ]
    },
    {
      "cell_type": "markdown",
      "source": [
        "- The above code prints a description of the data i.e., mean, standard deviation, median, etc"
      ],
      "metadata": {
        "id": "HG16AdC9kMYH"
      }
    },
    {
      "cell_type": "code",
      "execution_count": 5,
      "metadata": {
        "id": "aDtlKHaL3ZsD",
        "colab": {
          "base_uri": "https://localhost:8080/",
          "height": 527
        },
        "outputId": "47972c00-4d99-45f6-d473-4c0d1fa74164"
      },
      "outputs": [
        {
          "output_type": "display_data",
          "data": {
            "text/plain": [
              "<Figure size 640x480 with 1 Axes>"
            ],
            "image/png": "[encoded data removed]"
          },
          "metadata": {}
        }
      ],
      "source": [
        "# Create a bar chart for the label/class column using the dataset\n",
        "data['name'].value_counts().plot(kind='bar',color = ['orange', 'lightGreen'])\n",
        "plt.xlabel('Class')\n",
        "plt.ylabel('Count')\n",
        "plt.title('Distribution of Classes')\n",
        "plt.show()"
      ]
    },
    {
      "cell_type": "markdown",
      "source": [
        "- The above code plots the graph for labels/class columns in different colors which shows the count of `orange` and `grapefruit`"
      ],
      "metadata": {
        "id": "oOFEQgqCkjq-"
      }
    },
    {
      "cell_type": "markdown",
      "metadata": {
        "id": "p7txxCMzUVyP"
      },
      "source": [
        "### Create a dataframe(df) from X and y. Display the tail of df.\n",
        "\n",
        "\n"
      ]
    },
    {
      "cell_type": "code",
      "execution_count": 6,
      "metadata": {
        "id": "P0NpjqmsUYgB",
        "colab": {
          "base_uri": "https://localhost:8080/",
          "height": 206
        },
        "outputId": "721bcce4-4741-471d-d501-2dee1e8d5efa"
      },
      "outputs": [
        {
          "output_type": "execute_result",
          "data": {
            "text/plain": [
              "      diameter  weight  red  green  blue       label\n",
              "9995     15.35  253.89  149     77    20  grapefruit\n",
              "9996     15.41  254.67  148     68     7  grapefruit\n",
              "9997     15.59  256.50  168     82    20  grapefruit\n",
              "9998     15.92  260.14  142     72    11  grapefruit\n",
              "9999     16.45  261.51  152     74     2  grapefruit"
            ],
            "text/html": [
              "\n",
              "  <div id=\"df-8c2eb60d-eb70-426f-a8f9-fdbf805535b9\" class=\"colab-df-container\">\n",
              "    <div>\n",
              "<style scoped>\n",
              "    .dataframe tbody tr th:only-of-type {\n",
              "        vertical-align: middle;\n",
              "    }\n",
              "\n",
              "    .dataframe tbody tr th {\n",
              "        vertical-align: top;\n",
              "    }\n",
              "\n",
              "    .dataframe thead th {\n",
              "        text-align: right;\n",
              "    }\n",
              "</style>\n",
              "<table border=\"1\" class=\"dataframe\">\n",
              "  <thead>\n",
              "    <tr style=\"text-align: right;\">\n",
              "      <th></th>\n",
              "      <th>diameter</th>\n",
              "      <th>weight</th>\n",
              "      <th>red</th>\n",
              "      <th>green</th>\n",
              "      <th>blue</th>\n",
              "      <th>label</th>\n",
              "    </tr>\n",
              "  </thead>\n",
              "  <tbody>\n",
              "    <tr>\n",
              "      <th>9995</th>\n",
              "      <td>15.35</td>\n",
              "      <td>253.89</td>\n",
              "      <td>149</td>\n",
              "      <td>77</td>\n",
              "      <td>20</td>\n",
              "      <td>grapefruit</td>\n",
              "    </tr>\n",
              "    <tr>\n",
              "      <th>9996</th>\n",
              "      <td>15.41</td>\n",
              "      <td>254.67</td>\n",
              "      <td>148</td>\n",
              "      <td>68</td>\n",
              "      <td>7</td>\n",
              "      <td>grapefruit</td>\n",
              "    </tr>\n",
              "    <tr>\n",
              "      <th>9997</th>\n",
              "      <td>15.59</td>\n",
              "      <td>256.50</td>\n",
              "      <td>168</td>\n",
              "      <td>82</td>\n",
              "      <td>20</td>\n",
              "      <td>grapefruit</td>\n",
              "    </tr>\n",
              "    <tr>\n",
              "      <th>9998</th>\n",
              "      <td>15.92</td>\n",
              "      <td>260.14</td>\n",
              "      <td>142</td>\n",
              "      <td>72</td>\n",
              "      <td>11</td>\n",
              "      <td>grapefruit</td>\n",
              "    </tr>\n",
              "    <tr>\n",
              "      <th>9999</th>\n",
              "      <td>16.45</td>\n",
              "      <td>261.51</td>\n",
              "      <td>152</td>\n",
              "      <td>74</td>\n",
              "      <td>2</td>\n",
              "      <td>grapefruit</td>\n",
              "    </tr>\n",
              "  </tbody>\n",
              "</table>\n",
              "</div>\n",
              "    <div class=\"colab-df-buttons\">\n",
              "\n",
              "  <div class=\"colab-df-container\">\n",
              "    <button class=\"colab-df-convert\" onclick=\"convertToInteractive('df-8c2eb60d-eb70-426f-a8f9-fdbf805535b9')\"\n",
              "            title=\"Convert this dataframe to an interactive table.\"\n",
              "            style=\"display:none;\">\n",
              "\n",
              "  <svg xmlns=\"http://www.w3.org/2000/svg\" height=\"24px\" viewBox=\"0 -960 960 960\">\n",
              "    <path d=\"M120-120v-720h720v720H120Zm60-500h600v-160H180v160Zm220 220h160v-160H400v160Zm0 220h160v-160H400v160ZM180-400h160v-160H180v160Zm440 0h160v-160H620v160ZM180-180h160v-160H180v160Zm440 0h160v-160H620v160Z\"/>\n",
              "  </svg>\n",
              "    </button>\n",
              "\n",
              "  <style>\n",
              "    .colab-df-container {\n",
              "      display:flex;\n",
              "      gap: 12px;\n",
              "    }\n",
              "\n",
              "    .colab-df-convert {\n",
              "      background-color: #E8F0FE;\n",
              "      border: none;\n",
              "      border-radius: 50%;\n",
              "      cursor: pointer;\n",
              "      display: none;\n",
              "      fill: #1967D2;\n",
              "      height: 32px;\n",
              "      padding: 0 0 0 0;\n",
              "      width: 32px;\n",
              "    }\n",
              "\n",
              "    .colab-df-convert:hover {\n",
              "      background-color: #E2EBFA;\n",
              "      box-shadow: 0px 1px 2px rgba(60, 64, 67, 0.3), 0px 1px 3px 1px rgba(60, 64, 67, 0.15);\n",
              "      fill: #174EA6;\n",
              "    }\n",
              "\n",
              "    .colab-df-buttons div {\n",
              "      margin-bottom: 4px;\n",
              "    }\n",
              "\n",
              "    [theme=dark] .colab-df-convert {\n",
              "      background-color: #3B4455;\n",
              "      fill: #D2E3FC;\n",
              "    }\n",
              "\n",
              "    [theme=dark] .colab-df-convert:hover {\n",
              "      background-color: #434B5C;\n",
              "      box-shadow: 0px 1px 3px 1px rgba(0, 0, 0, 0.15);\n",
              "      filter: drop-shadow(0px 1px 2px rgba(0, 0, 0, 0.3));\n",
              "      fill: #FFFFFF;\n",
              "    }\n",
              "  </style>\n",
              "\n",
              "    <script>\n",
              "      const buttonEl =\n",
              "        document.querySelector('#df-8c2eb60d-eb70-426f-a8f9-fdbf805535b9 button.colab-df-convert');\n",
              "      buttonEl.style.display =\n",
              "        google.colab.kernel.accessAllowed ? 'block' : 'none';\n",
              "\n",
              "      async function convertToInteractive(key) {\n",
              "        const element = document.querySelector('#df-8c2eb60d-eb70-426f-a8f9-fdbf805535b9');\n",
              "        const dataTable =\n",
              "          await google.colab.kernel.invokeFunction('convertToInteractive',\n",
              "                                                    [key], {});\n",
              "        if (!dataTable) return;\n",
              "\n",
              "        const docLinkHtml = 'Like what you see? Visit the ' +\n",
              "          '<a target=\"_blank\" href=https://colab.research.google.com/notebooks/data_table.ipynb>data table notebook</a>'\n",
              "          + ' to learn more about interactive tables.';\n",
              "        element.innerHTML = '';\n",
              "        dataTable['output_type'] = 'display_data';\n",
              "        await google.colab.output.renderOutput(dataTable, element);\n",
              "        const docLink = document.createElement('div');\n",
              "        docLink.innerHTML = docLinkHtml;\n",
              "        element.appendChild(docLink);\n",
              "      }\n",
              "    </script>\n",
              "  </div>\n",
              "\n",
              "\n",
              "<div id=\"df-6fe0768b-5aa2-469c-bce0-ea5abe4eb247\">\n",
              "  <button class=\"colab-df-quickchart\" onclick=\"quickchart('df-6fe0768b-5aa2-469c-bce0-ea5abe4eb247')\"\n",
              "            title=\"Suggest charts.\"\n",
              "            style=\"display:none;\">\n",
              "\n",
              "<svg xmlns=\"http://www.w3.org/2000/svg\" height=\"24px\"viewBox=\"0 0 24 24\"\n",
              "     width=\"24px\">\n",
              "    <g>\n",
              "        <path d=\"M19 3H5c-1.1 0-2 .9-2 2v14c0 1.1.9 2 2 2h14c1.1 0 2-.9 2-2V5c0-1.1-.9-2-2-2zM9 17H7v-7h2v7zm4 0h-2V7h2v10zm4 0h-2v-4h2v4z\"/>\n",
              "    </g>\n",
              "</svg>\n",
              "  </button>\n",
              "\n",
              "<style>\n",
              "  .colab-df-quickchart {\n",
              "      --bg-color: #E8F0FE;\n",
              "      --fill-color: #1967D2;\n",
              "      --hover-bg-color: #E2EBFA;\n",
              "      --hover-fill-color: #174EA6;\n",
              "      --disabled-fill-color: #AAA;\n",
              "      --disabled-bg-color: #DDD;\n",
              "  }\n",
              "\n",
              "  [theme=dark] .colab-df-quickchart {\n",
              "      --bg-color: #3B4455;\n",
              "      --fill-color: #D2E3FC;\n",
              "      --hover-bg-color: #434B5C;\n",
              "      --hover-fill-color: #FFFFFF;\n",
              "      --disabled-bg-color: #3B4455;\n",
              "      --disabled-fill-color: #666;\n",
              "  }\n",
              "\n",
              "  .colab-df-quickchart {\n",
              "    background-color: var(--bg-color);\n",
              "    border: none;\n",
              "    border-radius: 50%;\n",
              "    cursor: pointer;\n",
              "    display: none;\n",
              "    fill: var(--fill-color);\n",
              "    height: 32px;\n",
              "    padding: 0;\n",
              "    width: 32px;\n",
              "  }\n",
              "\n",
              "  .colab-df-quickchart:hover {\n",
              "    background-color: var(--hover-bg-color);\n",
              "    box-shadow: 0 1px 2px rgba(60, 64, 67, 0.3), 0 1px 3px 1px rgba(60, 64, 67, 0.15);\n",
              "    fill: var(--button-hover-fill-color);\n",
              "  }\n",
              "\n",
              "  .colab-df-quickchart-complete:disabled,\n",
              "  .colab-df-quickchart-complete:disabled:hover {\n",
              "    background-color: var(--disabled-bg-color);\n",
              "    fill: var(--disabled-fill-color);\n",
              "    box-shadow: none;\n",
              "  }\n",
              "\n",
              "  .colab-df-spinner {\n",
              "    border: 2px solid var(--fill-color);\n",
              "    border-color: transparent;\n",
              "    border-bottom-color: var(--fill-color);\n",
              "    animation:\n",
              "      spin 1s steps(1) infinite;\n",
              "  }\n",
              "\n",
              "  @keyframes spin {\n",
              "    0% {\n",
              "      border-color: transparent;\n",
              "      border-bottom-color: var(--fill-color);\n",
              "      border-left-color: var(--fill-color);\n",
              "    }\n",
              "    20% {\n",
              "      border-color: transparent;\n",
              "      border-left-color: var(--fill-color);\n",
              "      border-top-color: var(--fill-color);\n",
              "    }\n",
              "    30% {\n",
              "      border-color: transparent;\n",
              "      border-left-color: var(--fill-color);\n",
              "      border-top-color: var(--fill-color);\n",
              "      border-right-color: var(--fill-color);\n",
              "    }\n",
              "    40% {\n",
              "      border-color: transparent;\n",
              "      border-right-color: var(--fill-color);\n",
              "      border-top-color: var(--fill-color);\n",
              "    }\n",
              "    60% {\n",
              "      border-color: transparent;\n",
              "      border-right-color: var(--fill-color);\n",
              "    }\n",
              "    80% {\n",
              "      border-color: transparent;\n",
              "      border-right-color: var(--fill-color);\n",
              "      border-bottom-color: var(--fill-color);\n",
              "    }\n",
              "    90% {\n",
              "      border-color: transparent;\n",
              "      border-bottom-color: var(--fill-color);\n",
              "    }\n",
              "  }\n",
              "</style>\n",
              "\n",
              "  <script>\n",
              "    async function quickchart(key) {\n",
              "      const quickchartButtonEl =\n",
              "        document.querySelector('#' + key + ' button');\n",
              "      quickchartButtonEl.disabled = true;  // To prevent multiple clicks.\n",
              "      quickchartButtonEl.classList.add('colab-df-spinner');\n",
              "      try {\n",
              "        const charts = await google.colab.kernel.invokeFunction(\n",
              "            'suggestCharts', [key], {});\n",
              "      } catch (error) {\n",
              "        console.error('Error during call to suggestCharts:', error);\n",
              "      }\n",
              "      quickchartButtonEl.classList.remove('colab-df-spinner');\n",
              "      quickchartButtonEl.classList.add('colab-df-quickchart-complete');\n",
              "    }\n",
              "    (() => {\n",
              "      let quickchartButtonEl =\n",
              "        document.querySelector('#df-6fe0768b-5aa2-469c-bce0-ea5abe4eb247 button');\n",
              "      quickchartButtonEl.style.display =\n",
              "        google.colab.kernel.accessAllowed ? 'block' : 'none';\n",
              "    })();\n",
              "  </script>\n",
              "</div>\n",
              "    </div>\n",
              "  </div>\n"
            ]
          },
          "metadata": {},
          "execution_count": 6
        }
      ],
      "source": [
        "df = pd.concat([X, pd.Series(y, name='label')], axis=1)\n",
        "df.tail()"
      ]
    },
    {
      "cell_type": "markdown",
      "source": [
        "- This code combines a dataset `X` with a list of labels `y`, creating a new dataset `df` with the labels in a column named 'label'."
      ],
      "metadata": {
        "id": "i4p4cADNk3XS"
      }
    },
    {
      "cell_type": "markdown",
      "metadata": {
        "id": "LJPJt13HU682"
      },
      "source": [
        "### Handle missing values"
      ]
    },
    {
      "cell_type": "code",
      "execution_count": 7,
      "metadata": {
        "id": "iLWHQcg_VDQH",
        "colab": {
          "base_uri": "https://localhost:8080/"
        },
        "outputId": "66f5ee4c-0381-4211-a5cd-d2147cf302cd"
      },
      "outputs": [
        {
          "output_type": "stream",
          "name": "stdout",
          "text": [
            "Missing values before handling:\n",
            "name        0\n",
            "diameter    0\n",
            "weight      0\n",
            "red         0\n",
            "green       0\n",
            "blue        0\n",
            "dtype: int64\n",
            "\n",
            "Missing values after handling:\n",
            "name        0\n",
            "diameter    0\n",
            "weight      0\n",
            "red         0\n",
            "green       0\n",
            "blue        0\n",
            "dtype: int64\n"
          ]
        }
      ],
      "source": [
        "# Check if the dataset has null or missing values and handle them\n",
        "missing_values = data.isnull().sum()\n",
        "data.fillna(data.mean(numeric_only=True), inplace=True)\n",
        "missing_values_after_handling = data.isnull().sum()\n",
        "print(\"Missing values before handling:\")\n",
        "print(missing_values)\n",
        "print(\"\\nMissing values after handling:\")\n",
        "print(missing_values_after_handling)"
      ]
    },
    {
      "cell_type": "markdown",
      "source": [
        "- The above code finds if there are any missing values in the dataset and handles them.\n",
        "- For this dataset, there are no missing values."
      ],
      "metadata": {
        "id": "XSi_zMuTlt33"
      }
    },
    {
      "cell_type": "markdown",
      "metadata": {
        "id": "591RUtMiVs_f"
      },
      "source": [
        "\n",
        "\n",
        "\n",
        "### Encoding Categorical Features. If your dataset contains categorical variables, you may need to encode them as numerical values before using them with SVM."
      ]
    },
    {
      "cell_type": "code",
      "execution_count": 8,
      "metadata": {
        "id": "mDJVr336WMnT"
      },
      "outputs": [],
      "source": [
        "# Use this cell for encoding categorical Features.\n",
        "label_encoder = LabelEncoder()\n",
        "y_encoded = label_encoder.fit_transform(y)"
      ]
    },
    {
      "cell_type": "markdown",
      "source": [
        "- The above code changes the categorical data in `y` into numeric values using LabelEncoder."
      ],
      "metadata": {
        "id": "coaM4YvbmzNh"
      }
    },
    {
      "cell_type": "markdown",
      "metadata": {
        "id": "-sVVyXRoWuk-"
      },
      "source": [
        "### Feature Scaling:\n",
        "\n",
        "SVMs are sensitive to the scale of features, so it's often beneficial to scale the features to a similar range. Common scaling techniques include standardization (subtracting the mean and dividing by the standard deviation) or normalization (scaling values to a range of 0 to 1).\n",
        "\n",
        "Visualize the range of each feature. If the range is too high then apply feature scaling. Atleast apply feature scaling for 2 features if possible."
      ]
    },
    {
      "cell_type": "code",
      "execution_count": 9,
      "metadata": {
        "id": "fyWabL2_Wt0v",
        "colab": {
          "base_uri": "https://localhost:8080/"
        },
        "outputId": "2015c34b-c2e3-48b6-fada-d62714979691"
      },
      "outputs": [
        {
          "output_type": "stream",
          "name": "stdout",
          "text": [
            "      diameter    weight  red  green  blue\n",
            "0    -3.601950 -3.022554  172     85     2\n",
            "1    -3.114207 -2.978392  166     78     3\n",
            "2    -2.852366 -2.734645  156     81     2\n",
            "3    -2.826695 -2.719925  163     81     4\n",
            "4    -2.821561 -2.714447  161     72     9\n",
            "...        ...       ...  ...    ...   ...\n",
            "9995  2.759248  2.698988  149     77    20\n",
            "9996  2.790053  2.725690  148     68     7\n",
            "9997  2.882467  2.788339  168     82    20\n",
            "9998  3.051894  2.912951  142     72    11\n",
            "9999  3.324003  2.959851  152     74     2\n",
            "\n",
            "[10000 rows x 5 columns]\n"
          ]
        }
      ],
      "source": [
        "# Use this cell for feature scaling\n",
        "\n",
        "#Features to scale\n",
        "features_to_scale = ['diameter', 'weight']\n",
        "\n",
        "scaler = StandardScaler()\n",
        "\n",
        "X[features_to_scale] = scaler.fit_transform(X[features_to_scale])\n",
        "\n",
        "print(X)"
      ]
    },
    {
      "cell_type": "markdown",
      "source": [
        "- The above code rescales diameter and weight making it more suitable for analysis."
      ],
      "metadata": {
        "id": "VHvGDW3dnRCF"
      }
    },
    {
      "cell_type": "markdown",
      "metadata": {
        "id": "0PWm_vkNWK-v"
      },
      "source": [
        "### Split the data into Training and Testing sets 70% and 30% using train_test_split function\n"
      ]
    },
    {
      "cell_type": "code",
      "execution_count": 10,
      "metadata": {
        "id": "Kr2Q_xMiaMR2"
      },
      "outputs": [],
      "source": [
        "# Split the data into training and testing sets\n",
        "X_train, X_test, y_train, y_test = train_test_split(X, y, test_size=0.3, random_state=42, stratify=y)"
      ]
    },
    {
      "cell_type": "markdown",
      "source": [
        "- Splitting the dataset into test dataset (30%) and train dataset (70%)."
      ],
      "metadata": {
        "id": "CYCkhq6EoB1_"
      }
    },
    {
      "cell_type": "markdown",
      "metadata": {
        "id": "xGGgBy9yab7I"
      },
      "source": [
        "### Create a SVM classifier object"
      ]
    },
    {
      "cell_type": "code",
      "execution_count": 11,
      "metadata": {
        "id": "hRrFQn8fabTi"
      },
      "outputs": [],
      "source": [
        "SVM = SVC(kernel='linear')"
      ]
    },
    {
      "cell_type": "markdown",
      "source": [
        "- The above code uses a linear kernel and initializes the SVM."
      ],
      "metadata": {
        "id": "lSl-aCjqoSko"
      }
    },
    {
      "cell_type": "markdown",
      "metadata": {
        "id": "7NX7_GtwUVsh"
      },
      "source": [
        "### Fit the training data into the model using fit function"
      ]
    },
    {
      "cell_type": "code",
      "execution_count": 12,
      "metadata": {
        "id": "V6bU-YoGau61",
        "colab": {
          "base_uri": "https://localhost:8080/",
          "height": 75
        },
        "outputId": "c3f776e4-35c7-46c2-b40a-57023ffb1956"
      },
      "outputs": [
        {
          "output_type": "execute_result",
          "data": {
            "text/plain": [
              "SVC(kernel='linear')"
            ],
            "text/html": [
              "<style>#sk-container-id-1 {color: black;background-color: white;}#sk-container-id-1 pre{padding: 0;}#sk-container-id-1 div.sk-toggleable {background-color: white;}#sk-container-id-1 label.sk-toggleable__label {cursor: pointer;display: block;width: 100%;margin-bottom: 0;padding: 0.3em;box-sizing: border-box;text-align: center;}#sk-container-id-1 label.sk-toggleable__label-arrow:before {content: \"▸\";float: left;margin-right: 0.25em;color: #696969;}#sk-container-id-1 label.sk-toggleable__label-arrow:hover:before {color: black;}#sk-container-id-1 div.sk-estimator:hover label.sk-toggleable__label-arrow:before {color: black;}#sk-container-id-1 div.sk-toggleable__content {max-height: 0;max-width: 0;overflow: hidden;text-align: left;background-color: #f0f8ff;}#sk-container-id-1 div.sk-toggleable__content pre {margin: 0.2em;color: black;border-radius: 0.25em;background-color: #f0f8ff;}#sk-container-id-1 input.sk-toggleable__control:checked~div.sk-toggleable__content {max-height: 200px;max-width: 100%;overflow: auto;}#sk-container-id-1 input.sk-toggleable__control:checked~label.sk-toggleable__label-arrow:before {content: \"▾\";}#sk-container-id-1 div.sk-estimator input.sk-toggleable__control:checked~label.sk-toggleable__label {background-color: #d4ebff;}#sk-container-id-1 div.sk-label input.sk-toggleable__control:checked~label.sk-toggleable__label {background-color: #d4ebff;}#sk-container-id-1 input.sk-hidden--visually {border: 0;clip: rect(1px 1px 1px 1px);clip: rect(1px, 1px, 1px, 1px);height: 1px;margin: -1px;overflow: hidden;padding: 0;position: absolute;width: 1px;}#sk-container-id-1 div.sk-estimator {font-family: monospace;background-color: #f0f8ff;border: 1px dotted black;border-radius: 0.25em;box-sizing: border-box;margin-bottom: 0.5em;}#sk-container-id-1 div.sk-estimator:hover {background-color: #d4ebff;}#sk-container-id-1 div.sk-parallel-item::after {content: \"\";width: 100%;border-bottom: 1px solid gray;flex-grow: 1;}#sk-container-id-1 div.sk-label:hover label.sk-toggleable__label {background-color: #d4ebff;}#sk-container-id-1 div.sk-serial::before {content: \"\";position: absolute;border-left: 1px solid gray;box-sizing: border-box;top: 0;bottom: 0;left: 50%;z-index: 0;}#sk-container-id-1 div.sk-serial {display: flex;flex-direction: column;align-items: center;background-color: white;padding-right: 0.2em;padding-left: 0.2em;position: relative;}#sk-container-id-1 div.sk-item {position: relative;z-index: 1;}#sk-container-id-1 div.sk-parallel {display: flex;align-items: stretch;justify-content: center;background-color: white;position: relative;}#sk-container-id-1 div.sk-item::before, #sk-container-id-1 div.sk-parallel-item::before {content: \"\";position: absolute;border-left: 1px solid gray;box-sizing: border-box;top: 0;bottom: 0;left: 50%;z-index: -1;}#sk-container-id-1 div.sk-parallel-item {display: flex;flex-direction: column;z-index: 1;position: relative;background-color: white;}#sk-container-id-1 div.sk-parallel-item:first-child::after {align-self: flex-end;width: 50%;}#sk-container-id-1 div.sk-parallel-item:last-child::after {align-self: flex-start;width: 50%;}#sk-container-id-1 div.sk-parallel-item:only-child::after {width: 0;}#sk-container-id-1 div.sk-dashed-wrapped {border: 1px dashed gray;margin: 0 0.4em 0.5em 0.4em;box-sizing: border-box;padding-bottom: 0.4em;background-color: white;}#sk-container-id-1 div.sk-label label {font-family: monospace;font-weight: bold;display: inline-block;line-height: 1.2em;}#sk-container-id-1 div.sk-label-container {text-align: center;}#sk-container-id-1 div.sk-container {/* jupyter's `normalize.less` sets `[hidden] { display: none; }` but bootstrap.min.css set `[hidden] { display: none !important; }` so we also need the `!important` here to be able to override the default hidden behavior on the sphinx rendered scikit-learn.org. See: https://github.com/scikit-learn/scikit-learn/issues/21755 */display: inline-block !important;position: relative;}#sk-container-id-1 div.sk-text-repr-fallback {display: none;}</style><div id=\"sk-container-id-1\" class=\"sk-top-container\"><div class=\"sk-text-repr-fallback\"><pre>SVC(kernel=&#x27;linear&#x27;)</pre><b>In a Jupyter environment, please rerun this cell to show the HTML representation or trust the notebook. <br />On GitHub, the HTML representation is unable to render, please try loading this page with nbviewer.org.</b></div><div class=\"sk-container\" hidden><div class=\"sk-item\"><div class=\"sk-estimator sk-toggleable\"><input class=\"sk-toggleable__control sk-hidden--visually\" id=\"sk-estimator-id-1\" type=\"checkbox\" checked><label for=\"sk-estimator-id-1\" class=\"sk-toggleable__label sk-toggleable__label-arrow\">SVC</label><div class=\"sk-toggleable__content\"><pre>SVC(kernel=&#x27;linear&#x27;)</pre></div></div></div></div></div>"
            ]
          },
          "metadata": {},
          "execution_count": 12
        }
      ],
      "source": [
        "# Train the SVM classifier\n",
        "SVM.fit(X_train, y_train)"
      ]
    },
    {
      "cell_type": "markdown",
      "source": [
        "- It fits the training X and training Y dataset into SVM"
      ],
      "metadata": {
        "id": "hNgsVrzvogdo"
      }
    },
    {
      "cell_type": "markdown",
      "metadata": {
        "id": "dByMP8M3a5hC"
      },
      "source": [
        "### Using the predict function, make prediction on test data."
      ]
    },
    {
      "cell_type": "code",
      "execution_count": 13,
      "metadata": {
        "id": "UKssTBsTa8SR"
      },
      "outputs": [],
      "source": [
        "# Make predictions on the test set\n",
        "y_pred = SVM.predict(X_test)"
      ]
    },
    {
      "cell_type": "markdown",
      "source": [
        "- By using the test dataset we are making predictions in SVM."
      ],
      "metadata": {
        "id": "je06j4vaombp"
      }
    },
    {
      "cell_type": "markdown",
      "metadata": {
        "id": "bz23kYIkbEta"
      },
      "source": [
        "### Evaluate the performance of the SVM classifier on the testing set.\n",
        "Calculate accuracy, precision, recall and F1-score using Scikit Learn Library"
      ]
    },
    {
      "cell_type": "code",
      "execution_count": 14,
      "metadata": {
        "id": "aoxf5n8ZbYsk",
        "colab": {
          "base_uri": "https://localhost:8080/"
        },
        "outputId": "d74dfe43-5d71-483c-f914-51157e38a104"
      },
      "outputs": [
        {
          "output_type": "stream",
          "name": "stdout",
          "text": [
            "Accuracy: 0.9576666666666667\n",
            "Precision: 0.9587531981301491\n",
            "Recall: 0.9576666666666667\n",
            "F1 Score: 0.9576415857789573\n"
          ]
        }
      ],
      "source": [
        "# Use this cell for calculation of evaluation metrics\n",
        "# Accuracy\n",
        "accuracy = accuracy_score(y_test, y_pred)\n",
        "\n",
        "# Precision\n",
        "precision = precision_score(y_test, y_pred, average='weighted')\n",
        "\n",
        "# Recall\n",
        "recall = recall_score(y_test, y_pred, average='weighted')\n",
        "\n",
        "# F1-score\n",
        "f1 = f1_score(y_test, y_pred, average='weighted')\n",
        "\n",
        "# Print\n",
        "print(\"Accuracy:\", accuracy)\n",
        "print(\"Precision:\", precision)\n",
        "print(\"Recall:\", recall)\n",
        "print(\"F1 Score:\", f1)"
      ]
    },
    {
      "cell_type": "markdown",
      "source": [
        "- The performance of the model is evaluated using an evaluation matrix i.e., Accuracy, precision, Recall, and F1 Scores."
      ],
      "metadata": {
        "id": "OREiidzeouAR"
      }
    },
    {
      "cell_type": "markdown",
      "metadata": {
        "id": "5vPCtSelblY6"
      },
      "source": [
        "### Hyperparameter Tuning  \n",
        "Experiment with different values of hyperparameters in SVM, such as the choice of kernel (linear, polynomial, radial basis function), regularization parameter (C), and kernel parameters (degree, gamma).\n",
        "\n",
        "Create four models with different sets of hyperparameters and report the best hyperparameters found and compare the performance of the SVM classifier using these hyperparameters with the default hyperparameters (Use bar chart to compare the accuracies of the models)."
      ]
    },
    {
      "cell_type": "code",
      "source": [
        "import numpy as np\n",
        "import matplotlib.pyplot as plt\n",
        "from sklearn.svm import SVC\n",
        "from sklearn.metrics import accuracy_score\n",
        "\n",
        "# hyperparameter combinations\n",
        "hyperparameter_combinations = [\n",
        "    {'kernel': 'linear', 'C': 0.1, 'degree': 2, 'gamma': 0.1},\n",
        "    {'kernel': 'linear', 'C': 1, 'degree': 3, 'gamma': 1},\n",
        "    {'kernel': 'rbf', 'C': 1, 'degree': 3, 'gamma': 'scale'},\n",
        "    {'kernel': 'poly', 'C': 10, 'degree': 4, 'gamma': 'scale'}\n",
        "]\n",
        "\n",
        "# To store best hyperparameter and accuracy\n",
        "best_hyperparameters = {}\n",
        "best_accuracy = 0\n",
        "\n",
        "# List to store the accuracies of different models\n",
        "accuracies = []\n",
        "\n",
        "# Experiment with different hyperparameter combinations\n",
        "for hyperparameters in hyperparameter_combinations:\n",
        "\n",
        "    svm_model = SVC(**hyperparameters)\n",
        "    svm_model.fit(X_train, y_train)\n",
        "\n",
        "    # Predictions on the test dataset\n",
        "    y_pred = svm_model.predict(X_test)\n",
        "\n",
        "    # Calculate accuracy\n",
        "    accuracy = accuracy_score(y_test, y_pred)\n",
        "\n",
        "    # Add accuracy in the accuracies list\n",
        "    accuracies.append(accuracy)\n",
        "\n",
        "    # Compare accuracy to find the best accuracy\n",
        "    if accuracy > best_accuracy:\n",
        "        best_accuracy = accuracy\n",
        "        best_hyperparameters = hyperparameters\n",
        "\n",
        "# Print the best hyperparameters and accuracy\n",
        "print(\"Best Hyperparameters:\", best_hyperparameters)\n",
        "print(\"Best Accuracy:\", best_accuracy)\n"
      ],
      "metadata": {
        "colab": {
          "base_uri": "https://localhost:8080/"
        },
        "id": "pZcWZYXmGb2z",
        "outputId": "388e534b-6011-4133-bfd0-6d695dc9a21b"
      },
      "execution_count": 15,
      "outputs": [
        {
          "output_type": "stream",
          "name": "stdout",
          "text": [
            "Best Hyperparameters: {'kernel': 'linear', 'C': 1, 'degree': 3, 'gamma': 1}\n",
            "Best Accuracy: 0.9576666666666667\n"
          ]
        }
      ]
    },
    {
      "cell_type": "markdown",
      "source": [
        "- Experimenting by passing different hyperparameter values to find the best hyperparameter combination.\n",
        "- `accuracies` stores all the accuracy to compare for the best combination.\n",
        "- Finally printing the best combination of hyper-parameters and best accuracy."
      ],
      "metadata": {
        "id": "ccMY8Dd6pOCA"
      }
    },
    {
      "cell_type": "code",
      "source": [
        "# Bar chart to compare the accuracies of the models\n",
        "hyperparameters_labels = [str(hyperparameters) for hyperparameters in hyperparameter_combinations]\n",
        "x = np.arange(len(hyperparameters_labels))\n",
        "bar_colors = ['blue', 'green', 'red', 'purple']\n",
        "plt.bar(x, accuracies,color=bar_colors)\n",
        "plt.xlabel(\"Hyperparameters\")\n",
        "plt.ylabel(\"Accuracy\")\n",
        "plt.title(\"Model Accuracies with Different Hyperparameters\")\n",
        "plt.xticks(x, hyperparameters_labels, rotation=90)\n",
        "plt.show()"
      ],
      "metadata": {
        "colab": {
          "base_uri": "https://localhost:8080/",
          "height": 830
        },
        "id": "hIRBcMLsMwZO",
        "outputId": "376eac56-46ad-4aa2-ef9d-ee31e8865658"
      },
      "execution_count": 16,
      "outputs": [
        {
          "output_type": "display_data",
          "data": {
            "text/plain": [
              "<Figure size 640x480 with 1 Axes>"
            ],
            "image/png": "[encoded data removed]"
          },
          "metadata": {}
        }
      ]
    },
    {
      "cell_type": "markdown",
      "source": [
        "- The above is the bar graph which compares all the accuracies of the different combinations of hyperparameters that were taken.\n",
        "- As you can see the green one has the highest accuracy."
      ],
      "metadata": {
        "id": "Iouh0HTIpm7g"
      }
    },
    {
      "cell_type": "code",
      "execution_count": 17,
      "metadata": {
        "id": "Mm0mveBH4PGb",
        "colab": {
          "base_uri": "https://localhost:8080/"
        },
        "outputId": "a4a6b8a0-fe37-47bc-aeaf-2a9a16dde208"
      },
      "outputs": [
        {
          "output_type": "stream",
          "name": "stdout",
          "text": [
            "Confusion Matrix:\n",
            "[[1473   27]\n",
            " [ 100 1400]]\n",
            "Accuracy: 0.9576666666666667\n",
            "F1 Score: 0.9576415857789573\n",
            "Precision: 0.9587531981301491\n",
            "Recall: 0.9576666666666667\n"
          ]
        }
      ],
      "source": [
        "# Display the confusion matrix and the evaluation metrics mentioned above\n",
        "\n",
        "# Create SVM for best hyperparameter\n",
        "best_svm_model = SVC(kernel='linear', C= 1, degree= 3, gamma= 1)\n",
        "\n",
        "# Train the model for best hyperparameters\n",
        "best_svm_model.fit(X_train, y_train)\n",
        "\n",
        "# Predicting on test dataset\n",
        "y_pred_best = best_svm_model.predict(X_test)\n",
        "\n",
        "# Calculate Confusion Matric\n",
        "conf_matrix = confusion_matrix(y_test, y_pred_best)\n",
        "\n",
        "# Evaluation metrics calculation\n",
        "accuracy = accuracy_score(y_test, y_pred_best)\n",
        "precision = precision_score(y_test, y_pred_best, average='weighted')\n",
        "recall = recall_score(y_test, y_pred_best, average='weighted')\n",
        "f1 = f1_score(y_test, y_pred_best, average='weighted')\n",
        "\n",
        "# Print the confusion matrix\n",
        "print(\"Confusion Matrix:\")\n",
        "print(conf_matrix)\n",
        "\n",
        "# Print evaluation metrics\n",
        "print(\"Accuracy:\", accuracy)\n",
        "print(\"F1 Score:\", f1)\n",
        "print(\"Precision:\", precision)\n",
        "print(\"Recall:\", recall)\n"
      ]
    },
    {
      "cell_type": "markdown",
      "source": [
        "- Considering the best hyperparameters that we got in the above experiment, we find the confusion matrix for that and evaluation metric which is Accuracy, F1 score, Precision and Recall."
      ],
      "metadata": {
        "id": "dKJNL9duqCR9"
      }
    },
    {
      "cell_type": "markdown",
      "metadata": {
        "id": "pf8rJl8f4qmq"
      },
      "source": [
        "# Task 2: Linear Regression (25 %)"
      ]
    },
    {
      "cell_type": "markdown",
      "metadata": {
        "id": "gQ5oCQ789MuK"
      },
      "source": [
        "### 1) How does Gradient Descent work in the context of optimization?\n",
        "### 2) What are the differences between convex and non-convex?"
      ]
    },
    {
      "cell_type": "markdown",
      "metadata": {
        "id": "VA13po2i9Yp5"
      },
      "source": [
        "ANS:\n",
        "\n",
        "1.\n",
        "Gradient Descent is a way to find the lowest point of a curve or suface.\n",
        "Let suppose your are in a hilly area, and you wnat to go down to lowest point.\n",
        "Here's how Gradient Descent works:\n",
        "  - You start at some random point on the hill.\n",
        "  - You look around to figure out which way is downhill because you want to go toward the minimum point i.e., lowest point.\n",
        "  - You take a downhill direction. The size of your step is like how big of a step you are willing to take, if you take big steps, you might miss the minimum and if you take small steps it may take too long to reach the minimum.\n",
        "  - You repeat it, you look around, take a step towards the minimum, and keep doing this until you can't go down anymore.\n",
        "\n",
        "  Gradient Desent is a way to find the best slution by adjusting your position step by step until you cab't go any lower.\n",
        "\n",
        "  This method is widely used in machine learning and optimization problems to find the best values for things, like the right weights for a neural network, minimize error or cost function.\n",
        "\n",
        "\n",
        "\n",
        " 2.\n",
        " Convex and non-convex are used to describe the shape of the function.\n",
        "\n",
        "  **Convex**:\n",
        "\n",
        "  - A function that has just one minimum is called a convex.\n",
        "  - They are easy to solve and efficient in finding the global minimum.\n",
        "\n",
        "  **Non-Convex**\n",
        "\n",
        "  - A function that has multiple minimum is called as non-convex.\n",
        "  - They are complex to solve and do not guarantee to find the global minimum.\n"
      ]
    },
    {
      "cell_type": "markdown",
      "metadata": {
        "id": "lGZgQ8Ra6e-i"
      },
      "source": [
        "### Implement Linear Regression from scratch using gradient descent. Make sure to train it for several iterations with different learning rates.\n"
      ]
    },
    {
      "cell_type": "code",
      "source": [
        "class LinearRegression:\n",
        "    def __init__(self, lr=0.001, n_iters=10):\n",
        "        self.lr = lr\n",
        "        self.n_iters = n_iters\n",
        "        self.weights = None\n",
        "        self.bias = None\n",
        "\n",
        "    def fit(self, X, y):\n",
        "        n_samples, n_features = X.shape\n",
        "        self.weights = np.random.random(n_features)\n",
        "        self.bias = np.random.random(1)\n",
        "        for _ in range(self.n_iters):\n",
        "            y_pred = np.dot(X, self.weights) + self.bias\n",
        "            dw = (1 / n_samples) * np.dot(X.T, (y_pred - y))\n",
        "            db = (1 / n_samples) * np.sum(y_pred - y)\n",
        "            self.weights = self.weights - self.lr * dw\n",
        "            self.bias = self.bias - self.lr * db\n",
        "\n",
        "    def predict(self, X):\n",
        "        return np.dot(X, self.weights) + self.bias\n"
      ],
      "metadata": {
        "id": "r2zKmMg6Rj28"
      },
      "execution_count": 18,
      "outputs": []
    },
    {
      "cell_type": "markdown",
      "source": [
        "- The above is the implementation of Linear regression."
      ],
      "metadata": {
        "id": "mOwPYw3hrxRr"
      }
    },
    {
      "cell_type": "markdown",
      "metadata": {
        "id": "UCXXhO2e7sd1"
      },
      "source": [
        "### 1) Loading data from kaggle"
      ]
    },
    {
      "cell_type": "code",
      "execution_count": 19,
      "metadata": {
        "id": "4OyjlqDp72B4",
        "colab": {
          "base_uri": "https://localhost:8080/",
          "height": 300
        },
        "outputId": "8af42b7f-7de6-42e1-9a5b-eb28fcd71a55"
      },
      "outputs": [
        {
          "output_type": "execute_result",
          "data": {
            "text/plain": [
              "             cgpa     package\n",
              "count  200.000000  200.000000\n",
              "mean     6.990500    2.996050\n",
              "std      1.069409    0.691644\n",
              "min      4.260000    1.370000\n",
              "25%      6.190000    2.487500\n",
              "50%      6.965000    2.995000\n",
              "75%      7.737500    3.492500\n",
              "max      9.580000    4.620000"
            ],
            "text/html": [
              "\n",
              "  <div id=\"df-880d66de-1ff0-466f-be11-8231bcd11bed\" class=\"colab-df-container\">\n",
              "    <div>\n",
              "<style scoped>\n",
              "    .dataframe tbody tr th:only-of-type {\n",
              "        vertical-align: middle;\n",
              "    }\n",
              "\n",
              "    .dataframe tbody tr th {\n",
              "        vertical-align: top;\n",
              "    }\n",
              "\n",
              "    .dataframe thead th {\n",
              "        text-align: right;\n",
              "    }\n",
              "</style>\n",
              "<table border=\"1\" class=\"dataframe\">\n",
              "  <thead>\n",
              "    <tr style=\"text-align: right;\">\n",
              "      <th></th>\n",
              "      <th>cgpa</th>\n",
              "      <th>package</th>\n",
              "    </tr>\n",
              "  </thead>\n",
              "  <tbody>\n",
              "    <tr>\n",
              "      <th>count</th>\n",
              "      <td>200.000000</td>\n",
              "      <td>200.000000</td>\n",
              "    </tr>\n",
              "    <tr>\n",
              "      <th>mean</th>\n",
              "      <td>6.990500</td>\n",
              "      <td>2.996050</td>\n",
              "    </tr>\n",
              "    <tr>\n",
              "      <th>std</th>\n",
              "      <td>1.069409</td>\n",
              "      <td>0.691644</td>\n",
              "    </tr>\n",
              "    <tr>\n",
              "      <th>min</th>\n",
              "      <td>4.260000</td>\n",
              "      <td>1.370000</td>\n",
              "    </tr>\n",
              "    <tr>\n",
              "      <th>25%</th>\n",
              "      <td>6.190000</td>\n",
              "      <td>2.487500</td>\n",
              "    </tr>\n",
              "    <tr>\n",
              "      <th>50%</th>\n",
              "      <td>6.965000</td>\n",
              "      <td>2.995000</td>\n",
              "    </tr>\n",
              "    <tr>\n",
              "      <th>75%</th>\n",
              "      <td>7.737500</td>\n",
              "      <td>3.492500</td>\n",
              "    </tr>\n",
              "    <tr>\n",
              "      <th>max</th>\n",
              "      <td>9.580000</td>\n",
              "      <td>4.620000</td>\n",
              "    </tr>\n",
              "  </tbody>\n",
              "</table>\n",
              "</div>\n",
              "    <div class=\"colab-df-buttons\">\n",
              "\n",
              "  <div class=\"colab-df-container\">\n",
              "    <button class=\"colab-df-convert\" onclick=\"convertToInteractive('df-880d66de-1ff0-466f-be11-8231bcd11bed')\"\n",
              "            title=\"Convert this dataframe to an interactive table.\"\n",
              "            style=\"display:none;\">\n",
              "\n",
              "  <svg xmlns=\"http://www.w3.org/2000/svg\" height=\"24px\" viewBox=\"0 -960 960 960\">\n",
              "    <path d=\"M120-120v-720h720v720H120Zm60-500h600v-160H180v160Zm220 220h160v-160H400v160Zm0 220h160v-160H400v160ZM180-400h160v-160H180v160Zm440 0h160v-160H620v160ZM180-180h160v-160H180v160Zm440 0h160v-160H620v160Z\"/>\n",
              "  </svg>\n",
              "    </button>\n",
              "\n",
              "  <style>\n",
              "    .colab-df-container {\n",
              "      display:flex;\n",
              "      gap: 12px;\n",
              "    }\n",
              "\n",
              "    .colab-df-convert {\n",
              "      background-color: #E8F0FE;\n",
              "      border: none;\n",
              "      border-radius: 50%;\n",
              "      cursor: pointer;\n",
              "      display: none;\n",
              "      fill: #1967D2;\n",
              "      height: 32px;\n",
              "      padding: 0 0 0 0;\n",
              "      width: 32px;\n",
              "    }\n",
              "\n",
              "    .colab-df-convert:hover {\n",
              "      background-color: #E2EBFA;\n",
              "      box-shadow: 0px 1px 2px rgba(60, 64, 67, 0.3), 0px 1px 3px 1px rgba(60, 64, 67, 0.15);\n",
              "      fill: #174EA6;\n",
              "    }\n",
              "\n",
              "    .colab-df-buttons div {\n",
              "      margin-bottom: 4px;\n",
              "    }\n",
              "\n",
              "    [theme=dark] .colab-df-convert {\n",
              "      background-color: #3B4455;\n",
              "      fill: #D2E3FC;\n",
              "    }\n",
              "\n",
              "    [theme=dark] .colab-df-convert:hover {\n",
              "      background-color: #434B5C;\n",
              "      box-shadow: 0px 1px 3px 1px rgba(0, 0, 0, 0.15);\n",
              "      filter: drop-shadow(0px 1px 2px rgba(0, 0, 0, 0.3));\n",
              "      fill: #FFFFFF;\n",
              "    }\n",
              "  </style>\n",
              "\n",
              "    <script>\n",
              "      const buttonEl =\n",
              "        document.querySelector('#df-880d66de-1ff0-466f-be11-8231bcd11bed button.colab-df-convert');\n",
              "      buttonEl.style.display =\n",
              "        google.colab.kernel.accessAllowed ? 'block' : 'none';\n",
              "\n",
              "      async function convertToInteractive(key) {\n",
              "        const element = document.querySelector('#df-880d66de-1ff0-466f-be11-8231bcd11bed');\n",
              "        const dataTable =\n",
              "          await google.colab.kernel.invokeFunction('convertToInteractive',\n",
              "                                                    [key], {});\n",
              "        if (!dataTable) return;\n",
              "\n",
              "        const docLinkHtml = 'Like what you see? Visit the ' +\n",
              "          '<a target=\"_blank\" href=https://colab.research.google.com/notebooks/data_table.ipynb>data table notebook</a>'\n",
              "          + ' to learn more about interactive tables.';\n",
              "        element.innerHTML = '';\n",
              "        dataTable['output_type'] = 'display_data';\n",
              "        await google.colab.output.renderOutput(dataTable, element);\n",
              "        const docLink = document.createElement('div');\n",
              "        docLink.innerHTML = docLinkHtml;\n",
              "        element.appendChild(docLink);\n",
              "      }\n",
              "    </script>\n",
              "  </div>\n",
              "\n",
              "\n",
              "<div id=\"df-76459ec6-8051-4ce0-897f-f375e1df0d17\">\n",
              "  <button class=\"colab-df-quickchart\" onclick=\"quickchart('df-76459ec6-8051-4ce0-897f-f375e1df0d17')\"\n",
              "            title=\"Suggest charts.\"\n",
              "            style=\"display:none;\">\n",
              "\n",
              "<svg xmlns=\"http://www.w3.org/2000/svg\" height=\"24px\"viewBox=\"0 0 24 24\"\n",
              "     width=\"24px\">\n",
              "    <g>\n",
              "        <path d=\"M19 3H5c-1.1 0-2 .9-2 2v14c0 1.1.9 2 2 2h14c1.1 0 2-.9 2-2V5c0-1.1-.9-2-2-2zM9 17H7v-7h2v7zm4 0h-2V7h2v10zm4 0h-2v-4h2v4z\"/>\n",
              "    </g>\n",
              "</svg>\n",
              "  </button>\n",
              "\n",
              "<style>\n",
              "  .colab-df-quickchart {\n",
              "      --bg-color: #E8F0FE;\n",
              "      --fill-color: #1967D2;\n",
              "      --hover-bg-color: #E2EBFA;\n",
              "      --hover-fill-color: #174EA6;\n",
              "      --disabled-fill-color: #AAA;\n",
              "      --disabled-bg-color: #DDD;\n",
              "  }\n",
              "\n",
              "  [theme=dark] .colab-df-quickchart {\n",
              "      --bg-color: #3B4455;\n",
              "      --fill-color: #D2E3FC;\n",
              "      --hover-bg-color: #434B5C;\n",
              "      --hover-fill-color: #FFFFFF;\n",
              "      --disabled-bg-color: #3B4455;\n",
              "      --disabled-fill-color: #666;\n",
              "  }\n",
              "\n",
              "  .colab-df-quickchart {\n",
              "    background-color: var(--bg-color);\n",
              "    border: none;\n",
              "    border-radius: 50%;\n",
              "    cursor: pointer;\n",
              "    display: none;\n",
              "    fill: var(--fill-color);\n",
              "    height: 32px;\n",
              "    padding: 0;\n",
              "    width: 32px;\n",
              "  }\n",
              "\n",
              "  .colab-df-quickchart:hover {\n",
              "    background-color: var(--hover-bg-color);\n",
              "    box-shadow: 0 1px 2px rgba(60, 64, 67, 0.3), 0 1px 3px 1px rgba(60, 64, 67, 0.15);\n",
              "    fill: var(--button-hover-fill-color);\n",
              "  }\n",
              "\n",
              "  .colab-df-quickchart-complete:disabled,\n",
              "  .colab-df-quickchart-complete:disabled:hover {\n",
              "    background-color: var(--disabled-bg-color);\n",
              "    fill: var(--disabled-fill-color);\n",
              "    box-shadow: none;\n",
              "  }\n",
              "\n",
              "  .colab-df-spinner {\n",
              "    border: 2px solid var(--fill-color);\n",
              "    border-color: transparent;\n",
              "    border-bottom-color: var(--fill-color);\n",
              "    animation:\n",
              "      spin 1s steps(1) infinite;\n",
              "  }\n",
              "\n",
              "  @keyframes spin {\n",
              "    0% {\n",
              "      border-color: transparent;\n",
              "      border-bottom-color: var(--fill-color);\n",
              "      border-left-color: var(--fill-color);\n",
              "    }\n",
              "    20% {\n",
              "      border-color: transparent;\n",
              "      border-left-color: var(--fill-color);\n",
              "      border-top-color: var(--fill-color);\n",
              "    }\n",
              "    30% {\n",
              "      border-color: transparent;\n",
              "      border-left-color: var(--fill-color);\n",
              "      border-top-color: var(--fill-color);\n",
              "      border-right-color: var(--fill-color);\n",
              "    }\n",
              "    40% {\n",
              "      border-color: transparent;\n",
              "      border-right-color: var(--fill-color);\n",
              "      border-top-color: var(--fill-color);\n",
              "    }\n",
              "    60% {\n",
              "      border-color: transparent;\n",
              "      border-right-color: var(--fill-color);\n",
              "    }\n",
              "    80% {\n",
              "      border-color: transparent;\n",
              "      border-right-color: var(--fill-color);\n",
              "      border-bottom-color: var(--fill-color);\n",
              "    }\n",
              "    90% {\n",
              "      border-color: transparent;\n",
              "      border-bottom-color: var(--fill-color);\n",
              "    }\n",
              "  }\n",
              "</style>\n",
              "\n",
              "  <script>\n",
              "    async function quickchart(key) {\n",
              "      const quickchartButtonEl =\n",
              "        document.querySelector('#' + key + ' button');\n",
              "      quickchartButtonEl.disabled = true;  // To prevent multiple clicks.\n",
              "      quickchartButtonEl.classList.add('colab-df-spinner');\n",
              "      try {\n",
              "        const charts = await google.colab.kernel.invokeFunction(\n",
              "            'suggestCharts', [key], {});\n",
              "      } catch (error) {\n",
              "        console.error('Error during call to suggestCharts:', error);\n",
              "      }\n",
              "      quickchartButtonEl.classList.remove('colab-df-spinner');\n",
              "      quickchartButtonEl.classList.add('colab-df-quickchart-complete');\n",
              "    }\n",
              "    (() => {\n",
              "      let quickchartButtonEl =\n",
              "        document.querySelector('#df-76459ec6-8051-4ce0-897f-f375e1df0d17 button');\n",
              "      quickchartButtonEl.style.display =\n",
              "        google.colab.kernel.accessAllowed ? 'block' : 'none';\n",
              "    })();\n",
              "  </script>\n",
              "</div>\n",
              "    </div>\n",
              "  </div>\n"
            ]
          },
          "metadata": {},
          "execution_count": 19
        }
      ],
      "source": [
        "# dataset = https://www.kaggle.com/datasets/parvmodi/cgpa-vs-package-in-lpa\n",
        "file_path = '/content/drive/MyDrive/ColabNotebooks/placement.csv'\n",
        "\n",
        "# Load data\n",
        "data = pd.read_csv(file_path)\n",
        "\n",
        "data.describe()"
      ]
    },
    {
      "cell_type": "markdown",
      "source": [
        "- Loading the dataset from Kaggle which contains cgpa and package."
      ],
      "metadata": {
        "id": "_UFE2UH0sKCA"
      }
    },
    {
      "cell_type": "markdown",
      "metadata": {
        "id": "6GJTw2BO7y-N"
      },
      "source": [
        "### 2) Splitting the dataset"
      ]
    },
    {
      "cell_type": "code",
      "execution_count": 20,
      "metadata": {
        "id": "mMjwO1hs72hn"
      },
      "outputs": [],
      "source": [
        "X = data.drop(columns=['package'])\n",
        "y = data['package']\n",
        "\n",
        "# Split the dataset into training and testing sets\n",
        "X_train, X_test, y_train, y_test = train_test_split(X, y, test_size=0.3, random_state=123)"
      ]
    },
    {
      "cell_type": "markdown",
      "source": [
        "- Split the dataset into 30% test and 70% train dataset."
      ],
      "metadata": {
        "id": "wfdIz6QHsWFD"
      }
    },
    {
      "cell_type": "markdown",
      "metadata": {
        "id": "ORBuJoww798C"
      },
      "source": [
        "### 3) Create an instance of the LinearRegression class with different learning rates, and then fit the model."
      ]
    },
    {
      "cell_type": "code",
      "execution_count": 21,
      "metadata": {
        "id": "9nmFIf4L8R3E"
      },
      "outputs": [],
      "source": [
        "# Different Learning rates\n",
        "learning_rates = [0.01, 0.001, 0.0001]\n",
        "\n",
        "# Store all the results\n",
        "results = []\n",
        "\n",
        "# Calculate the results of each learning rate\n",
        "for lr in learning_rates:\n",
        "    reg = LinearRegression(lr=lr, n_iters=1000)\n",
        "    reg.fit(X_train, y_train)\n",
        "    y_predictions = reg.predict(X_test)\n",
        "\n",
        "    # Evaluate the model\n",
        "    mse = mean_squared_error(y_test, y_predictions)\n",
        "    r2 = r2_score(y_test, y_predictions)\n",
        "\n",
        "    results.append((lr, mse, r2))\n",
        "\n"
      ]
    },
    {
      "cell_type": "markdown",
      "source": [
        "- Evaluating the model using different learning rates and storing the results into `restults`."
      ],
      "metadata": {
        "id": "6fynuBNTsc9q"
      }
    },
    {
      "cell_type": "markdown",
      "metadata": {
        "id": "qWfppZD-7099"
      },
      "source": [
        "### 4) Evaluate your model's performance"
      ]
    },
    {
      "cell_type": "code",
      "execution_count": 22,
      "metadata": {
        "id": "m_pL24QF7DMk",
        "colab": {
          "base_uri": "https://localhost:8080/"
        },
        "outputId": "7ae621c8-7a02-4550-f620-6bfde47cdf94"
      },
      "outputs": [
        {
          "output_type": "stream",
          "name": "stdout",
          "text": [
            "Model with learning rate 0.01:\n",
            "Mean Squared Error: 0.14475948470431538\n",
            "R-squared Score: 0.7007538688505042\n",
            "\n",
            "Model with learning rate 0.001:\n",
            "Mean Squared Error: 0.14759224860814374\n",
            "R-squared Score: 0.6948979925297776\n",
            "\n",
            "Model with learning rate 0.0001:\n",
            "Mean Squared Error: 0.179418038448077\n",
            "R-squared Score: 0.629107868312148\n",
            "\n"
          ]
        }
      ],
      "source": [
        "for lr, mse, r2 in results:\n",
        "    print(f\"Model with learning rate {lr}:\")\n",
        "    print(f\"Mean Squared Error: {mse}\")\n",
        "    print(f\"R-squared Score: {r2}\\n\")"
      ]
    },
    {
      "cell_type": "markdown",
      "source": [
        "- Evaluating the model using Mean-square error and R-square Score.\n",
        "- Printing the values for different learning rates to compare the values."
      ],
      "metadata": {
        "id": "TYCXo0OlsuUl"
      }
    },
    {
      "cell_type": "markdown",
      "metadata": {
        "id": "pSFg5UfN8ctK"
      },
      "source": [
        "### Explain your evaluation matrix. What do you know about it?"
      ]
    },
    {
      "cell_type": "markdown",
      "metadata": {
        "id": "02HIMaAs8om2"
      },
      "source": [
        "ANS:\n",
        "\n",
        "Evaluation metric is used to measure how well the model is performing. They help us to understand if our predictions or classifications are accurate and reliable.\n",
        "Below are some key evaluation metrics:\n",
        "- Accuracy: It calculates the ratio of correct predictions or classifications out of the total predictions.\n",
        "- Precision: It is about the accuracy of positive predictions. It calculates the ratio of true positive predictions out of all the positive predictions (true positive and false positive included)\n",
        "- Recall: It calculated the ratio of true positives out of all actual positive cases.\n",
        "- F1 score: It is the combination of precision and recall. It is used to ensure a balance between how the model is with positive predictions and all the actual positives.\n",
        "- Mean Squared Error (MSE): It is commonly used for regression tasks.\n",
        "\n"
      ]
    },
    {
      "cell_type": "markdown",
      "metadata": {
        "id": "h77LWaIC6w72"
      },
      "source": [
        "### Implement Linear Regression from the scikit-learn library and perform hyperparameter tuning, following steps 1 to 4."
      ]
    },
    {
      "cell_type": "code",
      "source": [
        "from sklearn.linear_model import LinearRegression\n",
        "\n",
        "# Split the dataset into training and testing sets\n",
        "X_train, X_test, y_train, y_test = train_test_split(X, y, test_size=0.2, random_state=42)\n",
        "\n",
        "# Hyperparameter combinations\n",
        "hyperparameter_combinations = [\n",
        "    {'fit_intercept': True, 'positive': True, 'copy_X':True},\n",
        "    {'fit_intercept': True, 'positive':False, 'copy_X': False},\n",
        "    {'fit_intercept': False, 'positive': False, 'copy_X':True}\n",
        "]\n",
        "\n",
        "# Store best result\n",
        "best_model = None\n",
        "best_mse = float('inf')\n",
        "best_r2 = None\n",
        "\n",
        "# Loop through hyperparameter combinations\n",
        "for params in hyperparameter_combinations:\n",
        "    model = LinearRegression(**params)\n",
        "    model.fit(X_train, y_train)\n",
        "    y_predictions = model.predict(X_test)\n",
        "\n",
        "    mse = mean_squared_error(y_test, y_predictions)\n",
        "    r2 = r2_score(y_test, y_predictions)\n",
        "\n",
        "    print(f\"Model with hyperparameters {params}:\")\n",
        "    print(f\"Mean Squared Error: {mse}\")\n",
        "    print(f\"R-squared Score: {r2}\\n\")\n",
        "\n",
        "    if mse < best_mse:\n",
        "        best_mse = mse\n",
        "        best_r2 = r2\n",
        "        best_model = model\n",
        "\n",
        "print(\"Best Model:\")\n",
        "print(f\"Mean Squared Error: {best_mse}\")\n",
        "print(f\"R-squared Score: {best_r2}\")\n"
      ],
      "metadata": {
        "colab": {
          "base_uri": "https://localhost:8080/"
        },
        "id": "BilNDAe-2OKr",
        "outputId": "da18ed39-b0f9-4d16-b41c-760a31563889"
      },
      "execution_count": 23,
      "outputs": [
        {
          "output_type": "stream",
          "name": "stdout",
          "text": [
            "Model with hyperparameters {'fit_intercept': True, 'positive': True, 'copy_X': True}:\n",
            "Mean Squared Error: 0.08417638361329668\n",
            "R-squared Score: 0.773098431205167\n",
            "\n",
            "Model with hyperparameters {'fit_intercept': True, 'positive': False, 'copy_X': False}:\n",
            "Mean Squared Error: 0.08417638361329656\n",
            "R-squared Score: 0.7730984312051673\n",
            "\n",
            "Model with hyperparameters {'fit_intercept': False, 'positive': False, 'copy_X': True}:\n",
            "Mean Squared Error: 1.04939477057705\n",
            "R-squared Score: -1.8286950508932804\n",
            "\n",
            "Best Model:\n",
            "Mean Squared Error: 0.08417638361329656\n",
            "R-squared Score: 0.7730984312051673\n"
          ]
        }
      ]
    },
    {
      "cell_type": "markdown",
      "source": [
        "- This time we are using LinearRegression from scikit-learn library.\n",
        "- We perform the hyperparameter tuning using different hyperparameter combinations to find the best Model based on mse."
      ],
      "metadata": {
        "id": "OS0McVfXtEG1"
      }
    },
    {
      "cell_type": "markdown",
      "metadata": {
        "id": "IpcI8P2o837K"
      },
      "source": [
        "### Compare the performance of the two models"
      ]
    },
    {
      "cell_type": "markdown",
      "metadata": {
        "id": "ufT5-GQO7fK_"
      },
      "source": [
        "ANS:\n",
        "- When we use hyperparameter tuning the model performs better when compared to without hyperparameter tuning.\n",
        "- MSE means the prediction is off when it is squared and without hyperparameter the value is 0.134 and with a hyperparameter is 0.084 which is better because higher value indicates less accuracy."
      ]
    },
    {
      "cell_type": "markdown",
      "metadata": {
        "id": "0k5EaobYIB-L"
      },
      "source": [
        "# Task 3: Logistic Regression (25 %)"
      ]
    },
    {
      "cell_type": "markdown",
      "metadata": {
        "id": "pO8VAVuH_NfZ"
      },
      "source": [
        "### What is the difference between the sigmoid function and softmax?"
      ]
    },
    {
      "cell_type": "markdown",
      "source": [
        "**Sigmoid function**:\n",
        "\n",
        "Sigmoid functions are used to compress any value between 0 and 1. It is often used in binary classification preoblem where you want to decie between juct two opitons like \"yes\" or \"no\", \"spam\" or \"not spam\".\n",
        "\n",
        "**Softmax Function**:\n",
        "\n",
        "Softmax functions are used where there are more than two categories to choose form, like classifying animals into 'cat', 'dog', 'lion', etc. The softmax function takes a bunch of numbers and turn them into probabilities.\n"
      ],
      "metadata": {
        "id": "v9INx86ucWIx"
      }
    },
    {
      "cell_type": "markdown",
      "metadata": {
        "id": "FfIZ-jJr4vlE"
      },
      "source": [
        "### Implement Logistic Regression from scratch using gradient descent."
      ]
    },
    {
      "cell_type": "code",
      "execution_count": 24,
      "metadata": {
        "id": "aHbQKziA_bl0"
      },
      "outputs": [],
      "source": [
        "import numpy as np\n",
        "\n",
        "class LogisticRegression:\n",
        "    def __init__(self, learning_rate=0.001, n_iters=10, model=None, threshold=0.5):\n",
        "        self.lr = learning_rate\n",
        "        self.n_iters = n_iters\n",
        "        self.weights = None\n",
        "        self.bias = None\n",
        "        self.model = model\n",
        "        self.threshold = threshold\n",
        "\n",
        "    def fit(self, X, y):\n",
        "        n_samples, n_features = X.shape\n",
        "\n",
        "        if self.model == 'sigmoid':\n",
        "            self.weights = np.random.random(n_features)\n",
        "            self.bias = np.random.random(1)\n",
        "        elif self.model == 'softmax':\n",
        "            num_classes = len(np.unique(y))\n",
        "            self.weights = np.random.random((n_features, num_classes))\n",
        "            self.bias = np.random.random((1, num_classes))\n",
        "\n",
        "        for _ in range(self.n_iters):\n",
        "            linear_model = np.dot(X, self.weights) + self.bias\n",
        "            y_predicted = self.select_activation(linear_model)\n",
        "\n",
        "            if self.model == 'sigmoid':\n",
        "                y_predicted_cls = [1 if i > self.threshold else 0 for i in y_predicted]\n",
        "                y_diff = y_predicted - y\n",
        "            elif self.model == 'softmax':\n",
        "                y_one_hot = np.eye(num_classes)[y]\n",
        "                y_diff = y_predicted - y_one_hot\n",
        "\n",
        "            # Compute gradients\n",
        "            dw = (1 / n_samples) * np.dot(X.T, y_diff)\n",
        "            db = (1 / n_samples) * np.sum(y_diff, axis=0)\n",
        "\n",
        "            # Update parameters\n",
        "            self.weights -= self.lr * dw\n",
        "            self.bias -= self.lr * db\n",
        "\n",
        "    def predict(self, X):\n",
        "        linear_model = np.dot(X, self.weights) + self.bias\n",
        "        y_predicted = self.select_activation(linear_model)\n",
        "\n",
        "        if self.model == 'sigmoid':\n",
        "            y_predicted_cls = [1 if i > 0.5 else 0 for i in y_predicted]\n",
        "        elif self.model == 'softmax':\n",
        "            y_predicted_cls = np.argmax(y_predicted, axis=1)\n",
        "\n",
        "        return np.array(y_predicted_cls)\n",
        "\n",
        "    def select_activation(self, x):\n",
        "        if self.model == \"sigmoid\":\n",
        "            return 1 / (1 + np.exp(-x))\n",
        "        else:\n",
        "            exp_z = np.exp(x - np.max(x, axis=1, keepdims=True))\n",
        "            return exp_z / exp_z.sum(axis=1, keepdims=True)\n"
      ]
    },
    {
      "cell_type": "markdown",
      "source": [
        "- The above is the implementation of Logistic regression from scratch."
      ],
      "metadata": {
        "id": "zkBY7NTFvuPh"
      }
    },
    {
      "cell_type": "markdown",
      "metadata": {
        "id": "L7TMjIPImtyz"
      },
      "source": [
        "### 1) Loading data from kaggle"
      ]
    },
    {
      "cell_type": "code",
      "execution_count": 25,
      "metadata": {
        "id": "Bhl_7QvmmuMi",
        "colab": {
          "base_uri": "https://localhost:8080/"
        },
        "outputId": "7e2b20a2-0ad3-49fd-d081-6fc7f24e297c"
      },
      "outputs": [
        {
          "output_type": "stream",
          "name": "stdout",
          "text": [
            "       fixed acidity  volatile acidity  citric acid  residual sugar  \\\n",
            "count    1599.000000       1599.000000  1599.000000     1599.000000   \n",
            "mean        8.319637          0.527821     0.270976        2.538806   \n",
            "std         1.741096          0.179060     0.194801        1.409928   \n",
            "min         4.600000          0.120000     0.000000        0.900000   \n",
            "25%         7.100000          0.390000     0.090000        1.900000   \n",
            "50%         7.900000          0.520000     0.260000        2.200000   \n",
            "75%         9.200000          0.640000     0.420000        2.600000   \n",
            "max        15.900000          1.580000     1.000000       15.500000   \n",
            "\n",
            "         chlorides  free sulfur dioxide  total sulfur dioxide      density  \\\n",
            "count  1599.000000          1599.000000           1599.000000  1599.000000   \n",
            "mean      0.087467            15.874922             46.467792     0.996747   \n",
            "std       0.047065            10.460157             32.895324     0.001887   \n",
            "min       0.012000             1.000000              6.000000     0.990070   \n",
            "25%       0.070000             7.000000             22.000000     0.995600   \n",
            "50%       0.079000            14.000000             38.000000     0.996750   \n",
            "75%       0.090000            21.000000             62.000000     0.997835   \n",
            "max       0.611000            72.000000            289.000000     1.003690   \n",
            "\n",
            "                pH    sulphates      alcohol  \n",
            "count  1599.000000  1599.000000  1599.000000  \n",
            "mean      3.311113     0.658149    10.422983  \n",
            "std       0.154386     0.169507     1.065668  \n",
            "min       2.740000     0.330000     8.400000  \n",
            "25%       3.210000     0.550000     9.500000  \n",
            "50%       3.310000     0.620000    10.200000  \n",
            "75%       3.400000     0.730000    11.100000  \n",
            "max       4.010000     2.000000    14.900000  \n"
          ]
        }
      ],
      "source": [
        "# Load the data\n",
        "# Dataset = https://www.kaggle.com/datasets/nareshbhat/wine-quality-binary-classification\n",
        "file_path = '/content/drive/MyDrive/ColabNotebooks/wine.csv'\n",
        "data = pd.read_csv(file_path)\n",
        "print(data.describe())\n",
        "data['quality'] = data['quality'].replace({'good': 1, 'bad': 0})\n",
        "X = data.drop('quality', axis=1)\n",
        "y = data['quality']"
      ]
    },
    {
      "cell_type": "markdown",
      "source": [
        "- Loading wine-quality binary classification dataset from Kaggle and assigning the target feature as 'quality'.\n",
        "- Quality contains 2 values i.e., `good` and `bad`, so we first change the binary classification to integer values i.e., `good`: 1 and `bad`: 0."
      ],
      "metadata": {
        "id": "oTikB9P8v63W"
      }
    },
    {
      "cell_type": "markdown",
      "metadata": {
        "id": "As9zWFLcmxXa"
      },
      "source": [
        "\n",
        "### 2) Splitting the dataset"
      ]
    },
    {
      "cell_type": "code",
      "execution_count": 26,
      "metadata": {
        "id": "I642F9sWmzqC"
      },
      "outputs": [],
      "source": [
        "X_train, X_test, y_train, y_test = train_test_split(X, y, test_size=0.3, random_state=1234, stratify = y)"
      ]
    },
    {
      "cell_type": "markdown",
      "source": [
        "- Splitting the dataset into 30% test dataset and 80% as a train dataset."
      ],
      "metadata": {
        "id": "UVlobypOwpzF"
      }
    },
    {
      "cell_type": "markdown",
      "metadata": {
        "id": "finrcfz3m1Ey"
      },
      "source": [
        "### 3) Create an instance of the Logistic Regression class with different learning rates, and then fit the model.  Use the sigmoid and softmax functions to get the prediction. Make sure you train it for some iteration with different learning rates\n"
      ]
    },
    {
      "cell_type": "code",
      "execution_count": 27,
      "metadata": {
        "id": "SP-Skygym2r0"
      },
      "outputs": [],
      "source": [
        "learning_rates = [0.01, 0.001, 0.0001]\n",
        "models = ['sigmoid', 'softmax']\n",
        "\n",
        "results = {}\n",
        "\n",
        "for lr in learning_rates:\n",
        "    for model in models:\n",
        "        logreg = LogisticRegression(learning_rate=lr, n_iters=1000, model=model)\n",
        "        logreg.fit(X_train, y_train)\n",
        "        y_pred = logreg.predict(X_test)\n",
        "\n",
        "        accuracy = accuracy_score(y_test, y_pred)\n",
        "        precision = precision_score(y_test, y_pred, zero_division=1)\n",
        "        recall = recall_score(y_test, y_pred, zero_division=1)\n",
        "        f1 = f1_score(y_test, y_pred)\n",
        "\n",
        "        # Store the results in the dictionary\n",
        "        results[(lr, model)] = {\n",
        "            'accuracy': accuracy,\n",
        "            'precision': precision,\n",
        "            'recall': recall,\n",
        "            'f1_score': f1\n",
        "        }"
      ]
    },
    {
      "cell_type": "markdown",
      "source": [
        "- Testing out different combination of learning rates and models (sigmoid, softmax) and training the LogisticRegression function that we created."
      ],
      "metadata": {
        "id": "0p7EmgxZw0Ks"
      }
    },
    {
      "cell_type": "markdown",
      "metadata": {
        "id": "JDp3Cu1rm3FX"
      },
      "source": [
        "### 4) Evaluate your model's performance"
      ]
    },
    {
      "cell_type": "code",
      "execution_count": 28,
      "metadata": {
        "id": "DStaP_Eim3wE",
        "colab": {
          "base_uri": "https://localhost:8080/"
        },
        "outputId": "bf2660c0-facf-49e2-aaa5-88123db1b092"
      },
      "outputs": [
        {
          "output_type": "stream",
          "name": "stdout",
          "text": [
            "Results for Learning Rate = 0.01 and Model = sigmoid:\n",
            "Accuracy: 0.57\n",
            "Precision: 0.56\n",
            "Recall: 0.98\n",
            "F1 Score: 0.71\n",
            "\n",
            "Results for Learning Rate = 0.01 and Model = softmax:\n",
            "Accuracy: 0.57\n",
            "Precision: 0.55\n",
            "Recall: 0.98\n",
            "F1 Score: 0.71\n",
            "\n",
            "Results for Learning Rate = 0.001 and Model = sigmoid:\n",
            "Accuracy: 0.57\n",
            "Precision: 0.58\n",
            "Recall: 0.72\n",
            "F1 Score: 0.64\n",
            "\n",
            "Results for Learning Rate = 0.001 and Model = softmax:\n",
            "Accuracy: 0.66\n",
            "Precision: 0.65\n",
            "Recall: 0.82\n",
            "F1 Score: 0.72\n",
            "\n",
            "Results for Learning Rate = 0.0001 and Model = sigmoid:\n",
            "Accuracy: 0.62\n",
            "Precision: 0.61\n",
            "Recall: 0.80\n",
            "F1 Score: 0.69\n",
            "\n",
            "Results for Learning Rate = 0.0001 and Model = softmax:\n",
            "Accuracy: 0.51\n",
            "Precision: 0.55\n",
            "Recall: 0.46\n",
            "F1 Score: 0.50\n",
            "\n"
          ]
        }
      ],
      "source": [
        "for (lr, model), metrics in results.items():\n",
        "    print(f\"Results for Learning Rate = {lr} and Model = {model}:\")\n",
        "    print(f\"Accuracy: {metrics['accuracy']:.2f}\")\n",
        "    print(f\"Precision: {metrics['precision']:.2f}\")\n",
        "    print(f\"Recall: {metrics['recall']:.2f}\")\n",
        "    print(f\"F1 Score: {metrics['f1_score']:.2f}\")\n",
        "    print()"
      ]
    },
    {
      "cell_type": "markdown",
      "source": [
        "- Printing the evaluation matrixes for different combinations to compare the best combination of learning rate and model."
      ],
      "metadata": {
        "id": "sz3RQQD5xNyx"
      }
    },
    {
      "cell_type": "markdown",
      "metadata": {
        "id": "2n0wFgbt_ch6"
      },
      "source": [
        "\n",
        "### Implement Logistic Regression from the scikit-learn library and perform hyperparameter tuning. Follow steps 1 to 4\n"
      ]
    },
    {
      "cell_type": "code",
      "execution_count": 29,
      "metadata": {
        "id": "ApYGfRgc--wf",
        "colab": {
          "base_uri": "https://localhost:8080/"
        },
        "outputId": "55f7b213-d0df-4710-bcec-0e9b38898190"
      },
      "outputs": [
        {
          "output_type": "stream",
          "name": "stdout",
          "text": [
            "Best Hyperparameters: {'C': 1, 'class_weight': 'balanced', 'max_iter': 1000000, 'penalty': 'l2', 'random_state': 42, 'solver': 'liblinear'}\n",
            "Accuracy: 0.76\n",
            "Precision: 0.80\n",
            "Recall: 0.73\n",
            "F1 Score: 0.76\n"
          ]
        }
      ],
      "source": [
        "import pandas as pd\n",
        "from sklearn.model_selection import train_test_split\n",
        "from sklearn.linear_model import LogisticRegression\n",
        "from sklearn.metrics import accuracy_score, precision_score, recall_score, f1_score\n",
        "from sklearn.model_selection import GridSearchCV\n",
        "\n",
        "# Dataset = https://www.kaggle.com/datasets/nareshbhat/wine-quality-binary-classification\n",
        "# Load the data\n",
        "file_path = '/content/drive/MyDrive/ColabNotebooks/wine.csv'\n",
        "data = pd.read_csv(file_path)\n",
        "data['quality'] = data['quality'].replace({'good': 1, 'bad': 0})\n",
        "X = data.drop('quality', axis=1)\n",
        "y = data['quality']\n",
        "\n",
        "X_train, X_test, y_train, y_test = train_test_split(X, y, test_size=0.3, random_state=1234)\n",
        "\n",
        "# Define hyperparameters for tuning\n",
        "param_grid = {\n",
        "'C' : [0.1, 0.5, 1],\n",
        "'solver': ['lbfgs', 'liblinear', 'sag','saga'],\n",
        "'penalty' : ['l2'],\n",
        "'class_weight': ['balanced'],\n",
        "'random_state' : [42,1234],\n",
        "'max_iter':  [1000000]\n",
        "}\n",
        "\n",
        "# Create a Logistic Regression model\n",
        "logreg = LogisticRegression()\n",
        "\n",
        "# Hyperparameter tuning using GridSearchCV\n",
        "grid_search = GridSearchCV(estimator=logreg,param_grid=param_grid,scoring='neg_mean_squared_error',cv=5,n_jobs=1)\n",
        "\n",
        "grid_search.fit(X_train, y_train)\n",
        "\n",
        "# Best hyperparameters\n",
        "best_params = grid_search.best_params_\n",
        "\n",
        "# Create a Logistic Regression model with the best hyperparameters\n",
        "best_logreg = LogisticRegression(**best_params)\n",
        "best_logreg.fit(X_train, y_train)\n",
        "y_pred = best_logreg.predict(X_test)\n",
        "\n",
        "# Evaluate the model - Evaluation metric\n",
        "accuracy = accuracy_score(y_test, y_pred)\n",
        "precision = precision_score(y_test, y_pred)\n",
        "recall = recall_score(y_test, y_pred)\n",
        "f1 = f1_score(y_test, y_pred)\n",
        "\n",
        "print(f\"Best Hyperparameters: {best_params}\")\n",
        "print(f\"Accuracy: {accuracy:.2f}\")\n",
        "print(f\"Precision: {precision:.2f}\")\n",
        "print(f\"Recall: {recall:.2f}\")\n",
        "print(f\"F1 Score: {f1:.2f}\")\n"
      ]
    },
    {
      "cell_type": "markdown",
      "source": [
        "- The above code uses hyperparameter tuning to increase the efficiency of the model.\n",
        "- After using the hyperparameter there is a significant increase in the accuracy of the model.\n",
        "- In the above code I have used different combination of hyperparameters to estimate the best hyperparameter combination.\n",
        "- The best hyperparameters are printed with the evaluation metric for the best hyperparameters."
      ],
      "metadata": {
        "id": "5R4MG5CT2bqX"
      }
    },
    {
      "cell_type": "markdown",
      "metadata": {
        "id": "8-pzyNA6fMWU"
      },
      "source": [
        "# Task 4: Naive Bayes Classifier (25 %)\n",
        "### What is the main assumption of Naive Bayes classifiers?"
      ]
    },
    {
      "cell_type": "markdown",
      "metadata": {
        "id": "ZOr7de97h1lu"
      },
      "source": [
        "ANS:\n",
        "\n",
        "The main assuption of Naive Bayes classifiers is that the features used to make predictions are all independent of each other. In simple words its saying that when we're trying to make a guess or prediction, we assume that each piece of information we have doesn't affect the others."
      ]
    },
    {
      "cell_type": "markdown",
      "metadata": {
        "id": "Rad4-8LpihDm"
      },
      "source": [
        "## Implement the below code and provide explanation for the code(each section) as per your understanding"
      ]
    },
    {
      "cell_type": "markdown",
      "metadata": {
        "id": "TA5XRiftjOPp"
      },
      "source": [
        "### Import the necessary libraries for Naive Bayes classifier implementation\n",
        "\n"
      ]
    },
    {
      "cell_type": "code",
      "execution_count": 30,
      "metadata": {
        "id": "KO9Hv_SLhwmq"
      },
      "outputs": [],
      "source": [
        "# Use this cell to import the libraries\n",
        "import pandas as pd\n",
        "from sklearn.model_selection import train_test_split\n",
        "from sklearn.naive_bayes import GaussianNB\n",
        "from sklearn.metrics import accuracy_score, precision_score, recall_score, f1_score\n",
        "import matplotlib.pyplot as plt"
      ]
    },
    {
      "cell_type": "markdown",
      "source": [
        "- The above code imports all the necessary libraries used in Naive Bayes classifier implementation.\n",
        "- panda - Used for mathematical calculations/operations.\n",
        "- mathplotlib - For plotting graphs\n",
        "- sklearn"
      ],
      "metadata": {
        "id": "JYd0Sfsl3En_"
      }
    },
    {
      "cell_type": "markdown",
      "metadata": {
        "id": "woq9E7FSj83o"
      },
      "source": [
        "### Load the Dataset.\n",
        "### you can choose any dataset from publicly available datasets.\n",
        "Split the dataset into X and y."
      ]
    },
    {
      "cell_type": "code",
      "execution_count": 31,
      "metadata": {
        "id": "-5vAoKO5hvYs"
      },
      "outputs": [],
      "source": [
        "# Load the dataset\n",
        "# dataset= https://www.kaggle.com/datasets/shahedarman/naive-bayesgaussiannb\n",
        "\n",
        "file_path = '/content/drive/MyDrive/ColabNotebooks/SP_II_MN.csv'\n",
        "data = pd.read_csv(file_path)\n",
        "\n",
        "X = data.drop('Exited', axis=1)\n",
        "y = data['Exited']\n"
      ]
    },
    {
      "cell_type": "markdown",
      "source": [
        "- Loading the dataset from Kaggle for Naive Bayes"
      ],
      "metadata": {
        "id": "bqkYZh2m3os-"
      }
    },
    {
      "cell_type": "markdown",
      "metadata": {
        "id": "KWVcJMKFkuWT"
      },
      "source": [
        "### Create a dataframe(df) from X and y. Display the tail of df.\n"
      ]
    },
    {
      "cell_type": "code",
      "execution_count": 32,
      "metadata": {
        "id": "tpK52lpZk09G",
        "colab": {
          "base_uri": "https://localhost:8080/",
          "height": 206
        },
        "outputId": "c1931e0d-3f00-4057-db47-1e3aed78a350"
      },
      "outputs": [
        {
          "output_type": "execute_result",
          "data": {
            "text/plain": [
              "            ID  Score  Sex  Age  Authority      Money  Product no  \\\n",
              "9995  15606229    771    1   39          5       0.00           2   \n",
              "9996  15569892    516    1   35         10   57369.61           1   \n",
              "9997  15584532    709    0   36          7       0.00           1   \n",
              "9998  15682355    772    1   42          3   75075.31           2   \n",
              "9999  15628319    792    0   28          4  130142.79           1   \n",
              "\n",
              "      Balance (estimated)  Exited  \n",
              "9995             96270.64       0  \n",
              "9996            101699.77       0  \n",
              "9997             42085.58       1  \n",
              "9998             92888.52       1  \n",
              "9999             38190.78       0  "
            ],
            "text/html": [
              "\n",
              "  <div id=\"df-a3735726-6c61-4041-b006-acefc7c8c2c7\" class=\"colab-df-container\">\n",
              "    <div>\n",
              "<style scoped>\n",
              "    .dataframe tbody tr th:only-of-type {\n",
              "        vertical-align: middle;\n",
              "    }\n",
              "\n",
              "    .dataframe tbody tr th {\n",
              "        vertical-align: top;\n",
              "    }\n",
              "\n",
              "    .dataframe thead th {\n",
              "        text-align: right;\n",
              "    }\n",
              "</style>\n",
              "<table border=\"1\" class=\"dataframe\">\n",
              "  <thead>\n",
              "    <tr style=\"text-align: right;\">\n",
              "      <th></th>\n",
              "      <th>ID</th>\n",
              "      <th>Score</th>\n",
              "      <th>Sex</th>\n",
              "      <th>Age</th>\n",
              "      <th>Authority</th>\n",
              "      <th>Money</th>\n",
              "      <th>Product no</th>\n",
              "      <th>Balance (estimated)</th>\n",
              "      <th>Exited</th>\n",
              "    </tr>\n",
              "  </thead>\n",
              "  <tbody>\n",
              "    <tr>\n",
              "      <th>9995</th>\n",
              "      <td>15606229</td>\n",
              "      <td>771</td>\n",
              "      <td>1</td>\n",
              "      <td>39</td>\n",
              "      <td>5</td>\n",
              "      <td>0.00</td>\n",
              "      <td>2</td>\n",
              "      <td>96270.64</td>\n",
              "      <td>0</td>\n",
              "    </tr>\n",
              "    <tr>\n",
              "      <th>9996</th>\n",
              "      <td>15569892</td>\n",
              "      <td>516</td>\n",
              "      <td>1</td>\n",
              "      <td>35</td>\n",
              "      <td>10</td>\n",
              "      <td>57369.61</td>\n",
              "      <td>1</td>\n",
              "      <td>101699.77</td>\n",
              "      <td>0</td>\n",
              "    </tr>\n",
              "    <tr>\n",
              "      <th>9997</th>\n",
              "      <td>15584532</td>\n",
              "      <td>709</td>\n",
              "      <td>0</td>\n",
              "      <td>36</td>\n",
              "      <td>7</td>\n",
              "      <td>0.00</td>\n",
              "      <td>1</td>\n",
              "      <td>42085.58</td>\n",
              "      <td>1</td>\n",
              "    </tr>\n",
              "    <tr>\n",
              "      <th>9998</th>\n",
              "      <td>15682355</td>\n",
              "      <td>772</td>\n",
              "      <td>1</td>\n",
              "      <td>42</td>\n",
              "      <td>3</td>\n",
              "      <td>75075.31</td>\n",
              "      <td>2</td>\n",
              "      <td>92888.52</td>\n",
              "      <td>1</td>\n",
              "    </tr>\n",
              "    <tr>\n",
              "      <th>9999</th>\n",
              "      <td>15628319</td>\n",
              "      <td>792</td>\n",
              "      <td>0</td>\n",
              "      <td>28</td>\n",
              "      <td>4</td>\n",
              "      <td>130142.79</td>\n",
              "      <td>1</td>\n",
              "      <td>38190.78</td>\n",
              "      <td>0</td>\n",
              "    </tr>\n",
              "  </tbody>\n",
              "</table>\n",
              "</div>\n",
              "    <div class=\"colab-df-buttons\">\n",
              "\n",
              "  <div class=\"colab-df-container\">\n",
              "    <button class=\"colab-df-convert\" onclick=\"convertToInteractive('df-a3735726-6c61-4041-b006-acefc7c8c2c7')\"\n",
              "            title=\"Convert this dataframe to an interactive table.\"\n",
              "            style=\"display:none;\">\n",
              "\n",
              "  <svg xmlns=\"http://www.w3.org/2000/svg\" height=\"24px\" viewBox=\"0 -960 960 960\">\n",
              "    <path d=\"M120-120v-720h720v720H120Zm60-500h600v-160H180v160Zm220 220h160v-160H400v160Zm0 220h160v-160H400v160ZM180-400h160v-160H180v160Zm440 0h160v-160H620v160ZM180-180h160v-160H180v160Zm440 0h160v-160H620v160Z\"/>\n",
              "  </svg>\n",
              "    </button>\n",
              "\n",
              "  <style>\n",
              "    .colab-df-container {\n",
              "      display:flex;\n",
              "      gap: 12px;\n",
              "    }\n",
              "\n",
              "    .colab-df-convert {\n",
              "      background-color: #E8F0FE;\n",
              "      border: none;\n",
              "      border-radius: 50%;\n",
              "      cursor: pointer;\n",
              "      display: none;\n",
              "      fill: #1967D2;\n",
              "      height: 32px;\n",
              "      padding: 0 0 0 0;\n",
              "      width: 32px;\n",
              "    }\n",
              "\n",
              "    .colab-df-convert:hover {\n",
              "      background-color: #E2EBFA;\n",
              "      box-shadow: 0px 1px 2px rgba(60, 64, 67, 0.3), 0px 1px 3px 1px rgba(60, 64, 67, 0.15);\n",
              "      fill: #174EA6;\n",
              "    }\n",
              "\n",
              "    .colab-df-buttons div {\n",
              "      margin-bottom: 4px;\n",
              "    }\n",
              "\n",
              "    [theme=dark] .colab-df-convert {\n",
              "      background-color: #3B4455;\n",
              "      fill: #D2E3FC;\n",
              "    }\n",
              "\n",
              "    [theme=dark] .colab-df-convert:hover {\n",
              "      background-color: #434B5C;\n",
              "      box-shadow: 0px 1px 3px 1px rgba(0, 0, 0, 0.15);\n",
              "      filter: drop-shadow(0px 1px 2px rgba(0, 0, 0, 0.3));\n",
              "      fill: #FFFFFF;\n",
              "    }\n",
              "  </style>\n",
              "\n",
              "    <script>\n",
              "      const buttonEl =\n",
              "        document.querySelector('#df-a3735726-6c61-4041-b006-acefc7c8c2c7 button.colab-df-convert');\n",
              "      buttonEl.style.display =\n",
              "        google.colab.kernel.accessAllowed ? 'block' : 'none';\n",
              "\n",
              "      async function convertToInteractive(key) {\n",
              "        const element = document.querySelector('#df-a3735726-6c61-4041-b006-acefc7c8c2c7');\n",
              "        const dataTable =\n",
              "          await google.colab.kernel.invokeFunction('convertToInteractive',\n",
              "                                                    [key], {});\n",
              "        if (!dataTable) return;\n",
              "\n",
              "        const docLinkHtml = 'Like what you see? Visit the ' +\n",
              "          '<a target=\"_blank\" href=https://colab.research.google.com/notebooks/data_table.ipynb>data table notebook</a>'\n",
              "          + ' to learn more about interactive tables.';\n",
              "        element.innerHTML = '';\n",
              "        dataTable['output_type'] = 'display_data';\n",
              "        await google.colab.output.renderOutput(dataTable, element);\n",
              "        const docLink = document.createElement('div');\n",
              "        docLink.innerHTML = docLinkHtml;\n",
              "        element.appendChild(docLink);\n",
              "      }\n",
              "    </script>\n",
              "  </div>\n",
              "\n",
              "\n",
              "<div id=\"df-96ad0ef1-3737-42f3-a59a-38d49e002b3f\">\n",
              "  <button class=\"colab-df-quickchart\" onclick=\"quickchart('df-96ad0ef1-3737-42f3-a59a-38d49e002b3f')\"\n",
              "            title=\"Suggest charts.\"\n",
              "            style=\"display:none;\">\n",
              "\n",
              "<svg xmlns=\"http://www.w3.org/2000/svg\" height=\"24px\"viewBox=\"0 0 24 24\"\n",
              "     width=\"24px\">\n",
              "    <g>\n",
              "        <path d=\"M19 3H5c-1.1 0-2 .9-2 2v14c0 1.1.9 2 2 2h14c1.1 0 2-.9 2-2V5c0-1.1-.9-2-2-2zM9 17H7v-7h2v7zm4 0h-2V7h2v10zm4 0h-2v-4h2v4z\"/>\n",
              "    </g>\n",
              "</svg>\n",
              "  </button>\n",
              "\n",
              "<style>\n",
              "  .colab-df-quickchart {\n",
              "      --bg-color: #E8F0FE;\n",
              "      --fill-color: #1967D2;\n",
              "      --hover-bg-color: #E2EBFA;\n",
              "      --hover-fill-color: #174EA6;\n",
              "      --disabled-fill-color: #AAA;\n",
              "      --disabled-bg-color: #DDD;\n",
              "  }\n",
              "\n",
              "  [theme=dark] .colab-df-quickchart {\n",
              "      --bg-color: #3B4455;\n",
              "      --fill-color: #D2E3FC;\n",
              "      --hover-bg-color: #434B5C;\n",
              "      --hover-fill-color: #FFFFFF;\n",
              "      --disabled-bg-color: #3B4455;\n",
              "      --disabled-fill-color: #666;\n",
              "  }\n",
              "\n",
              "  .colab-df-quickchart {\n",
              "    background-color: var(--bg-color);\n",
              "    border: none;\n",
              "    border-radius: 50%;\n",
              "    cursor: pointer;\n",
              "    display: none;\n",
              "    fill: var(--fill-color);\n",
              "    height: 32px;\n",
              "    padding: 0;\n",
              "    width: 32px;\n",
              "  }\n",
              "\n",
              "  .colab-df-quickchart:hover {\n",
              "    background-color: var(--hover-bg-color);\n",
              "    box-shadow: 0 1px 2px rgba(60, 64, 67, 0.3), 0 1px 3px 1px rgba(60, 64, 67, 0.15);\n",
              "    fill: var(--button-hover-fill-color);\n",
              "  }\n",
              "\n",
              "  .colab-df-quickchart-complete:disabled,\n",
              "  .colab-df-quickchart-complete:disabled:hover {\n",
              "    background-color: var(--disabled-bg-color);\n",
              "    fill: var(--disabled-fill-color);\n",
              "    box-shadow: none;\n",
              "  }\n",
              "\n",
              "  .colab-df-spinner {\n",
              "    border: 2px solid var(--fill-color);\n",
              "    border-color: transparent;\n",
              "    border-bottom-color: var(--fill-color);\n",
              "    animation:\n",
              "      spin 1s steps(1) infinite;\n",
              "  }\n",
              "\n",
              "  @keyframes spin {\n",
              "    0% {\n",
              "      border-color: transparent;\n",
              "      border-bottom-color: var(--fill-color);\n",
              "      border-left-color: var(--fill-color);\n",
              "    }\n",
              "    20% {\n",
              "      border-color: transparent;\n",
              "      border-left-color: var(--fill-color);\n",
              "      border-top-color: var(--fill-color);\n",
              "    }\n",
              "    30% {\n",
              "      border-color: transparent;\n",
              "      border-left-color: var(--fill-color);\n",
              "      border-top-color: var(--fill-color);\n",
              "      border-right-color: var(--fill-color);\n",
              "    }\n",
              "    40% {\n",
              "      border-color: transparent;\n",
              "      border-right-color: var(--fill-color);\n",
              "      border-top-color: var(--fill-color);\n",
              "    }\n",
              "    60% {\n",
              "      border-color: transparent;\n",
              "      border-right-color: var(--fill-color);\n",
              "    }\n",
              "    80% {\n",
              "      border-color: transparent;\n",
              "      border-right-color: var(--fill-color);\n",
              "      border-bottom-color: var(--fill-color);\n",
              "    }\n",
              "    90% {\n",
              "      border-color: transparent;\n",
              "      border-bottom-color: var(--fill-color);\n",
              "    }\n",
              "  }\n",
              "</style>\n",
              "\n",
              "  <script>\n",
              "    async function quickchart(key) {\n",
              "      const quickchartButtonEl =\n",
              "        document.querySelector('#' + key + ' button');\n",
              "      quickchartButtonEl.disabled = true;  // To prevent multiple clicks.\n",
              "      quickchartButtonEl.classList.add('colab-df-spinner');\n",
              "      try {\n",
              "        const charts = await google.colab.kernel.invokeFunction(\n",
              "            'suggestCharts', [key], {});\n",
              "      } catch (error) {\n",
              "        console.error('Error during call to suggestCharts:', error);\n",
              "      }\n",
              "      quickchartButtonEl.classList.remove('colab-df-spinner');\n",
              "      quickchartButtonEl.classList.add('colab-df-quickchart-complete');\n",
              "    }\n",
              "    (() => {\n",
              "      let quickchartButtonEl =\n",
              "        document.querySelector('#df-96ad0ef1-3737-42f3-a59a-38d49e002b3f button');\n",
              "      quickchartButtonEl.style.display =\n",
              "        google.colab.kernel.accessAllowed ? 'block' : 'none';\n",
              "    })();\n",
              "  </script>\n",
              "</div>\n",
              "    </div>\n",
              "  </div>\n"
            ]
          },
          "metadata": {},
          "execution_count": 32
        }
      ],
      "source": [
        "df = pd.DataFrame(data)\n",
        "df.tail()"
      ]
    },
    {
      "cell_type": "markdown",
      "source": [
        "- Creating a Data Frame and printing the last 5 Rows using .tail() functions."
      ],
      "metadata": {
        "id": "oneGEdXx345k"
      }
    },
    {
      "cell_type": "markdown",
      "metadata": {
        "id": "7rd_pS1zk5_a"
      },
      "source": [
        "### Handle missing values"
      ]
    },
    {
      "cell_type": "code",
      "source": [
        "# Check if the dataset has null or missing values and handle them\n",
        "missing_values = df.isnull().sum()\n",
        "data.fillna(df.mean(numeric_only=True), inplace=True)\n",
        "missing_values_after_handling = data.isnull().sum()\n",
        "print(\"Missing values before handling:\")\n",
        "print(missing_values)\n",
        "print(\"\\nMissing values after handling:\")\n",
        "print(missing_values_after_handling)"
      ],
      "metadata": {
        "colab": {
          "base_uri": "https://localhost:8080/"
        },
        "id": "8EZprYeT5KKl",
        "outputId": "8534a4ca-99db-4cfc-b82a-d0b552d67845"
      },
      "execution_count": 33,
      "outputs": [
        {
          "output_type": "stream",
          "name": "stdout",
          "text": [
            "Missing values before handling:\n",
            "ID                     0\n",
            "Score                  0\n",
            "Sex                    0\n",
            "Age                    0\n",
            "Authority              0\n",
            "Money                  0\n",
            "Product no             0\n",
            "Balance (estimated)    0\n",
            "Exited                 0\n",
            "dtype: int64\n",
            "\n",
            "Missing values after handling:\n",
            "ID                     0\n",
            "Score                  0\n",
            "Sex                    0\n",
            "Age                    0\n",
            "Authority              0\n",
            "Money                  0\n",
            "Product no             0\n",
            "Balance (estimated)    0\n",
            "Exited                 0\n",
            "dtype: int64\n"
          ]
        }
      ]
    },
    {
      "cell_type": "markdown",
      "source": [
        "- Printing all the missing values in the dataset and handling if there are any missing values.\n",
        "- The dataset does not have any missing values in any feature."
      ],
      "metadata": {
        "id": "H1kZRrNx4WfO"
      }
    },
    {
      "cell_type": "markdown",
      "metadata": {
        "id": "kx9k5xub7sV7"
      },
      "source": [
        "\n",
        "\n",
        "\n",
        "### Encoding Categorical Features. If your dataset contains categorical variables, you may need to encode them as numerical values before using them with Naive Bayes."
      ]
    },
    {
      "cell_type": "code",
      "execution_count": 34,
      "metadata": {
        "id": "dYxedU837ych"
      },
      "outputs": [],
      "source": [
        "# Use this cell for encoding\n",
        "X = pd.get_dummies(X, columns=['Sex'], drop_first=True)\n"
      ]
    },
    {
      "cell_type": "markdown",
      "source": [
        "- The above code is used to encode the 'sex' fetaure.\n",
        "- Encoding means changing the categorical features into numeric values."
      ],
      "metadata": {
        "id": "alB3n5Up7-TK"
      }
    },
    {
      "cell_type": "markdown",
      "metadata": {
        "id": "-lexHNYU8c_d"
      },
      "source": [
        "### Split the data into Training and Testing sets 70% and 30% using train_test_split function"
      ]
    },
    {
      "cell_type": "code",
      "execution_count": 35,
      "metadata": {
        "id": "eQxf9W1d8dlQ"
      },
      "outputs": [],
      "source": [
        "X_train, X_test, y_train, y_test = train_test_split(X, y, test_size=0.3, random_state=42)"
      ]
    },
    {
      "cell_type": "markdown",
      "source": [
        "- 30% of the dataset is split into test data and 70% as a training dataset."
      ],
      "metadata": {
        "id": "sbb-P2NzCvcY"
      }
    },
    {
      "cell_type": "markdown",
      "metadata": {
        "id": "YatvlKGi8lGx"
      },
      "source": [
        "### There are three main types of Naive Bayes models commonly used:\n",
        "* Gaussian Naive Bayes\n",
        "* Multinomial Naive Bayes\n",
        "* Bernoulli Naive Bayes\n",
        "\n",
        "These three variants of Naive Bayes models differ in their assumptions about the underlying distribution of the features and the way they estimate the probabilities for classification. The choice of the Naive Bayes variant depends on the nature of the features in your dataset. Gaussian Naive Bayes is suitable for continuous features, while Multinomial Naive Bayes and Bernoulli Naive Bayes are appropriate for discrete or binary features."
      ]
    },
    {
      "cell_type": "markdown",
      "metadata": {
        "id": "YWXOGFN8_oVs"
      },
      "source": [
        "### Create a Naive Bayes classifier object using ONLY one of the Naive Bayes model types\n",
        "\n",
        "Gaussian Naive Bayes, Multinomial Naive Bayes, and Bernoulli Naive Bayes can all be used to create a Naive Bayes classifier object. Select one, and explain your decision to use that specific naive bayes classifier.\n",
        "https://scikit-learn.org/stable/modules/naive_bayes.html\n",
        "Use this link to get the code for Naive Bayes classifier."
      ]
    },
    {
      "cell_type": "markdown",
      "source": [
        "- I choose Gaussian Naive Bayes because the data is continuous variables associated with features."
      ],
      "metadata": {
        "id": "WcpDFOCOD5cl"
      }
    },
    {
      "cell_type": "code",
      "execution_count": 36,
      "metadata": {
        "id": "wBhcoAO7_EHJ"
      },
      "outputs": [],
      "source": [
        "# Create naive bayes classifier object\n",
        "naive_bayes_model = GaussianNB()"
      ]
    },
    {
      "cell_type": "markdown",
      "source": [
        "- Initializing the Gaussian Naive Bayes"
      ],
      "metadata": {
        "id": "LkDPOKw3EOYz"
      }
    },
    {
      "cell_type": "markdown",
      "metadata": {
        "id": "Bo8LTeFsBepO"
      },
      "source": [
        "###Fit the training data into the model using fit function"
      ]
    },
    {
      "cell_type": "code",
      "execution_count": 37,
      "metadata": {
        "id": "z9A8ysjKBlZu",
        "colab": {
          "base_uri": "https://localhost:8080/",
          "height": 75
        },
        "outputId": "b2d1abe9-bd31-49f2-aa4b-fc9cb98d181f"
      },
      "outputs": [
        {
          "output_type": "execute_result",
          "data": {
            "text/plain": [
              "GaussianNB()"
            ],
            "text/html": [
              "<style>#sk-container-id-2 {color: black;background-color: white;}#sk-container-id-2 pre{padding: 0;}#sk-container-id-2 div.sk-toggleable {background-color: white;}#sk-container-id-2 label.sk-toggleable__label {cursor: pointer;display: block;width: 100%;margin-bottom: 0;padding: 0.3em;box-sizing: border-box;text-align: center;}#sk-container-id-2 label.sk-toggleable__label-arrow:before {content: \"▸\";float: left;margin-right: 0.25em;color: #696969;}#sk-container-id-2 label.sk-toggleable__label-arrow:hover:before {color: black;}#sk-container-id-2 div.sk-estimator:hover label.sk-toggleable__label-arrow:before {color: black;}#sk-container-id-2 div.sk-toggleable__content {max-height: 0;max-width: 0;overflow: hidden;text-align: left;background-color: #f0f8ff;}#sk-container-id-2 div.sk-toggleable__content pre {margin: 0.2em;color: black;border-radius: 0.25em;background-color: #f0f8ff;}#sk-container-id-2 input.sk-toggleable__control:checked~div.sk-toggleable__content {max-height: 200px;max-width: 100%;overflow: auto;}#sk-container-id-2 input.sk-toggleable__control:checked~label.sk-toggleable__label-arrow:before {content: \"▾\";}#sk-container-id-2 div.sk-estimator input.sk-toggleable__control:checked~label.sk-toggleable__label {background-color: #d4ebff;}#sk-container-id-2 div.sk-label input.sk-toggleable__control:checked~label.sk-toggleable__label {background-color: #d4ebff;}#sk-container-id-2 input.sk-hidden--visually {border: 0;clip: rect(1px 1px 1px 1px);clip: rect(1px, 1px, 1px, 1px);height: 1px;margin: -1px;overflow: hidden;padding: 0;position: absolute;width: 1px;}#sk-container-id-2 div.sk-estimator {font-family: monospace;background-color: #f0f8ff;border: 1px dotted black;border-radius: 0.25em;box-sizing: border-box;margin-bottom: 0.5em;}#sk-container-id-2 div.sk-estimator:hover {background-color: #d4ebff;}#sk-container-id-2 div.sk-parallel-item::after {content: \"\";width: 100%;border-bottom: 1px solid gray;flex-grow: 1;}#sk-container-id-2 div.sk-label:hover label.sk-toggleable__label {background-color: #d4ebff;}#sk-container-id-2 div.sk-serial::before {content: \"\";position: absolute;border-left: 1px solid gray;box-sizing: border-box;top: 0;bottom: 0;left: 50%;z-index: 0;}#sk-container-id-2 div.sk-serial {display: flex;flex-direction: column;align-items: center;background-color: white;padding-right: 0.2em;padding-left: 0.2em;position: relative;}#sk-container-id-2 div.sk-item {position: relative;z-index: 1;}#sk-container-id-2 div.sk-parallel {display: flex;align-items: stretch;justify-content: center;background-color: white;position: relative;}#sk-container-id-2 div.sk-item::before, #sk-container-id-2 div.sk-parallel-item::before {content: \"\";position: absolute;border-left: 1px solid gray;box-sizing: border-box;top: 0;bottom: 0;left: 50%;z-index: -1;}#sk-container-id-2 div.sk-parallel-item {display: flex;flex-direction: column;z-index: 1;position: relative;background-color: white;}#sk-container-id-2 div.sk-parallel-item:first-child::after {align-self: flex-end;width: 50%;}#sk-container-id-2 div.sk-parallel-item:last-child::after {align-self: flex-start;width: 50%;}#sk-container-id-2 div.sk-parallel-item:only-child::after {width: 0;}#sk-container-id-2 div.sk-dashed-wrapped {border: 1px dashed gray;margin: 0 0.4em 0.5em 0.4em;box-sizing: border-box;padding-bottom: 0.4em;background-color: white;}#sk-container-id-2 div.sk-label label {font-family: monospace;font-weight: bold;display: inline-block;line-height: 1.2em;}#sk-container-id-2 div.sk-label-container {text-align: center;}#sk-container-id-2 div.sk-container {/* jupyter's `normalize.less` sets `[hidden] { display: none; }` but bootstrap.min.css set `[hidden] { display: none !important; }` so we also need the `!important` here to be able to override the default hidden behavior on the sphinx rendered scikit-learn.org. See: https://github.com/scikit-learn/scikit-learn/issues/21755 */display: inline-block !important;position: relative;}#sk-container-id-2 div.sk-text-repr-fallback {display: none;}</style><div id=\"sk-container-id-2\" class=\"sk-top-container\"><div class=\"sk-text-repr-fallback\"><pre>GaussianNB()</pre><b>In a Jupyter environment, please rerun this cell to show the HTML representation or trust the notebook. <br />On GitHub, the HTML representation is unable to render, please try loading this page with nbviewer.org.</b></div><div class=\"sk-container\" hidden><div class=\"sk-item\"><div class=\"sk-estimator sk-toggleable\"><input class=\"sk-toggleable__control sk-hidden--visually\" id=\"sk-estimator-id-2\" type=\"checkbox\" checked><label for=\"sk-estimator-id-2\" class=\"sk-toggleable__label sk-toggleable__label-arrow\">GaussianNB</label><div class=\"sk-toggleable__content\"><pre>GaussianNB()</pre></div></div></div></div></div>"
            ]
          },
          "metadata": {},
          "execution_count": 37
        }
      ],
      "source": [
        "# Train the classifier\n",
        "naive_bayes_model.fit(X_train, y_train)\n"
      ]
    },
    {
      "cell_type": "markdown",
      "metadata": {
        "id": "F9sZ4JpJB-W0"
      },
      "source": [
        "### Using the predict function, make prediction on test data."
      ]
    },
    {
      "cell_type": "code",
      "execution_count": 38,
      "metadata": {
        "id": "zdp9ASlKCDBd"
      },
      "outputs": [],
      "source": [
        "# Make predictions on the test set\n",
        "y_pred = naive_bayes_model.predict(X_test)"
      ]
    },
    {
      "cell_type": "markdown",
      "source": [
        "- Making predictions using the predict function on test dataset."
      ],
      "metadata": {
        "id": "0q9s2P5OEmxK"
      }
    },
    {
      "cell_type": "markdown",
      "metadata": {
        "id": "ke6KRa-BCLp-"
      },
      "source": [
        "### Evaluate the performance of the Naive Bayes classifier on the testing set.\n",
        "Calculate accuracy, precision, recall and F1-score using Scikit Learn Library"
      ]
    },
    {
      "cell_type": "code",
      "execution_count": 39,
      "metadata": {
        "id": "VCvD_IQ2CRlu"
      },
      "outputs": [],
      "source": [
        "# Use this cell for calculation of evaluation metrics\n",
        "accuracy = accuracy_score(y_test, y_pred)\n",
        "precision = precision_score(y_test, y_pred)\n",
        "recall = recall_score(y_test, y_pred)\n",
        "f1 = f1_score(y_test, y_pred)"
      ]
    },
    {
      "cell_type": "markdown",
      "source": [
        "- Calculating the Evaluation metric i.e., accuracy, precision, recall and f1 score."
      ],
      "metadata": {
        "id": "5VHpOng3EtMF"
      }
    },
    {
      "cell_type": "code",
      "execution_count": 40,
      "metadata": {
        "id": "9Ydwxqf_Qexb",
        "colab": {
          "base_uri": "https://localhost:8080/",
          "height": 791
        },
        "outputId": "4c38fb84-7e87-4563-e5a4-8fa052fcd9fc"
      },
      "outputs": [
        {
          "output_type": "display_data",
          "data": {
            "text/plain": [
              "<Figure size 800x500 with 1 Axes>"
            ],
            "image/png": "[encoded data removed]"
          },
          "metadata": {}
        },
        {
          "output_type": "stream",
          "name": "stdout",
          "text": [
            "            ID  Score  Sex  Age  Authority      Money  Product no  \\\n",
            "9995  15606229    771    1   39          5       0.00           2   \n",
            "9996  15569892    516    1   35         10   57369.61           1   \n",
            "9997  15584532    709    0   36          7       0.00           1   \n",
            "9998  15682355    772    1   42          3   75075.31           2   \n",
            "9999  15628319    792    0   28          4  130142.79           1   \n",
            "\n",
            "      Balance (estimated)  Exited  \n",
            "9995             96270.64       0  \n",
            "9996            101699.77       0  \n",
            "9997             42085.58       1  \n",
            "9998             92888.52       1  \n",
            "9999             38190.78       0  \n",
            "Accuracy: 0.791\n",
            "Precision: 0.328\n",
            "Recall: 0.0702054794520548\n",
            "F1 Score: 0.1156558533145275\n"
          ]
        }
      ],
      "source": [
        "#Use this cell for Visualization\n",
        "plt.figure(figsize=(8, 5))\n",
        "plt.hist(df['Score'], bins=20, color='skyblue')\n",
        "plt.xlabel('Score')\n",
        "plt.ylabel('Frequency')\n",
        "plt.title('Distribution of Score')\n",
        "plt.show()\n",
        "\n",
        "# Display the tail of the DataFrame\n",
        "print(df.tail())\n",
        "\n",
        "# Print evaluation metrics\n",
        "print(\"Accuracy:\", accuracy)\n",
        "print(\"Precision:\", precision)\n",
        "print(\"Recall:\", recall)\n",
        "print(\"F1 Score:\", f1)"
      ]
    },
    {
      "cell_type": "markdown",
      "source": [
        "- The above code uses matplotlib for visualization i.e., plotting a graph between score and frequency and displaying the Evaluation metric."
      ],
      "metadata": {
        "id": "csq9ZXVQFOVD"
      }
    },
    {
      "cell_type": "code",
      "source": [],
      "metadata": {
        "id": "yXA-IhdIFYv3"
      },
      "execution_count": 40,
      "outputs": []
    }
  ],
  "metadata": {
    "colab": {
      "provenance": []
    },
    "kernelspec": {
      "display_name": "Python 3",
      "name": "python3"
    },
    "language_info": {
      "name": "python"
    }
  },
  "nbformat": 4,
  "nbformat_minor": 0
}