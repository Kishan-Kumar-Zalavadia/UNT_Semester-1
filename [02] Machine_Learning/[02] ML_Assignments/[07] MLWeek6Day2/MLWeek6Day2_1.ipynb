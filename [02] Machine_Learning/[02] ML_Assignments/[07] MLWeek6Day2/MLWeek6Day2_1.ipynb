{
  "cells": [
    {
      "cell_type": "markdown",
      "metadata": {
        "id": "8yBy-jmvsd63"
      },
      "source": [
        "## Course: CSCE 5215 Machine Learning\n",
        "## Professor: Zeenat Tariq\n",
        "## Activity 5"
      ]
    },
    {
      "cell_type": "markdown",
      "metadata": {
        "id": "B_R2RbjXZnRt"
      },
      "source": [
        "\n",
        "\n",
        "*   The SVM (Support Vector Machine) is a supervised machine learning algorithm typically used for binary classification problems.\n"
      ]
    },
    {
      "cell_type": "markdown",
      "metadata": {
        "id": "JB7ByVo4b5YM"
      },
      "source": [
        "* SVm model trained by feeding a dataset with labeled examples (xᵢ, yᵢ).\n",
        " xᵢ --> Represents feature vector [contains feature set like mean radius, mean texture, mean perimeter, mean area for breast cancer dataset]\n",
        " yᵢ --> Represents the label [Benign, Malignant]"
      ]
    },
    {
      "cell_type": "markdown",
      "metadata": {
        "id": "ReB6xXTYdsXc"
      },
      "source": [
        "Import libraries"
      ]
    },
    {
      "cell_type": "code",
      "execution_count": 1,
      "metadata": {
        "id": "m7hqLpZoJhpd"
      },
      "outputs": [],
      "source": [
        "from sklearn.model_selection import train_test_split\n",
        "from sklearn import datasets\n",
        "import matplotlib.pyplot as plt\n",
        "import numpy as np\n",
        "from sklearn.metrics import confusion_matrix\n",
        "from sklearn.metrics import classification_report\n",
        "from sklearn.model_selection import RandomizedSearchCV\n",
        "from sklearn import datasets\n",
        "from sklearn.metrics import accuracy_score\n",
        "from IPython.display import Image"
      ]
    },
    {
      "cell_type": "code",
      "execution_count": 2,
      "metadata": {
        "id": "UKlxb6iXtRus",
        "colab": {
          "base_uri": "https://localhost:8080/",
          "height": 472
        },
        "outputId": "688dbb6e-1bb9-4c24-c942-74e340b354cf"
      },
      "outputs": [
        {
          "output_type": "display_data",
          "data": {
            "text/plain": [
              "<Figure size 640x480 with 1 Axes>"
            ],
            "image/png": "[encoded data removed]"
          },
          "metadata": {}
        }
      ],
      "source": [
        "\n",
        "X, y = datasets.make_blobs(n_samples=50, n_features=2, centers=2, cluster_std=1.05, random_state=40)\n",
        "# n_samples=50 --> Number of records/samples\n",
        "# n_features=2  --> Number of Features\n",
        "# centers=2     --> This parameter defines the number of clusters or blobs to be generated.\n",
        "# cluster_std=1.05 --> It determines the standard deviation of each cluster or blob. The higher the value, the more scattered the points within each blob.\n",
        "# random_state=40  --> This parameter sets the random seed for the random number generator. It ensures that the generated dataset is reproducible.\n",
        "y = np.where(y == 0, -1, 1) # Replace 0 with -1\n",
        "#Split the data into Train and Test sets\n",
        "X_train, X_test, y_train, y_test = train_test_split(X, y, test_size=0.2, random_state=123)\n",
        "# Generate scatter plot for training data\n",
        "plt.scatter(X_train[:,0], X_train[:,1])\n",
        "plt.title('Linearly separable data')\n",
        "plt.xlabel('X1')\n",
        "plt.ylabel('X2')\n",
        "plt.show()"
      ]
    },
    {
      "cell_type": "markdown",
      "metadata": {
        "id": "ZoeGQ0dEtYv8"
      },
      "source": [
        "Steps:\n",
        "\n",
        "Training\n",
        "\n",
        "*   Initialize weights\n",
        "*   Apply Update Rule for n_iters\n",
        "\n",
        "Predict\n",
        "\n",
        "* Calculate y= Sign(w.x-b)\n"
      ]
    },
    {
      "cell_type": "code",
      "execution_count": 3,
      "metadata": {
        "id": "cKK7Ua3UtZmO"
      },
      "outputs": [],
      "source": [
        "class SVM:\n",
        "\n",
        "    def __init__(self, learning_rate=0.001, lambda_param=0.01, n_iters=1000):\n",
        "        self.lr = learning_rate\n",
        "        self.lambda_param = lambda_param\n",
        "        self.n_iters = n_iters\n",
        "        self.w = None\n",
        "        self.b = None\n",
        "\n",
        "    def fit(self, X, y):\n",
        "        n_samples, n_features = X.shape\n",
        "\n",
        "        # initialize weights\n",
        "        self.w = np.zeros(n_features)\n",
        "        self.b = 0\n",
        "        # Stochastic Gradient Descent or SGD method\n",
        "        for _ in range(self.n_iters):\n",
        "            for idx, x_i in enumerate(X):\n",
        "                condition = y[idx] * (np.dot(x_i, self.w) - self.b) >= 1\n",
        "                if condition:\n",
        "                    self.w -= self.lr * (2 * self.lambda_param * self.w)\n",
        "                else:\n",
        "                    self.w -= self.lr * (2 * self.lambda_param * self.w - np.dot(x_i, y[idx]))\n",
        "                    self.b -= self.lr * y[idx]\n",
        "\n",
        "\n",
        "    def predict(self, X):\n",
        "        approx = np.dot(X, self.w) - self.b\n",
        "        return np.sign(approx)"
      ]
    },
    {
      "cell_type": "code",
      "execution_count": 4,
      "metadata": {
        "id": "rzZONGkotZj1",
        "colab": {
          "base_uri": "https://localhost:8080/"
        },
        "outputId": "69e12541-10bf-4bc6-905a-4dc722e68349"
      },
      "outputs": [
        {
          "output_type": "stream",
          "name": "stdout",
          "text": [
            "SVM classification accuracy 1.0\n"
          ]
        }
      ],
      "source": [
        "clf = SVM()\n",
        "clf.fit(X_train, y_train)\n",
        "predictions = clf.predict(X_test)\n",
        "\n",
        "def accuracy(y_true, y_pred):\n",
        "    accuracy = np.sum(y_true == y_pred) / len(y_true)\n",
        "    return accuracy\n",
        "\n",
        "print(\"SVM classification accuracy\", accuracy(y_test, predictions))"
      ]
    },
    {
      "cell_type": "markdown",
      "metadata": {
        "id": "y860Wy3RthKD"
      },
      "source": [
        "Visualizing the hyperplane that seperates the two classes."
      ]
    },
    {
      "cell_type": "code",
      "execution_count": 5,
      "metadata": {
        "id": "IfTnaEgQtZhb",
        "colab": {
          "base_uri": "https://localhost:8080/",
          "height": 430
        },
        "outputId": "6c4a0f6e-f73b-48bb-ee77-e812bba229d6"
      },
      "outputs": [
        {
          "output_type": "display_data",
          "data": {
            "text/plain": [
              "<Figure size 640x480 with 1 Axes>"
            ],
            "image/png": "[encoded data removed]"
          },
          "metadata": {}
        }
      ],
      "source": [
        "def visualize_svm():\n",
        "        def get_hyperplane_value(x, w, b, offset):\n",
        "            return (-w[0] * x + b + offset) / w[1]\n",
        "\n",
        "        fig = plt.figure()\n",
        "        ax = fig.add_subplot(1, 1, 1)\n",
        "        plt.scatter(X[:, 0], X[:, 1], marker=\"o\", c=y)\n",
        "\n",
        "        x0_1 = np.amin(X[:, 0])\n",
        "        x0_2 = np.amax(X[:, 0])\n",
        "\n",
        "        x1_1 = get_hyperplane_value(x0_1, clf.w, clf.b, 0)\n",
        "        x1_2 = get_hyperplane_value(x0_2, clf.w, clf.b, 0)\n",
        "\n",
        "        x1_1_m = get_hyperplane_value(x0_1, clf.w, clf.b, -1)\n",
        "        x1_2_m = get_hyperplane_value(x0_2, clf.w, clf.b, -1)\n",
        "\n",
        "        x1_1_p = get_hyperplane_value(x0_1, clf.w, clf.b, 1)\n",
        "        x1_2_p = get_hyperplane_value(x0_2, clf.w, clf.b, 1)\n",
        "\n",
        "        ax.plot([x0_1, x0_2], [x1_1, x1_2], \"y--\")\n",
        "        ax.plot([x0_1, x0_2], [x1_1_m, x1_2_m], \"k\")\n",
        "        ax.plot([x0_1, x0_2], [x1_1_p, x1_2_p], \"k\")\n",
        "\n",
        "        x1_min = np.amin(X[:, 1])\n",
        "        x1_max = np.amax(X[:, 1])\n",
        "        ax.set_ylim([x1_min - 3, x1_max + 3])\n",
        "\n",
        "        plt.show()\n",
        "\n",
        "visualize_svm()"
      ]
    },
    {
      "cell_type": "markdown",
      "metadata": {
        "id": "ffs-2lWlKja0"
      },
      "source": [
        "\n",
        "### Loading Data\n"
      ]
    },
    {
      "cell_type": "code",
      "execution_count": 6,
      "metadata": {
        "id": "6K7Q_Mg08Oy4"
      },
      "outputs": [],
      "source": [
        "#Load dataset\n",
        "breast_cancer = datasets.load_breast_cancer()"
      ]
    },
    {
      "cell_type": "code",
      "execution_count": 7,
      "metadata": {
        "id": "MVo-4l04LMxv"
      },
      "outputs": [],
      "source": [
        "# Split the dataset into features (X) and target variable (y)\n",
        "X = breast_cancer.data\n",
        "y = breast_cancer.target"
      ]
    },
    {
      "cell_type": "code",
      "execution_count": 8,
      "metadata": {
        "id": "dlpKeV4ULwyd"
      },
      "outputs": [],
      "source": [
        "# Split the data into training and testing sets\n",
        "X_train, X_test, y_train, y_test = train_test_split(X, y, test_size=0.2, random_state=42, stratify=y)"
      ]
    },
    {
      "cell_type": "markdown",
      "metadata": {
        "id": "De1njZzhYe4q"
      },
      "source": [
        "https://scikit-learn.org/stable/modules/generated/sklearn.svm.SVC.html"
      ]
    },
    {
      "cell_type": "code",
      "execution_count": 9,
      "metadata": {
        "id": "sXAR25flYnnt",
        "colab": {
          "base_uri": "https://localhost:8080/"
        },
        "outputId": "ca88ce89-5992-4290-9a03-843e9214ba58"
      },
      "outputs": [
        {
          "output_type": "execute_result",
          "data": {
            "text/plain": [
              "{'C': 1.0,\n",
              " 'break_ties': False,\n",
              " 'cache_size': 200,\n",
              " 'class_weight': None,\n",
              " 'coef0': 0.0,\n",
              " 'decision_function_shape': 'ovr',\n",
              " 'degree': 3,\n",
              " 'gamma': 'scale',\n",
              " 'kernel': 'rbf',\n",
              " 'max_iter': -1,\n",
              " 'probability': False,\n",
              " 'random_state': None,\n",
              " 'shrinking': True,\n",
              " 'tol': 0.001,\n",
              " 'verbose': False}"
            ]
          },
          "metadata": {},
          "execution_count": 9
        }
      ],
      "source": [
        "from sklearn.svm import SVC\n",
        "SVC().get_params()"
      ]
    },
    {
      "cell_type": "code",
      "execution_count": 10,
      "metadata": {
        "id": "WrmYSCxUZ7W1",
        "colab": {
          "base_uri": "https://localhost:8080/",
          "height": 501
        },
        "outputId": "0d3bb4b4-34c3-4599-90b3-fdc38a3bcfc6"
      },
      "outputs": [
        {
          "output_type": "execute_result",
          "data": {
            "text/html": [
              "<img src=\"https://miro.medium.com/v2/resize:fit:1100/format:webp/1*KsO48nIV0ohZzQ_ZPstoOA.png\"/>"
            ],
            "text/plain": [
              "<IPython.core.display.Image object>"
            ]
          },
          "metadata": {},
          "execution_count": 10
        }
      ],
      "source": [
        "Image(url=\"https://miro.medium.com/v2/resize:fit:1100/format:webp/1*KsO48nIV0ohZzQ_ZPstoOA.png\")"
      ]
    },
    {
      "cell_type": "markdown",
      "metadata": {
        "id": "OcQi0C_-MKCG"
      },
      "source": [
        "### SVM Kernels\n",
        "The SVM algorithm is implemented in practice using a kernel. A kernel transforms an input data space into the required form. SVM uses a technique called the kernel trick. Here, the kernel takes a low-dimensional input space and transforms it into a higher dimensional space. In other words, you can say that it converts nonseparable problem to separable problems by adding more dimension to it. It is most useful in non-linear separation problem. Kernel trick helps you to build a more accurate classifier.\n",
        "\n",
        "* **Linear Kernel** : A linear kernel can be used as normal dot product any two given observations. The product between two vectors is the sum of the multiplication of each pair of input values.\n",
        "                  K(x, xi) = sum(x * xi)\n",
        "*  **Polynomial** : Kernel A polynomial kernel is a more generalized form of the linear kernel. The polynomial kernel can distinguish curved or nonlinear input space.\n",
        "                  K(x,xi) = 1 + sum(x * xi)^d\n",
        "* **Radial Basis** : Function Kernel The Radial basis function kernel is a popular kernel function commonly used in support vector machine classification. RBF can map an input space in infinite dimensional space.\n",
        "                  K(x,xi) = exp(-gamma * sum((x – xi)^2))\n"
      ]
    },
    {
      "cell_type": "markdown",
      "metadata": {
        "id": "v7LdREPCZj3y"
      },
      "source": [
        "### Implementation of SVM with Scikit\n"
      ]
    },
    {
      "cell_type": "code",
      "execution_count": 11,
      "metadata": {
        "id": "u7P8TmyKLzTn",
        "colab": {
          "base_uri": "https://localhost:8080/"
        },
        "outputId": "223aed26-4ffa-4ea2-948d-17dae9d838d8"
      },
      "outputs": [
        {
          "output_type": "stream",
          "name": "stdout",
          "text": [
            "0.956140350877193\n"
          ]
        }
      ],
      "source": [
        "#Create a svm Classifier\n",
        "clf = SVC(kernel='linear') # Linear Kernel\n",
        "\n",
        "#Train the model using the training sets\n",
        "clf.fit(X_train, y_train)\n",
        "\n",
        "#Predict the response for test dataset\n",
        "y_pred = clf.predict(X_test)\n",
        "\n",
        "# Calculate the accuracy of the classifier\n",
        "accuracy = accuracy_score(y_test, y_pred)\n",
        "print(accuracy)"
      ]
    },
    {
      "cell_type": "code",
      "execution_count": 12,
      "metadata": {
        "id": "9gf6vk_IYHdw",
        "colab": {
          "base_uri": "https://localhost:8080/"
        },
        "outputId": "cea8f106-990e-4b0d-84a7-534a2ce7e0ba"
      },
      "outputs": [
        {
          "output_type": "execute_result",
          "data": {
            "text/plain": [
              "array([[1.348e+01, 2.082e+01, 8.840e+01, ..., 2.258e-01, 2.807e-01,\n",
              "        1.071e-01],\n",
              "       [1.344e+01, 2.158e+01, 8.618e+01, ..., 1.112e-01, 2.994e-01,\n",
              "        7.146e-02],\n",
              "       [1.742e+01, 2.556e+01, 1.145e+02, ..., 1.099e-01, 1.603e-01,\n",
              "        6.818e-02],\n",
              "       ...,\n",
              "       [1.785e+01, 1.323e+01, 1.146e+02, ..., 8.341e-02, 1.783e-01,\n",
              "        5.871e-02],\n",
              "       [1.469e+01, 1.398e+01, 9.822e+01, ..., 1.108e-01, 2.827e-01,\n",
              "        9.208e-02],\n",
              "       [1.426e+01, 1.965e+01, 9.783e+01, ..., 1.505e-01, 2.398e-01,\n",
              "        1.082e-01]])"
            ]
          },
          "metadata": {},
          "execution_count": 12
        }
      ],
      "source": [
        "clf.support_vectors_"
      ]
    },
    {
      "cell_type": "markdown",
      "metadata": {
        "id": "Hjs-7msARd0h"
      },
      "source": [
        "### Change the kernal to Polynomial in the below SVM classifier object"
      ]
    },
    {
      "cell_type": "code",
      "execution_count": 13,
      "metadata": {
        "id": "C7GsNd6NwqaK",
        "colab": {
          "base_uri": "https://localhost:8080/"
        },
        "outputId": "faeea6c4-4447-44b0-d690-431f11338be4"
      },
      "outputs": [
        {
          "output_type": "stream",
          "name": "stdout",
          "text": [
            "0.8771929824561403\n"
          ]
        }
      ],
      "source": [
        "#Import svm model\n",
        "\n",
        "#Create a svm Classifier\n",
        "clf = SVC(kernel='poly', C=0.01)\n",
        "\n",
        "#Train the model using the training sets\n",
        "clf.fit(X_train, y_train)\n",
        "\n",
        "#Predict the response for test dataset\n",
        "y_pred = clf.predict(X_test)\n",
        "\n",
        "# Calculate the accuracy of the classifier\n",
        "accuracy = accuracy_score(y_test, y_pred)\n",
        "print(accuracy)"
      ]
    },
    {
      "cell_type": "markdown",
      "metadata": {
        "id": "ICoOBEh3ZiPM"
      },
      "source": [
        "Confusion matrix"
      ]
    },
    {
      "cell_type": "code",
      "execution_count": 14,
      "metadata": {
        "id": "sWrTfUkvKIQd",
        "colab": {
          "base_uri": "https://localhost:8080/"
        },
        "outputId": "fea15abc-c790-4f35-ed5d-738ca6596206"
      },
      "outputs": [
        {
          "output_type": "execute_result",
          "data": {
            "text/plain": [
              "array([[28, 14],\n",
              "       [ 0, 72]])"
            ]
          },
          "metadata": {},
          "execution_count": 14
        }
      ],
      "source": [
        "cm = confusion_matrix(y_test, y_pred)\n",
        "cm"
      ]
    },
    {
      "cell_type": "markdown",
      "metadata": {
        "id": "e_z5oXWOZrGG"
      },
      "source": [
        "Classification report"
      ]
    },
    {
      "cell_type": "code",
      "execution_count": 15,
      "metadata": {
        "id": "VSNwkaKEQMHe",
        "colab": {
          "base_uri": "https://localhost:8080/"
        },
        "outputId": "d8c59b1d-b094-4797-f481-0f2e46f46ccb"
      },
      "outputs": [
        {
          "output_type": "stream",
          "name": "stdout",
          "text": [
            "              precision    recall  f1-score   support\n",
            "\n",
            "           0       1.00      0.67      0.80        42\n",
            "           1       0.84      1.00      0.91        72\n",
            "\n",
            "    accuracy                           0.88       114\n",
            "   macro avg       0.92      0.83      0.86       114\n",
            "weighted avg       0.90      0.88      0.87       114\n",
            "\n"
          ]
        }
      ],
      "source": [
        "print(classification_report(y_test, y_pred))"
      ]
    },
    {
      "cell_type": "markdown",
      "metadata": {
        "id": "FSSFh0mCRrKn"
      },
      "source": [
        "Practice\n",
        "\n",
        "1) Get a dataset from Kaggle.\n",
        "\n",
        "2) Show a description of the dataset\n",
        "\n",
        "3) Show if there is a nan value, and count them.\n",
        "\n",
        "4) Implement an SVC model with hyperparameter tuning. For hyperparameters, visit https://scikit-learn.org/stable/modules/generated/sklearn.svm.SVC.html\n",
        "Make sure you use stratify and apply 5-Fold Cross-Validation in your hyperparameter tunning step\n",
        "\n",
        "5) Show the parameters that give the best results\n",
        "\n",
        "6) Show the estimator that was chosen by the search\n",
        "\n",
        "7) Calculate the GridSearch CV score on the test set\n",
        "\n",
        "Do the same process for regression."
      ]
    },
    {
      "cell_type": "code",
      "execution_count": 16,
      "metadata": {
        "id": "dUd20CcIZESe"
      },
      "outputs": [],
      "source": [
        "# Here is the dataset for regression model\n",
        "from sklearn.datasets import load_diabetes\n",
        "# Load the regression model\n",
        "from sklearn.svm import SVR\n",
        "# Here is the metric to calculate model performance\n",
        "from sklearn.metrics import mean_squared_error"
      ]
    },
    {
      "cell_type": "code",
      "execution_count": 17,
      "metadata": {
        "id": "9n4y8tG_OKU8",
        "colab": {
          "base_uri": "https://localhost:8080/"
        },
        "outputId": "08617075-df91-4cfa-cddf-8ccfe53e6127"
      },
      "outputs": [
        {
          "output_type": "stream",
          "name": "stdout",
          "text": [
            "Mounted at /content/drive\n"
          ]
        }
      ],
      "source": [
        "from google.colab import drive\n",
        "drive.mount('/content/drive')"
      ]
    },
    {
      "cell_type": "code",
      "execution_count": 18,
      "metadata": {
        "id": "wtxrU50rzEZy"
      },
      "outputs": [],
      "source": [
        "import pandas as pd\n",
        "from sklearn.model_selection import train_test_split, GridSearchCV\n",
        "from sklearn.svm import SVC\n",
        "from sklearn.metrics import accuracy_score\n",
        "\n",
        "# Loading the Raisin dataset for classification\n",
        "# https://www.kaggle.com/datasets/muratkokludataset/raisin-dataset\n",
        "\n",
        "file_path = '/content/drive/MyDrive/ColabNotebooks/Raisin_Dataset.xlsx'\n",
        "# file_path='/Raisin_Dataset.xlsx'\n",
        "data = pd.read_excel(file_path)"
      ]
    },
    {
      "cell_type": "code",
      "source": [
        "# Dataset description\n",
        "print(data.describe())"
      ],
      "metadata": {
        "colab": {
          "base_uri": "https://localhost:8080/"
        },
        "id": "9nxkQuPBlrVu",
        "outputId": "b9a184bd-5699-45f8-f425-93ec11be190f"
      },
      "execution_count": 19,
      "outputs": [
        {
          "output_type": "stream",
          "name": "stdout",
          "text": [
            "                Area  MajorAxisLength  MinorAxisLength  Eccentricity  \\\n",
            "count     900.000000       900.000000       900.000000    900.000000   \n",
            "mean    87804.127778       430.929950       254.488133      0.781542   \n",
            "std     39002.111390       116.035121        49.988902      0.090318   \n",
            "min     25387.000000       225.629541       143.710872      0.348730   \n",
            "25%     59348.000000       345.442898       219.111126      0.741766   \n",
            "50%     78902.000000       407.803951       247.848409      0.798846   \n",
            "75%    105028.250000       494.187014       279.888575      0.842571   \n",
            "max    235047.000000       997.291941       492.275279      0.962124   \n",
            "\n",
            "          ConvexArea      Extent    Perimeter  \n",
            "count     900.000000  900.000000   900.000000  \n",
            "mean    91186.090000    0.699508  1165.906636  \n",
            "std     40769.290132    0.053468   273.764315  \n",
            "min     26139.000000    0.379856   619.074000  \n",
            "25%     61513.250000    0.670869   966.410750  \n",
            "50%     81651.000000    0.707367  1119.509000  \n",
            "75%    108375.750000    0.734991  1308.389750  \n",
            "max    278217.000000    0.835455  2697.753000  \n"
          ]
        }
      ]
    },
    {
      "cell_type": "code",
      "source": [
        "# Checking for nan value, and counting them\n",
        "print(\"Missing values count:\")\n",
        "print(data.isnull().sum())"
      ],
      "metadata": {
        "colab": {
          "base_uri": "https://localhost:8080/"
        },
        "id": "cmhR0Us4lwbk",
        "outputId": "7dfcf8fe-5b85-4e77-f1ae-6afd10e047ce"
      },
      "execution_count": 20,
      "outputs": [
        {
          "output_type": "stream",
          "name": "stdout",
          "text": [
            "Missing values count:\n",
            "Area               0\n",
            "MajorAxisLength    0\n",
            "MinorAxisLength    0\n",
            "Eccentricity       0\n",
            "ConvexArea         0\n",
            "Extent             0\n",
            "Perimeter          0\n",
            "Class              0\n",
            "dtype: int64\n"
          ]
        }
      ]
    },
    {
      "cell_type": "code",
      "source": [
        "# Split the dataset into a train dataset and a test dataset\n",
        "X = data.drop('Class', axis=1)\n",
        "y = data['Class']"
      ],
      "metadata": {
        "id": "fPKdQZMXlyJN"
      },
      "execution_count": 21,
      "outputs": []
    },
    {
      "cell_type": "code",
      "source": [
        "# Classification with SVR\n",
        "# Define the parameter grid for SVR\n",
        "param_grid = {\n",
        "    'C': [0.1, 1, 10],\n",
        "    'kernel': ['linear', 'poly'],\n",
        "    'gamma': ['scale']\n",
        "}\n",
        "\n",
        "# Split the dataset into a train dataset and a test dataset\n",
        "X_train, X_test, y_train, y_test = train_test_split(X, y, test_size=0.2, random_state=42, stratify=y)"
      ],
      "metadata": {
        "id": "KePlG6_bl03J"
      },
      "execution_count": 22,
      "outputs": []
    },
    {
      "cell_type": "code",
      "source": [
        "# Create a GridSearchCV object for regression\n",
        "svc_classification = SVC()\n",
        "grid_search_classification = GridSearchCV(estimator=svc_classification, param_grid=param_grid, cv=5, scoring='accuracy')"
      ],
      "metadata": {
        "id": "OvX6NBPpl4NO"
      },
      "execution_count": 23,
      "outputs": []
    },
    {
      "cell_type": "code",
      "source": [
        "# Fit the GridSearchCV to the data\n",
        "grid_search_classification.fit(X_train, y_train)"
      ],
      "metadata": {
        "id": "bPUZT8MHl53J",
        "colab": {
          "base_uri": "https://localhost:8080/",
          "height": 118
        },
        "outputId": "1e422911-c9fa-468c-a73b-a64578c7e678"
      },
      "execution_count": 24,
      "outputs": [
        {
          "output_type": "execute_result",
          "data": {
            "text/plain": [
              "GridSearchCV(cv=5, estimator=SVC(),\n",
              "             param_grid={'C': [0.1, 1, 10], 'gamma': ['scale'],\n",
              "                         'kernel': ['linear', 'poly']},\n",
              "             scoring='accuracy')"
            ],
            "text/html": [
              "<style>#sk-container-id-1 {color: black;background-color: white;}#sk-container-id-1 pre{padding: 0;}#sk-container-id-1 div.sk-toggleable {background-color: white;}#sk-container-id-1 label.sk-toggleable__label {cursor: pointer;display: block;width: 100%;margin-bottom: 0;padding: 0.3em;box-sizing: border-box;text-align: center;}#sk-container-id-1 label.sk-toggleable__label-arrow:before {content: \"▸\";float: left;margin-right: 0.25em;color: #696969;}#sk-container-id-1 label.sk-toggleable__label-arrow:hover:before {color: black;}#sk-container-id-1 div.sk-estimator:hover label.sk-toggleable__label-arrow:before {color: black;}#sk-container-id-1 div.sk-toggleable__content {max-height: 0;max-width: 0;overflow: hidden;text-align: left;background-color: #f0f8ff;}#sk-container-id-1 div.sk-toggleable__content pre {margin: 0.2em;color: black;border-radius: 0.25em;background-color: #f0f8ff;}#sk-container-id-1 input.sk-toggleable__control:checked~div.sk-toggleable__content {max-height: 200px;max-width: 100%;overflow: auto;}#sk-container-id-1 input.sk-toggleable__control:checked~label.sk-toggleable__label-arrow:before {content: \"▾\";}#sk-container-id-1 div.sk-estimator input.sk-toggleable__control:checked~label.sk-toggleable__label {background-color: #d4ebff;}#sk-container-id-1 div.sk-label input.sk-toggleable__control:checked~label.sk-toggleable__label {background-color: #d4ebff;}#sk-container-id-1 input.sk-hidden--visually {border: 0;clip: rect(1px 1px 1px 1px);clip: rect(1px, 1px, 1px, 1px);height: 1px;margin: -1px;overflow: hidden;padding: 0;position: absolute;width: 1px;}#sk-container-id-1 div.sk-estimator {font-family: monospace;background-color: #f0f8ff;border: 1px dotted black;border-radius: 0.25em;box-sizing: border-box;margin-bottom: 0.5em;}#sk-container-id-1 div.sk-estimator:hover {background-color: #d4ebff;}#sk-container-id-1 div.sk-parallel-item::after {content: \"\";width: 100%;border-bottom: 1px solid gray;flex-grow: 1;}#sk-container-id-1 div.sk-label:hover label.sk-toggleable__label {background-color: #d4ebff;}#sk-container-id-1 div.sk-serial::before {content: \"\";position: absolute;border-left: 1px solid gray;box-sizing: border-box;top: 0;bottom: 0;left: 50%;z-index: 0;}#sk-container-id-1 div.sk-serial {display: flex;flex-direction: column;align-items: center;background-color: white;padding-right: 0.2em;padding-left: 0.2em;position: relative;}#sk-container-id-1 div.sk-item {position: relative;z-index: 1;}#sk-container-id-1 div.sk-parallel {display: flex;align-items: stretch;justify-content: center;background-color: white;position: relative;}#sk-container-id-1 div.sk-item::before, #sk-container-id-1 div.sk-parallel-item::before {content: \"\";position: absolute;border-left: 1px solid gray;box-sizing: border-box;top: 0;bottom: 0;left: 50%;z-index: -1;}#sk-container-id-1 div.sk-parallel-item {display: flex;flex-direction: column;z-index: 1;position: relative;background-color: white;}#sk-container-id-1 div.sk-parallel-item:first-child::after {align-self: flex-end;width: 50%;}#sk-container-id-1 div.sk-parallel-item:last-child::after {align-self: flex-start;width: 50%;}#sk-container-id-1 div.sk-parallel-item:only-child::after {width: 0;}#sk-container-id-1 div.sk-dashed-wrapped {border: 1px dashed gray;margin: 0 0.4em 0.5em 0.4em;box-sizing: border-box;padding-bottom: 0.4em;background-color: white;}#sk-container-id-1 div.sk-label label {font-family: monospace;font-weight: bold;display: inline-block;line-height: 1.2em;}#sk-container-id-1 div.sk-label-container {text-align: center;}#sk-container-id-1 div.sk-container {/* jupyter's `normalize.less` sets `[hidden] { display: none; }` but bootstrap.min.css set `[hidden] { display: none !important; }` so we also need the `!important` here to be able to override the default hidden behavior on the sphinx rendered scikit-learn.org. See: https://github.com/scikit-learn/scikit-learn/issues/21755 */display: inline-block !important;position: relative;}#sk-container-id-1 div.sk-text-repr-fallback {display: none;}</style><div id=\"sk-container-id-1\" class=\"sk-top-container\"><div class=\"sk-text-repr-fallback\"><pre>GridSearchCV(cv=5, estimator=SVC(),\n",
              "             param_grid={&#x27;C&#x27;: [0.1, 1, 10], &#x27;gamma&#x27;: [&#x27;scale&#x27;],\n",
              "                         &#x27;kernel&#x27;: [&#x27;linear&#x27;, &#x27;poly&#x27;]},\n",
              "             scoring=&#x27;accuracy&#x27;)</pre><b>In a Jupyter environment, please rerun this cell to show the HTML representation or trust the notebook. <br />On GitHub, the HTML representation is unable to render, please try loading this page with nbviewer.org.</b></div><div class=\"sk-container\" hidden><div class=\"sk-item sk-dashed-wrapped\"><div class=\"sk-label-container\"><div class=\"sk-label sk-toggleable\"><input class=\"sk-toggleable__control sk-hidden--visually\" id=\"sk-estimator-id-1\" type=\"checkbox\" ><label for=\"sk-estimator-id-1\" class=\"sk-toggleable__label sk-toggleable__label-arrow\">GridSearchCV</label><div class=\"sk-toggleable__content\"><pre>GridSearchCV(cv=5, estimator=SVC(),\n",
              "             param_grid={&#x27;C&#x27;: [0.1, 1, 10], &#x27;gamma&#x27;: [&#x27;scale&#x27;],\n",
              "                         &#x27;kernel&#x27;: [&#x27;linear&#x27;, &#x27;poly&#x27;]},\n",
              "             scoring=&#x27;accuracy&#x27;)</pre></div></div></div><div class=\"sk-parallel\"><div class=\"sk-parallel-item\"><div class=\"sk-item\"><div class=\"sk-label-container\"><div class=\"sk-label sk-toggleable\"><input class=\"sk-toggleable__control sk-hidden--visually\" id=\"sk-estimator-id-2\" type=\"checkbox\" ><label for=\"sk-estimator-id-2\" class=\"sk-toggleable__label sk-toggleable__label-arrow\">estimator: SVC</label><div class=\"sk-toggleable__content\"><pre>SVC()</pre></div></div></div><div class=\"sk-serial\"><div class=\"sk-item\"><div class=\"sk-estimator sk-toggleable\"><input class=\"sk-toggleable__control sk-hidden--visually\" id=\"sk-estimator-id-3\" type=\"checkbox\" ><label for=\"sk-estimator-id-3\" class=\"sk-toggleable__label sk-toggleable__label-arrow\">SVC</label><div class=\"sk-toggleable__content\"><pre>SVC()</pre></div></div></div></div></div></div></div></div></div></div>"
            ]
          },
          "metadata": {},
          "execution_count": 24
        }
      ]
    },
    {
      "cell_type": "code",
      "source": [
        "# Get the best parameters\n",
        "print(\"Best Parameters for classification: \", grid_search_classification.best_params_)\n",
        "\n",
        "# Get the best estimator\n",
        "best_estimator_classification = grid_search_classification.best_estimator_\n",
        "print(\"Best Estimator for classification: \", best_estimator_classification)\n",
        "\n",
        "# Train the best estimator on the training data\n",
        "best_estimator_classification.fit(X_train, y_train)\n",
        "\n",
        "# Make predictions on the test data\n",
        "y_pred = best_estimator_classification.predict(X_test)\n",
        "\n",
        "# Calculate the test accuracy\n",
        "accuracy_classification = accuracy_score(y_test, y_pred)\n",
        "print(\"Test Accuracy for classification: \", accuracy_classification)\n"
      ],
      "metadata": {
        "id": "y--SB97QmBnR",
        "colab": {
          "base_uri": "https://localhost:8080/"
        },
        "outputId": "07a7dca3-9a4a-4de2-de44-dfbab265b746"
      },
      "execution_count": 25,
      "outputs": [
        {
          "output_type": "stream",
          "name": "stdout",
          "text": [
            "Best Parameters for classification:  {'C': 0.1, 'gamma': 'scale', 'kernel': 'linear'}\n",
            "Best Estimator for classification:  SVC(C=0.1, kernel='linear')\n",
            "Test Accuracy for classification:  0.8944444444444445\n"
          ]
        }
      ]
    },
    {
      "cell_type": "code",
      "source": [
        "import pandas as pd\n",
        "from sklearn.datasets import load_iris\n",
        "from sklearn.model_selection import train_test_split, GridSearchCV\n",
        "from sklearn.svm import SVC, SVR\n",
        "from sklearn.metrics import accuracy_score, mean_squared_error\n",
        "from sklearn.svm import LinearSVR\n",
        "\n",
        "\n",
        "# Loading the Raisin dataset for classification\n",
        "# https://www.kaggle.com/datasets/muratkokludataset/raisin-dataset\n",
        "file_path = '/content/drive/MyDrive/ColabNotebooks/Raisin_Dataset.xlsx'\n",
        "\n",
        "data = pd.read_excel(file_path)\n",
        "data['Class'] = data['Class'].replace({'Kecimen':0, 'Besni':1})\n",
        "data = pd.concat([data.head(100), data.tail(100)])\n",
        "\n",
        "# Split the dataset into a train dataset and a test dataset\n",
        "X = data.drop('Class', axis=1)\n",
        "y = data['Class']\n",
        "\n",
        "columns_to_drop = ['Area', 'ConvexArea', 'Eccentricity', 'MinorAxisLength']\n",
        "X = data.drop(columns_to_drop, axis=1)"
      ],
      "metadata": {
        "id": "rasa-knlMWLm"
      },
      "execution_count": 26,
      "outputs": []
    },
    {
      "cell_type": "code",
      "source": [
        "# Data description\n",
        "print(data.describe())"
      ],
      "metadata": {
        "id": "Hi8f8OnylIlm",
        "colab": {
          "base_uri": "https://localhost:8080/"
        },
        "outputId": "a045d91f-3ee6-423d-99a1-ce1f1d05f85d"
      },
      "execution_count": 27,
      "outputs": [
        {
          "output_type": "stream",
          "name": "stdout",
          "text": [
            "                Area  MajorAxisLength  MinorAxisLength  Eccentricity  \\\n",
            "count     200.000000       200.000000       200.000000    200.000000   \n",
            "mean    87860.895000       428.214245       255.753610      0.774959   \n",
            "std     40606.384512       118.330707        52.098853      0.096046   \n",
            "min     25387.000000       225.629541       144.618672      0.369212   \n",
            "25%     59348.000000       338.374126       217.954768      0.732969   \n",
            "50%     77389.000000       404.436161       247.157476      0.787953   \n",
            "75%    103158.500000       491.485690       290.150506      0.845559   \n",
            "max    235047.000000       949.662672       492.275279      0.951082   \n",
            "\n",
            "          ConvexArea      Extent    Perimeter       Class  \n",
            "count     200.000000  200.000000   200.000000  200.000000  \n",
            "mean    91139.790000    0.701433  1161.562280    0.500000  \n",
            "std     42456.047887    0.055631   279.693055    0.501255  \n",
            "min     26139.000000    0.414154   619.074000    0.000000  \n",
            "25%     61620.750000    0.674128   971.009000    0.000000  \n",
            "50%     79485.000000    0.702666  1100.756000    0.500000  \n",
            "75%    107400.250000    0.739789  1286.724500    1.000000  \n",
            "max    239093.000000    0.824319  2352.029000    1.000000  \n"
          ]
        }
      ]
    },
    {
      "cell_type": "code",
      "source": [
        "# Checking for nan value, and counting them\n",
        "print(\"Nan values count:\")\n",
        "print(data.isnull().sum())"
      ],
      "metadata": {
        "id": "f77-uy4AlMKA",
        "colab": {
          "base_uri": "https://localhost:8080/"
        },
        "outputId": "aef7e3a3-16ae-453a-be51-97878630e9b6"
      },
      "execution_count": 28,
      "outputs": [
        {
          "output_type": "stream",
          "name": "stdout",
          "text": [
            "Nan values count:\n",
            "Area               0\n",
            "MajorAxisLength    0\n",
            "MinorAxisLength    0\n",
            "Eccentricity       0\n",
            "ConvexArea         0\n",
            "Extent             0\n",
            "Perimeter          0\n",
            "Class              0\n",
            "dtype: int64\n"
          ]
        }
      ]
    },
    {
      "cell_type": "code",
      "source": [
        "# Split the dataset into a train dataset and a test dataset\n",
        "X_train, X_test, y_train, y_test = train_test_split(X, y, test_size=0.2, random_state=0, stratify=y)\n",
        "\n",
        "# Regression with SVR\n",
        "# Define the parameter grid for SVR\n",
        "param_grid_regression = {\n",
        "    'C': [0.1, 1],\n",
        "    'kernel': ['linear', 'poly'],\n",
        "    'gamma': ['scale']\n",
        "}\n",
        "\n",
        "# Create a GridSearchCV object for regression\n",
        "svr_regression = SVR()"
      ],
      "metadata": {
        "id": "MV7vi1VPlPIX"
      },
      "execution_count": 29,
      "outputs": []
    },
    {
      "cell_type": "code",
      "source": [
        "# grid_search_regression = GridSearchCV(estimator=svr_regression, param_grid=param_grid_regression, cv=5, scoring='neg_mean_squared_error')\n",
        "grid_search_regression = GridSearchCV(estimator=svr_regression, param_grid=param_grid_regression, cv=5, scoring='neg_mean_squared_error', n_jobs=-1)"
      ],
      "metadata": {
        "id": "l1rA-7-IlTxO"
      },
      "execution_count": 30,
      "outputs": []
    },
    {
      "cell_type": "code",
      "source": [
        "# Fit the GridSearchCV to the data\n",
        "grid_search_regression.fit(X_train, y_train)"
      ],
      "metadata": {
        "id": "gxmgX36llWS9",
        "colab": {
          "base_uri": "https://localhost:8080/",
          "height": 118
        },
        "outputId": "3087f848-6804-415e-d5d9-8f76e3e4b78f"
      },
      "execution_count": 31,
      "outputs": [
        {
          "output_type": "execute_result",
          "data": {
            "text/plain": [
              "GridSearchCV(cv=5, estimator=SVR(), n_jobs=-1,\n",
              "             param_grid={'C': [0.1, 1], 'gamma': ['scale'],\n",
              "                         'kernel': ['linear', 'poly']},\n",
              "             scoring='neg_mean_squared_error')"
            ],
            "text/html": [
              "<style>#sk-container-id-2 {color: black;background-color: white;}#sk-container-id-2 pre{padding: 0;}#sk-container-id-2 div.sk-toggleable {background-color: white;}#sk-container-id-2 label.sk-toggleable__label {cursor: pointer;display: block;width: 100%;margin-bottom: 0;padding: 0.3em;box-sizing: border-box;text-align: center;}#sk-container-id-2 label.sk-toggleable__label-arrow:before {content: \"▸\";float: left;margin-right: 0.25em;color: #696969;}#sk-container-id-2 label.sk-toggleable__label-arrow:hover:before {color: black;}#sk-container-id-2 div.sk-estimator:hover label.sk-toggleable__label-arrow:before {color: black;}#sk-container-id-2 div.sk-toggleable__content {max-height: 0;max-width: 0;overflow: hidden;text-align: left;background-color: #f0f8ff;}#sk-container-id-2 div.sk-toggleable__content pre {margin: 0.2em;color: black;border-radius: 0.25em;background-color: #f0f8ff;}#sk-container-id-2 input.sk-toggleable__control:checked~div.sk-toggleable__content {max-height: 200px;max-width: 100%;overflow: auto;}#sk-container-id-2 input.sk-toggleable__control:checked~label.sk-toggleable__label-arrow:before {content: \"▾\";}#sk-container-id-2 div.sk-estimator input.sk-toggleable__control:checked~label.sk-toggleable__label {background-color: #d4ebff;}#sk-container-id-2 div.sk-label input.sk-toggleable__control:checked~label.sk-toggleable__label {background-color: #d4ebff;}#sk-container-id-2 input.sk-hidden--visually {border: 0;clip: rect(1px 1px 1px 1px);clip: rect(1px, 1px, 1px, 1px);height: 1px;margin: -1px;overflow: hidden;padding: 0;position: absolute;width: 1px;}#sk-container-id-2 div.sk-estimator {font-family: monospace;background-color: #f0f8ff;border: 1px dotted black;border-radius: 0.25em;box-sizing: border-box;margin-bottom: 0.5em;}#sk-container-id-2 div.sk-estimator:hover {background-color: #d4ebff;}#sk-container-id-2 div.sk-parallel-item::after {content: \"\";width: 100%;border-bottom: 1px solid gray;flex-grow: 1;}#sk-container-id-2 div.sk-label:hover label.sk-toggleable__label {background-color: #d4ebff;}#sk-container-id-2 div.sk-serial::before {content: \"\";position: absolute;border-left: 1px solid gray;box-sizing: border-box;top: 0;bottom: 0;left: 50%;z-index: 0;}#sk-container-id-2 div.sk-serial {display: flex;flex-direction: column;align-items: center;background-color: white;padding-right: 0.2em;padding-left: 0.2em;position: relative;}#sk-container-id-2 div.sk-item {position: relative;z-index: 1;}#sk-container-id-2 div.sk-parallel {display: flex;align-items: stretch;justify-content: center;background-color: white;position: relative;}#sk-container-id-2 div.sk-item::before, #sk-container-id-2 div.sk-parallel-item::before {content: \"\";position: absolute;border-left: 1px solid gray;box-sizing: border-box;top: 0;bottom: 0;left: 50%;z-index: -1;}#sk-container-id-2 div.sk-parallel-item {display: flex;flex-direction: column;z-index: 1;position: relative;background-color: white;}#sk-container-id-2 div.sk-parallel-item:first-child::after {align-self: flex-end;width: 50%;}#sk-container-id-2 div.sk-parallel-item:last-child::after {align-self: flex-start;width: 50%;}#sk-container-id-2 div.sk-parallel-item:only-child::after {width: 0;}#sk-container-id-2 div.sk-dashed-wrapped {border: 1px dashed gray;margin: 0 0.4em 0.5em 0.4em;box-sizing: border-box;padding-bottom: 0.4em;background-color: white;}#sk-container-id-2 div.sk-label label {font-family: monospace;font-weight: bold;display: inline-block;line-height: 1.2em;}#sk-container-id-2 div.sk-label-container {text-align: center;}#sk-container-id-2 div.sk-container {/* jupyter's `normalize.less` sets `[hidden] { display: none; }` but bootstrap.min.css set `[hidden] { display: none !important; }` so we also need the `!important` here to be able to override the default hidden behavior on the sphinx rendered scikit-learn.org. See: https://github.com/scikit-learn/scikit-learn/issues/21755 */display: inline-block !important;position: relative;}#sk-container-id-2 div.sk-text-repr-fallback {display: none;}</style><div id=\"sk-container-id-2\" class=\"sk-top-container\"><div class=\"sk-text-repr-fallback\"><pre>GridSearchCV(cv=5, estimator=SVR(), n_jobs=-1,\n",
              "             param_grid={&#x27;C&#x27;: [0.1, 1], &#x27;gamma&#x27;: [&#x27;scale&#x27;],\n",
              "                         &#x27;kernel&#x27;: [&#x27;linear&#x27;, &#x27;poly&#x27;]},\n",
              "             scoring=&#x27;neg_mean_squared_error&#x27;)</pre><b>In a Jupyter environment, please rerun this cell to show the HTML representation or trust the notebook. <br />On GitHub, the HTML representation is unable to render, please try loading this page with nbviewer.org.</b></div><div class=\"sk-container\" hidden><div class=\"sk-item sk-dashed-wrapped\"><div class=\"sk-label-container\"><div class=\"sk-label sk-toggleable\"><input class=\"sk-toggleable__control sk-hidden--visually\" id=\"sk-estimator-id-4\" type=\"checkbox\" ><label for=\"sk-estimator-id-4\" class=\"sk-toggleable__label sk-toggleable__label-arrow\">GridSearchCV</label><div class=\"sk-toggleable__content\"><pre>GridSearchCV(cv=5, estimator=SVR(), n_jobs=-1,\n",
              "             param_grid={&#x27;C&#x27;: [0.1, 1], &#x27;gamma&#x27;: [&#x27;scale&#x27;],\n",
              "                         &#x27;kernel&#x27;: [&#x27;linear&#x27;, &#x27;poly&#x27;]},\n",
              "             scoring=&#x27;neg_mean_squared_error&#x27;)</pre></div></div></div><div class=\"sk-parallel\"><div class=\"sk-parallel-item\"><div class=\"sk-item\"><div class=\"sk-label-container\"><div class=\"sk-label sk-toggleable\"><input class=\"sk-toggleable__control sk-hidden--visually\" id=\"sk-estimator-id-5\" type=\"checkbox\" ><label for=\"sk-estimator-id-5\" class=\"sk-toggleable__label sk-toggleable__label-arrow\">estimator: SVR</label><div class=\"sk-toggleable__content\"><pre>SVR()</pre></div></div></div><div class=\"sk-serial\"><div class=\"sk-item\"><div class=\"sk-estimator sk-toggleable\"><input class=\"sk-toggleable__control sk-hidden--visually\" id=\"sk-estimator-id-6\" type=\"checkbox\" ><label for=\"sk-estimator-id-6\" class=\"sk-toggleable__label sk-toggleable__label-arrow\">SVR</label><div class=\"sk-toggleable__content\"><pre>SVR()</pre></div></div></div></div></div></div></div></div></div></div>"
            ]
          },
          "metadata": {},
          "execution_count": 31
        }
      ]
    },
    {
      "cell_type": "code",
      "source": [
        "# Get the best parameters\n",
        "best_params_regression = grid_search_regression.best_params_\n",
        "print(\"Best Parameters for Regression:\", best_params_regression)\n",
        "\n",
        "# Get the estimator\n",
        "best_estimator_regression = grid_search_regression.best_estimator_\n",
        "print(\"Best Estimator for Regression:\", best_estimator_regression)\n",
        "\n",
        "# Calculate the mean squared error\n",
        "y_pred_regression = best_estimator_regression.predict(X_test)\n",
        "mse_regression = mean_squared_error(y_test, y_pred_regression)\n",
        "\n",
        "print(\"MSE for Regression:\", mse_regression)"
      ],
      "metadata": {
        "id": "RBmVc-fklZDc",
        "colab": {
          "base_uri": "https://localhost:8080/"
        },
        "outputId": "1785f16c-66cb-4f92-a7b0-9a1338b3e9b5"
      },
      "execution_count": 32,
      "outputs": [
        {
          "output_type": "stream",
          "name": "stdout",
          "text": [
            "Best Parameters for Regression: {'C': 1, 'gamma': 'scale', 'kernel': 'linear'}\n",
            "Best Estimator for Regression: SVR(C=1, kernel='linear')\n",
            "MSE for Regression: 0.006703964744679605\n"
          ]
        }
      ]
    },
    {
      "cell_type": "markdown",
      "metadata": {
        "id": "ydHDJmQDb8Jb"
      },
      "source": [
        "**Write your understanding of the model and different kernel in 200 to 400 words**"
      ]
    },
    {
      "cell_type": "markdown",
      "metadata": {
        "id": "o4wJq-onzGXi"
      },
      "source": [
        "* SVM (Support Vector Machine) is a versatile machine learning tool. It's great for classification and regression.\n",
        "* Classification: Separating things into categories, like spam and non-spam emails.\n",
        "* Regression: Predicting numbers, like house prices.\n",
        "* It estimates the best possible boundary between data points while concentrating on maximizing the margin.\n",
        "\n",
        "* Stochastic Gradient Descent (SGD) produces a faster but noisier convergence since the model weights are updated for each training example.\n",
        "* In synchronous training, weights are updated at the same time, while asynchronous updates occur at different times. * Async can be faster but less stable.\n",
        "* Complex models with many parameters can fit training data too closely, which leads to overfitting and poor generalization to new data.\n",
        "* Simple models with insufficient complexity may struggle to capture the underlying patterns in the data, resulting in underfitting.\n",
        "* The sum of feature differences (x-xi) is used to measure similarity between data points.\n",
        "*  The 'degree' parameter in polynomial kernels controls the degree of the polynomial used in decision functions.\n",
        "* Gamma in SVM is a hyperparameter that influences the shape of the decision boundary; lower values lead to simpler, more localized boundaries, while higher values create more complex, global boundaries.\n",
        "* SVM can use different kernel functions like 'linear' or 'poly' to transform data into higher-dimensional spaces for more complex decision boundaries.\n",
        "\n",
        "# Classification:\n",
        "* The data used for the classification Raisin dataset.\n",
        "* It contains Area, Perimeter, etc.\n",
        "* For this dataset there are no missing values.\n",
        "* The best hyperparameters identified by GridSearchCV have a 'gamma', 'scale' and a 'kernel' of 'linear'. For the Support Vector Classifier (SVC), these hyperparameters are seen as optimum.\n",
        "* An SVC with a linear kernel functions as the best estimator for classification. This indicates that the model's classification decision boundary should be linear.\n",
        "* The accuracy of this model is 85.55%\n",
        "\n",
        "#Regression:\n",
        "* For the regression model I used Raisin dataset.\n",
        "* I used only 200 data and removed a few features because the regression was taking too long to run.\n",
        "* I converted the target values as 'Kecimen' to 0 and 'Besni' to 1.\n",
        "* The regularisation strength of \"C\" is 1.\n",
        "* Scale (Automatic scaling): Gamma\n",
        "* Linear decision boundary for the \"kernel\"\n",
        "* SVR with the provided hyperparameters is the best regression estimator.\n",
        "* Mean Squared Error for Regression (MSE): The model predictions and actual values in the test data are well aligned, as shown by the MSE of about 0.0067."
      ]
    },
    {
      "cell_type": "code",
      "source": [],
      "metadata": {
        "id": "fVtfKk4aSe3X"
      },
      "execution_count": 32,
      "outputs": []
    }
  ],
  "metadata": {
    "colab": {
      "provenance": []
    },
    "kernelspec": {
      "display_name": "Python 3",
      "name": "python3"
    },
    "language_info": {
      "name": "python"
    }
  },
  "nbformat": 4,
  "nbformat_minor": 0
}